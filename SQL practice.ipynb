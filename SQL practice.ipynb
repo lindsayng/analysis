{
 "cells": [
  {
   "cell_type": "code",
   "execution_count": 1,
   "metadata": {
    "collapsed": true
   },
   "outputs": [],
   "source": [
    "import pg8000          #pg8000 access SQL databases\n",
    "import pandas as pd    #pandas will be needed to work in a dataframe"
   ]
  },
  {
   "cell_type": "code",
   "execution_count": 2,
   "metadata": {
    "collapsed": true
   },
   "outputs": [],
   "source": [
    "#code from Agata\n",
    "#these are nice functions to open LIMS, make a query and then close LIMS after\n",
    "\n",
    "def _connect(user=\"limsreader\", host=\"limsdb2\", database=\"lims2\", password=\"limsro\", port=5432):\n",
    "    conn = pg8000.connect(user=user, host=host, database=database, password=password, port=port)\n",
    "    return conn, conn.cursor()\n",
    "\n",
    "def _select(cursor, query):\n",
    "    cursor.execute(query)\n",
    "    columns = [ d[0] for d in cursor.description ]\n",
    "    return [ dict(zip(columns, c)) for c in cursor.fetchall() ]\n",
    "\n",
    "def limsquery(query, user=\"limsreader\", host=\"limsdb2\", database=\"lims2\", password=\"limsro\", port=5432):\n",
    "    \"\"\"A function that takes a string containing a SQL query, connects to the LIMS database and outputs the result.\"\"\"\n",
    "    conn, cursor = _connect(user, host, database, password, port)\n",
    "    try:\n",
    "        results = _select(cursor, query)\n",
    "    finally:\n",
    "        \n",
    "        #THESE ARE IMPORTANT!!!!!!\n",
    "        #Every query needs to be closed when done\n",
    "        cursor.close()             \n",
    "        conn.close()\n",
    "    return results\n",
    "\n",
    "\n",
    "#this last function will take our query results and put them in a dataframe so that they are easy to work with\n",
    "def get_lims_dataframe(query):\n",
    "    '''Return a dataframe with lims query'''\n",
    "    result = limsquery(query)\n",
    "    try:\n",
    "        data_df = pd.DataFrame(data=result, columns=result[0].keys())\n",
    "    except IndexError:\n",
    "        print \"Could not find results for your query.\"\n",
    "        data_df = pd.DataFrame()\n",
    "    return data_df"
   ]
  },
  {
   "cell_type": "markdown",
   "metadata": {},
   "source": [
    "## Find how many cells took longer to find instanteous threshold than they did to find rheobase (ie more SSFINEST than LSFINEST sweeps)."
   ]
  },
  {
   "cell_type": "code",
   "execution_count": 12,
   "metadata": {},
   "outputs": [
    {
     "data": {
      "text/html": [
       "<div>\n",
       "<table border=\"1\" class=\"dataframe\">\n",
       "  <thead>\n",
       "    <tr style=\"text-align: right;\">\n",
       "      <th></th>\n",
       "      <th>shortsquare</th>\n",
       "      <th>longsquare</th>\n",
       "      <th>cell_name</th>\n",
       "    </tr>\n",
       "  </thead>\n",
       "  <tbody>\n",
       "    <tr>\n",
       "      <th>0</th>\n",
       "      <td>5</td>\n",
       "      <td>4</td>\n",
       "      <td>Oxtr-T2A-Cre;Ai14-351471.04.01.01</td>\n",
       "    </tr>\n",
       "    <tr>\n",
       "      <th>1</th>\n",
       "      <td>0</td>\n",
       "      <td>4</td>\n",
       "      <td>Slc32a1-IRES-Cre;Ai14-326812.04.02.05</td>\n",
       "    </tr>\n",
       "    <tr>\n",
       "      <th>2</th>\n",
       "      <td>3</td>\n",
       "      <td>1</td>\n",
       "      <td>Slc32a1-IRES-Cre;Ai14-305535.06.02.01</td>\n",
       "    </tr>\n",
       "    <tr>\n",
       "      <th>3</th>\n",
       "      <td>7</td>\n",
       "      <td>0</td>\n",
       "      <td>Gad2-IRES-Cre;Ai14-267341.07.02.02</td>\n",
       "    </tr>\n",
       "    <tr>\n",
       "      <th>4</th>\n",
       "      <td>3</td>\n",
       "      <td>0</td>\n",
       "      <td>Slc17a6-IRES-Cre;Ai14-309388.03.01.01</td>\n",
       "    </tr>\n",
       "  </tbody>\n",
       "</table>\n",
       "</div>"
      ],
      "text/plain": [
       "   shortsquare  longsquare                              cell_name\n",
       "0            5           4      Oxtr-T2A-Cre;Ai14-351471.04.01.01\n",
       "1            0           4  Slc32a1-IRES-Cre;Ai14-326812.04.02.05\n",
       "2            3           1  Slc32a1-IRES-Cre;Ai14-305535.06.02.01\n",
       "3            7           0     Gad2-IRES-Cre;Ai14-267341.07.02.02\n",
       "4            3           0  Slc17a6-IRES-Cre;Ai14-309388.03.01.01"
      ]
     },
     "execution_count": 12,
     "metadata": {},
     "output_type": "execute_result"
    }
   ],
   "source": [
    "query = \"SELECT cell.name AS cell_name, \\\n",
    "COUNT(CASE WHEN ephys_stimuli.description LIKE '%%C1LSFINEST150112%%' THEN 1 ELSE NULL END) AS longsquare, \\\n",
    "COUNT(CASE WHEN ephys_stimuli.description LIKE '%%C1SSFINEST150112%%' THEN 1 ELSE NULL END) AS shortsquare \\\n",
    "FROM specimens cell JOIN ephys_sweeps ess ON cell.id = ess.specimen_id \\\n",
    "JOIN ephys_stimuli ON ess.ephys_stimulus_id = ephys_stimuli.id \\\n",
    "WHERE cell.patched_cell_container NOTNULL \\\n",
    "GROUP BY cell.name\"\n",
    "\n",
    "df2 = get_lims_dataframe(query)\n",
    "df2.head()"
   ]
  },
  {
   "cell_type": "code",
   "execution_count": 16,
   "metadata": {},
   "outputs": [
    {
     "data": {
      "text/plain": [
       "shortsquare    3353\n",
       "longsquare     3353\n",
       "cell_name      3353\n",
       "dtype: int64"
      ]
     },
     "execution_count": 16,
     "metadata": {},
     "output_type": "execute_result"
    }
   ],
   "source": [
    "df2[df2['shortsquare'] > df2['longsquare']].count()"
   ]
  },
  {
   "cell_type": "code",
   "execution_count": null,
   "metadata": {
    "collapsed": true
   },
   "outputs": [],
   "source": []
  }
 ],
 "metadata": {
  "kernelspec": {
   "display_name": "Python 2",
   "language": "python",
   "name": "python2"
  },
  "language_info": {
   "codemirror_mode": {
    "name": "ipython",
    "version": 2
   },
   "file_extension": ".py",
   "mimetype": "text/x-python",
   "name": "python",
   "nbconvert_exporter": "python",
   "pygments_lexer": "ipython2",
   "version": "2.7.13"
  }
 },
 "nbformat": 4,
 "nbformat_minor": 2
}
