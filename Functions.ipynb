{
 "cells": [
  {
   "cell_type": "code",
   "execution_count": 1,
   "metadata": {
    "collapsed": true
   },
   "outputs": [],
   "source": [
    "import os\n",
    "import pg8000          #pg8000 access SQL databases\n",
    "import pandas as pd    #pandas will be needed to work in a dataframe"
   ]
  },
  {
   "cell_type": "code",
   "execution_count": 2,
   "metadata": {
    "collapsed": true
   },
   "outputs": [],
   "source": [
    "#code from Agata\n",
    "#these are nice functions to open LIMS, make a query and then close LIMS after\n",
    "\n",
    "def _connect(user=\"limsreader\", host=\"limsdb2\", database=\"lims2\", password=\"limsro\", port=5432):\n",
    "    conn = pg8000.connect(user=user, host=host, database=database, password=password, port=port)\n",
    "    return conn, conn.cursor()\n",
    "\n",
    "def _select(cursor, query):\n",
    "    cursor.execute(query)\n",
    "    columns = [ d[0] for d in cursor.description ]\n",
    "    return [ dict(zip(columns, c)) for c in cursor.fetchall() ]\n",
    "\n",
    "def limsquery(query, user=\"limsreader\", host=\"limsdb2\", database=\"lims2\", password=\"limsro\", port=5432):\n",
    "    \"\"\"A function that takes a string containing a SQL query, connects to the LIMS database and outputs the result.\"\"\"\n",
    "    conn, cursor = _connect(user, host, database, password, port)\n",
    "    try:\n",
    "        results = _select(cursor, query)\n",
    "    finally:\n",
    "        \n",
    "        #THESE ARE IMPORTANT!!!!!!\n",
    "        #Every query needs to be closed when done\n",
    "        cursor.close()             \n",
    "        conn.close()\n",
    "    return results\n",
    "\n",
    "\n",
    "#this last function will take our query results and put them in a dataframe so that they are easy to work with\n",
    "def get_lims_dataframe(query):\n",
    "    '''Return a dataframe with lims query'''\n",
    "    result = limsquery(query)\n",
    "    try:\n",
    "        data_df = pd.DataFrame(data=result, columns=result[0].keys())\n",
    "    except IndexError:\n",
    "        print \"Could not find results for your query.\"\n",
    "        data_df = pd.DataFrame()\n",
    "    return data_df"
   ]
  },
  {
   "cell_type": "markdown",
   "metadata": {},
   "source": [
    "# Practice"
   ]
  },
  {
   "cell_type": "code",
   "execution_count": 3,
   "metadata": {
    "collapsed": true
   },
   "outputs": [],
   "source": [
    "def find_slices(specimen):\n",
    "    \"\"\"Return the names of slices used from a particular mouse prep.\n",
    "     \n",
    "    Parameters\n",
    "    ----------\n",
    "    specimen : integer corresponding to mouse specimen name\n",
    "    \n",
    "    Returns\n",
    "    -------\n",
    "    strings of slice names\n",
    "    \"\"\"\n",
    "   \n",
    "    for file in os.listdir('Z:/Patch-Seq/all-metadata-files'):\n",
    "        if str(specimen) in file:\n",
    "            print file[-20:-8]\n"
   ]
  },
  {
   "cell_type": "code",
   "execution_count": 4,
   "metadata": {},
   "outputs": [
    {
     "name": "stdout",
     "output_type": "stream",
     "text": [
      "387688.08.06\n",
      "387688.09.06\n",
      "387688.11.06\n"
     ]
    }
   ],
   "source": [
    "find_slices(387688)"
   ]
  },
  {
   "cell_type": "markdown",
   "metadata": {},
   "source": [
    "# Make user report"
   ]
  },
  {
   "cell_type": "code",
   "execution_count": 5,
   "metadata": {},
   "outputs": [
    {
     "data": {
      "text/html": [
       "<div>\n",
       "<table border=\"1\" class=\"dataframe\">\n",
       "  <thead>\n",
       "    <tr style=\"text-align: right;\">\n",
       "      <th></th>\n",
       "      <th>patched_cell_container</th>\n",
       "      <th>recording_date</th>\n",
       "    </tr>\n",
       "  </thead>\n",
       "  <tbody>\n",
       "    <tr>\n",
       "      <th>0</th>\n",
       "      <td>P8S4_171002_351_A01</td>\n",
       "      <td>2017-10-02 17:55:51</td>\n",
       "    </tr>\n",
       "    <tr>\n",
       "      <th>1</th>\n",
       "      <td>P9S4_171002_401_A01</td>\n",
       "      <td>2017-10-02 18:00:47</td>\n",
       "    </tr>\n",
       "    <tr>\n",
       "      <th>2</th>\n",
       "      <td>P8S4_171002_352_A01</td>\n",
       "      <td>2017-10-02 18:17:44</td>\n",
       "    </tr>\n",
       "    <tr>\n",
       "      <th>3</th>\n",
       "      <td>P2S4_171002_051_A01</td>\n",
       "      <td>2017-10-02 18:29:21</td>\n",
       "    </tr>\n",
       "    <tr>\n",
       "      <th>4</th>\n",
       "      <td>P8S4_171002_353_A01</td>\n",
       "      <td>2017-10-02 18:47:06</td>\n",
       "    </tr>\n",
       "  </tbody>\n",
       "</table>\n",
       "</div>"
      ],
      "text/plain": [
       "  patched_cell_container      recording_date\n",
       "0    P8S4_171002_351_A01 2017-10-02 17:55:51\n",
       "1    P9S4_171002_401_A01 2017-10-02 18:00:47\n",
       "2    P8S4_171002_352_A01 2017-10-02 18:17:44\n",
       "3    P2S4_171002_051_A01 2017-10-02 18:29:21\n",
       "4    P8S4_171002_353_A01 2017-10-02 18:47:06"
      ]
     },
     "execution_count": 5,
     "metadata": {},
     "output_type": "execute_result"
    }
   ],
   "source": [
    "query = \"SELECT s.patched_cell_container, err.recording_date \\\n",
    "FROM specimens s \\\n",
    "JOIN projects proj ON s.project_id = proj.id \\\n",
    "JOIN ephys_roi_results err ON s.ephys_roi_result_id = err.id \\\n",
    "WHERE proj.code <> 'mMPATCH' AND \\\n",
    "s.patched_cell_container IS NOT NULL \\\n",
    "AND err.recording_date > '2017-10-01'\"\n",
    "\n",
    "patched_cell_df = get_lims_dataframe(query)\n",
    "patched_cell_df.head()"
   ]
  },
  {
   "cell_type": "code",
   "execution_count": 6,
   "metadata": {},
   "outputs": [
    {
     "data": {
      "text/html": [
       "<div>\n",
       "<table border=\"1\" class=\"dataframe\">\n",
       "  <thead>\n",
       "    <tr style=\"text-align: right;\">\n",
       "      <th></th>\n",
       "      <th>failed</th>\n",
       "      <th>patched_cell_container</th>\n",
       "      <th>recording_date</th>\n",
       "    </tr>\n",
       "  </thead>\n",
       "  <tbody>\n",
       "    <tr>\n",
       "      <th>0</th>\n",
       "      <td>False</td>\n",
       "      <td>P8S4_171002_351_A01</td>\n",
       "      <td>2017-10-02 17:55:51</td>\n",
       "    </tr>\n",
       "    <tr>\n",
       "      <th>1</th>\n",
       "      <td>False</td>\n",
       "      <td>P9S4_171002_401_A01</td>\n",
       "      <td>2017-10-02 18:00:47</td>\n",
       "    </tr>\n",
       "    <tr>\n",
       "      <th>2</th>\n",
       "      <td>False</td>\n",
       "      <td>P2S4_171002_051_A01</td>\n",
       "      <td>2017-10-02 18:29:21</td>\n",
       "    </tr>\n",
       "    <tr>\n",
       "      <th>3</th>\n",
       "      <td>False</td>\n",
       "      <td>P8S4_171002_353_A01</td>\n",
       "      <td>2017-10-02 18:47:06</td>\n",
       "    </tr>\n",
       "    <tr>\n",
       "      <th>4</th>\n",
       "      <td>False</td>\n",
       "      <td>P2S4_171002_052_A01</td>\n",
       "      <td>2017-10-02 19:03:11</td>\n",
       "    </tr>\n",
       "  </tbody>\n",
       "</table>\n",
       "</div>"
      ],
      "text/plain": [
       "  failed patched_cell_container      recording_date\n",
       "0  False    P8S4_171002_351_A01 2017-10-02 17:55:51\n",
       "1  False    P9S4_171002_401_A01 2017-10-02 18:00:47\n",
       "2  False    P2S4_171002_051_A01 2017-10-02 18:29:21\n",
       "3  False    P8S4_171002_353_A01 2017-10-02 18:47:06\n",
       "4  False    P2S4_171002_052_A01 2017-10-02 19:03:11"
      ]
     },
     "execution_count": 6,
     "metadata": {},
     "output_type": "execute_result"
    }
   ],
   "source": [
    "query2 = \"SELECT s.patched_cell_container, err.recording_date, ra.failed \\\n",
    "FROM specimens s \\\n",
    "JOIN projects proj ON s.project_id = proj.id \\\n",
    "JOIN ephys_roi_results err ON s.ephys_roi_result_id = err.id \\\n",
    "JOIN rna_amplification_inputs rai on rai.sample_id = s.id \\\n",
    "JOIN rna_amplifications ra on ra.id = rai.rna_amplification_id \\\n",
    "WHERE proj.code <> 'mMPATCH' AND \\\n",
    "s.patched_cell_container IS NOT NULL \\\n",
    "AND ra.failed = 'False' \\\n",
    "AND err.recording_date > '2017-10-01'\"\n",
    "\n",
    "QC_passed_df = get_lims_dataframe(query2)\n",
    "QC_passed_df.head()"
   ]
  },
  {
   "cell_type": "code",
   "execution_count": 7,
   "metadata": {
    "collapsed": true
   },
   "outputs": [],
   "source": [
    "def cell_count(P_number, df):\n",
    "    \"\"\"Return the number of cells in a specified dataframe for a specified user.\n",
    "     \n",
    "    Parameters\n",
    "    ----------\n",
    "    P_number : A string. Corresponds to the user's P number in the form of P1, P2, P3, etc.\n",
    "    df: a pandas dataframe\n",
    "    \n",
    "    Returns\n",
    "    -------\n",
    "    An integer cell number\n",
    "    \"\"\"\n",
    "    user = df[df[\"patched_cell_container\"].str.contains(P_number)]\n",
    "    return user[\"patched_cell_container\"].count()\n",
    "    "
   ]
  },
  {
   "cell_type": "code",
   "execution_count": 8,
   "metadata": {},
   "outputs": [
    {
     "name": "stdout",
     "output_type": "stream",
     "text": [
      "Total cells patched: 700\n",
      "Cells that passed RNA seq QC: 467\n",
      "QC pass percentage: 0.667142857143\n"
     ]
    }
   ],
   "source": [
    "print \"Total cells patched:\", cell_count('P8',patched_cell_df)\n",
    "print \"Cells that passed RNA seq QC:\", cell_count('P8',QC_passed_df)\n",
    "print \"QC pass percentage:\", float((cell_count('P8',QC_passed_df)))/float((cell_count('P8',patched_cell_df)))"
   ]
  },
  {
   "cell_type": "code",
   "execution_count": 9,
   "metadata": {},
   "outputs": [],
   "source": [
    "def per_user(P_number):\n",
    "    \"\"\"Returns a summary of patcher metrics for a specified user.\n",
    "     \n",
    "    Parameters\n",
    "    ----------\n",
    "    P_number : A string. Corresponds to the user's P number in the form of P1, P2, P3, etc.\n",
    "        \n",
    "    Returns\n",
    "    -------\n",
    "    Returns None\n",
    "    Prints a summary of patcher metrics, including total cells patched, cells that passed RNA seq QC, and QC pass percentage\n",
    "    \"\"\"\n",
    "    print \"Total cells patched:\", cell_count(P_number,patched_cell_df)\n",
    "    print \"Cells that passed RNA seq QC:\", cell_count(P_number,QC_passed_df)\n",
    "    print \"QC pass percentage:\", float((cell_count(P_number,QC_passed_df)))/float((cell_count(P_number,patched_cell_df)))\n",
    "    "
   ]
  },
  {
   "cell_type": "code",
   "execution_count": 49,
   "metadata": {},
   "outputs": [
    {
     "name": "stdout",
     "output_type": "stream",
     "text": [
      "Total cells patched: 387\n",
      "Cells that passed RNA seq QC: 267\n",
      "QC pass percentage: 0.68992248062\n"
     ]
    }
   ],
   "source": [
    "per_user('P2')"
   ]
  },
  {
   "cell_type": "code",
   "execution_count": 11,
   "metadata": {},
   "outputs": [
    {
     "data": {
      "text/html": [
       "<div>\n",
       "<table border=\"1\" class=\"dataframe\">\n",
       "  <thead>\n",
       "    <tr style=\"text-align: right;\">\n",
       "      <th></th>\n",
       "      <th>go</th>\n",
       "      <th>patched_cell_container</th>\n",
       "      <th>recording_date</th>\n",
       "    </tr>\n",
       "  </thead>\n",
       "  <tbody>\n",
       "    <tr>\n",
       "      <th>0</th>\n",
       "      <td>63x go</td>\n",
       "      <td>P8S4_171002_351_A01</td>\n",
       "      <td>2017-10-02 17:55:51</td>\n",
       "    </tr>\n",
       "    <tr>\n",
       "      <th>1</th>\n",
       "      <td>63x go</td>\n",
       "      <td>P9S4_171002_401_A01</td>\n",
       "      <td>2017-10-02 18:00:47</td>\n",
       "    </tr>\n",
       "    <tr>\n",
       "      <th>2</th>\n",
       "      <td>63x no go</td>\n",
       "      <td>P8S4_171002_352_A01</td>\n",
       "      <td>2017-10-02 18:17:44</td>\n",
       "    </tr>\n",
       "    <tr>\n",
       "      <th>3</th>\n",
       "      <td>63x go</td>\n",
       "      <td>P2S4_171002_051_A01</td>\n",
       "      <td>2017-10-02 18:29:21</td>\n",
       "    </tr>\n",
       "    <tr>\n",
       "      <th>4</th>\n",
       "      <td>63x no go</td>\n",
       "      <td>P8S4_171002_353_A01</td>\n",
       "      <td>2017-10-02 18:47:06</td>\n",
       "    </tr>\n",
       "  </tbody>\n",
       "</table>\n",
       "</div>"
      ],
      "text/plain": [
       "          go patched_cell_container      recording_date\n",
       "0     63x go    P8S4_171002_351_A01 2017-10-02 17:55:51\n",
       "1     63x go    P9S4_171002_401_A01 2017-10-02 18:00:47\n",
       "2  63x no go    P8S4_171002_352_A01 2017-10-02 18:17:44\n",
       "3     63x go    P2S4_171002_051_A01 2017-10-02 18:29:21\n",
       "4  63x no go    P8S4_171002_353_A01 2017-10-02 18:47:06"
      ]
     },
     "execution_count": 11,
     "metadata": {},
     "output_type": "execute_result"
    }
   ],
   "source": [
    "query3 = \"WITH do_63x(cell_id, go) AS (SELECT DISTINCT cell.id, array_to_string(array_agg(DISTINCT tag.name), ' _AND_ ') \\\n",
    "FROM specimens cell JOIN ephys_roi_results err ON err.id = cell.ephys_roi_result_id \\\n",
    "JOIN specimen_tags_specimens sptagsp ON sptagsp.specimen_id = cell.id \\\n",
    "JOIN specimen_tags tag ON tag.id = sptagsp.specimen_tag_id AND tag.id in (602120185,602122082) \\\n",
    "GROUP BY cell.id ORDER BY 1) \\\n",
    "SELECT s.patched_cell_container, err.recording_date, do_63x.go \\\n",
    "FROM specimens s \\\n",
    "JOIN projects proj ON s.project_id = proj.id \\\n",
    "LEFT JOIN do_63x ON do_63x.cell_id = s.id \\\n",
    "JOIN ephys_roi_results err ON s.ephys_roi_result_id = err.id \\\n",
    "WHERE proj.code <> 'mMPATCH' AND \\\n",
    "s.patched_cell_container IS NOT NULL \\\n",
    "AND err.recording_date > '2017-10-01'\"\n",
    "\n",
    "image_df = get_lims_dataframe(query3)\n",
    "image_df.head()"
   ]
  },
  {
   "cell_type": "code",
   "execution_count": 19,
   "metadata": {},
   "outputs": [
    {
     "data": {
      "text/html": [
       "<div>\n",
       "<table border=\"1\" class=\"dataframe\">\n",
       "  <thead>\n",
       "    <tr style=\"text-align: right;\">\n",
       "      <th></th>\n",
       "      <th>rna_seq_qc_failed</th>\n",
       "      <th>patched_cell_container</th>\n",
       "      <th>go_no_go_63x</th>\n",
       "      <th>recording_date</th>\n",
       "    </tr>\n",
       "  </thead>\n",
       "  <tbody>\n",
       "    <tr>\n",
       "      <th>0</th>\n",
       "      <td>False</td>\n",
       "      <td>P8S4_171002_351_A01</td>\n",
       "      <td>63x go</td>\n",
       "      <td>2017-10-02 17:55:51</td>\n",
       "    </tr>\n",
       "    <tr>\n",
       "      <th>1</th>\n",
       "      <td>False</td>\n",
       "      <td>P9S4_171002_401_A01</td>\n",
       "      <td>63x go</td>\n",
       "      <td>2017-10-02 18:00:47</td>\n",
       "    </tr>\n",
       "    <tr>\n",
       "      <th>2</th>\n",
       "      <td>True</td>\n",
       "      <td>P8S4_171002_352_A01</td>\n",
       "      <td>63x no go</td>\n",
       "      <td>2017-10-02 18:17:44</td>\n",
       "    </tr>\n",
       "    <tr>\n",
       "      <th>3</th>\n",
       "      <td>False</td>\n",
       "      <td>P2S4_171002_051_A01</td>\n",
       "      <td>63x go</td>\n",
       "      <td>2017-10-02 18:29:21</td>\n",
       "    </tr>\n",
       "    <tr>\n",
       "      <th>4</th>\n",
       "      <td>False</td>\n",
       "      <td>P8S4_171002_353_A01</td>\n",
       "      <td>63x no go</td>\n",
       "      <td>2017-10-02 18:47:06</td>\n",
       "    </tr>\n",
       "  </tbody>\n",
       "</table>\n",
       "</div>"
      ],
      "text/plain": [
       "  rna_seq_qc_failed patched_cell_container go_no_go_63x      recording_date\n",
       "0             False    P8S4_171002_351_A01       63x go 2017-10-02 17:55:51\n",
       "1             False    P9S4_171002_401_A01       63x go 2017-10-02 18:00:47\n",
       "2              True    P8S4_171002_352_A01    63x no go 2017-10-02 18:17:44\n",
       "3             False    P2S4_171002_051_A01       63x go 2017-10-02 18:29:21\n",
       "4             False    P8S4_171002_353_A01    63x no go 2017-10-02 18:47:06"
      ]
     },
     "execution_count": 19,
     "metadata": {},
     "output_type": "execute_result"
    }
   ],
   "source": [
    "query4 = \"WITH do_63x(cell_id, go) AS (SELECT DISTINCT cell.id, array_to_string(array_agg(DISTINCT tag.name), ' _AND_ ') \\\n",
    "FROM specimens cell JOIN ephys_roi_results err ON err.id = cell.ephys_roi_result_id \\\n",
    "JOIN specimen_tags_specimens sptagsp ON sptagsp.specimen_id = cell.id \\\n",
    "JOIN specimen_tags tag ON tag.id = sptagsp.specimen_tag_id AND tag.id in (602120185,602122082) \\\n",
    "GROUP BY cell.id ORDER BY 1) \\\n",
    "SELECT s.patched_cell_container, err.recording_date, do_63x.go AS go_no_go_63x, ra.failed AS RNA_seq_QC_Failed \\\n",
    "FROM specimens s \\\n",
    "JOIN projects proj ON s.project_id = proj.id \\\n",
    "LEFT JOIN do_63x ON do_63x.cell_id = s.id \\\n",
    "JOIN ephys_roi_results err ON s.ephys_roi_result_id = err.id \\\n",
    "LEFT JOIN rna_amplification_inputs rai on rai.sample_id = s.id \\\n",
    "LEFT JOIN rna_amplifications ra on ra.id = rai.rna_amplification_id \\\n",
    "WHERE proj.code <> 'mMPATCH' AND \\\n",
    "s.patched_cell_container IS NOT NULL \\\n",
    "AND err.recording_date > '2017-10-01'\"\n",
    "\n",
    "all_df = get_lims_dataframe(query4)\n",
    "all_df.head()"
   ]
  },
  {
   "cell_type": "code",
   "execution_count": 30,
   "metadata": {
    "collapsed": true
   },
   "outputs": [],
   "source": [
    "def gen_filter(df, col, cond):\n",
    "    filtered = df[df[col] == cond]\n",
    "    return filtered"
   ]
  },
  {
   "cell_type": "code",
   "execution_count": 31,
   "metadata": {},
   "outputs": [],
   "source": [
    "qcpass = gen_filter(all_df,'rna_seq_qc_failed', False)"
   ]
  },
  {
   "cell_type": "code",
   "execution_count": 41,
   "metadata": {},
   "outputs": [
    {
     "data": {
      "text/plain": [
       "467"
      ]
     },
     "execution_count": 41,
     "metadata": {},
     "output_type": "execute_result"
    }
   ],
   "source": [
    "cell_count('P8', qcpass)"
   ]
  },
  {
   "cell_type": "code",
   "execution_count": 33,
   "metadata": {},
   "outputs": [],
   "source": [
    "imagego = gen_filter(all_df,'go_no_go_63x', '63x go')"
   ]
  },
  {
   "cell_type": "code",
   "execution_count": 46,
   "metadata": {},
   "outputs": [
    {
     "data": {
      "text/plain": [
       "168"
      ]
     },
     "execution_count": 46,
     "metadata": {},
     "output_type": "execute_result"
    }
   ],
   "source": [
    "cell_count('P8', imagego)"
   ]
  },
  {
   "cell_type": "code",
   "execution_count": 47,
   "metadata": {
    "collapsed": true
   },
   "outputs": [],
   "source": [
    "def per_user2(P_number):\n",
    "    \"\"\"Returns a summary of patcher metrics for a specified user.\n",
    "     \n",
    "    Parameters\n",
    "    ----------\n",
    "    P_number : A string. Corresponds to the user's P number in the form of P1, P2, P3, etc.\n",
    "        \n",
    "    Returns\n",
    "    -------\n",
    "    Returns None\n",
    "    Prints a summary of patcher metrics, including total cells patched, cells that passed RNA seq QC, and QC pass percentage\n",
    "    \"\"\"\n",
    "    print \"Total cells patched:\", cell_count(P_number,all_df)\n",
    "    print \"Cells that passed RNA seq QC:\", cell_count(P_number,qcpass)\n",
    "    print \"QC pass percentage:\", float((cell_count(P_number,qcpass)))/float((cell_count(P_number,all_df)))\n",
    "    "
   ]
  },
  {
   "cell_type": "code",
   "execution_count": 50,
   "metadata": {},
   "outputs": [
    {
     "name": "stdout",
     "output_type": "stream",
     "text": [
      "Total cells patched: 387\n",
      "Cells that passed RNA seq QC: 267\n",
      "QC pass percentage: 0.68992248062\n"
     ]
    }
   ],
   "source": [
    "per_user2('P2')"
   ]
  },
  {
   "cell_type": "code",
   "execution_count": null,
   "metadata": {
    "collapsed": true
   },
   "outputs": [],
   "source": []
  }
 ],
 "metadata": {
  "kernelspec": {
   "display_name": "Python 2",
   "language": "python",
   "name": "python2"
  },
  "language_info": {
   "codemirror_mode": {
    "name": "ipython",
    "version": 2
   },
   "file_extension": ".py",
   "mimetype": "text/x-python",
   "name": "python",
   "nbconvert_exporter": "python",
   "pygments_lexer": "ipython2",
   "version": "2.7.13"
  }
 },
 "nbformat": 4,
 "nbformat_minor": 2
}
