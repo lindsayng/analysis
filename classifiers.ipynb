{
 "cells": [
  {
   "cell_type": "code",
   "execution_count": 1,
   "metadata": {},
   "outputs": [],
   "source": [
    "import pandas as pd\n",
    "import numpy as np\n",
    "from sklearn.preprocessing import StandardScaler\n",
    "from sklearn.model_selection import train_test_split\n",
    "from sklearn.linear_model import LogisticRegression\n",
    "from sklearn.impute import KNNImputer\n",
    "from sklearn import metrics\n",
    "import seaborn as sns\n",
    "import matplotlib.pyplot as plt"
   ]
  },
  {
   "cell_type": "code",
   "execution_count": 2,
   "metadata": {},
   "outputs": [
    {
     "data": {
      "text/html": [
       "<div>\n",
       "<style scoped>\n",
       "    .dataframe tbody tr th:only-of-type {\n",
       "        vertical-align: middle;\n",
       "    }\n",
       "\n",
       "    .dataframe tbody tr th {\n",
       "        vertical-align: top;\n",
       "    }\n",
       "\n",
       "    .dataframe thead th {\n",
       "        text-align: right;\n",
       "    }\n",
       "</style>\n",
       "<table border=\"1\" class=\"dataframe\">\n",
       "  <thead>\n",
       "    <tr style=\"text-align: right;\">\n",
       "      <th></th>\n",
       "      <th>subclass_label</th>\n",
       "      <th>tau</th>\n",
       "      <th>sag</th>\n",
       "      <th>vrest</th>\n",
       "      <th>ri</th>\n",
       "      <th>f_i_curve_slope</th>\n",
       "      <th>peak_v_long_square</th>\n",
       "      <th>upstroke_downstroke_ratio_long_square</th>\n",
       "      <th>adaptation</th>\n",
       "    </tr>\n",
       "  </thead>\n",
       "  <tbody>\n",
       "    <tr>\n",
       "      <th>0</th>\n",
       "      <td>LAMP5/PAX6/Other</td>\n",
       "      <td>25.615145</td>\n",
       "      <td>0.064919</td>\n",
       "      <td>-67.400496</td>\n",
       "      <td>292.032540</td>\n",
       "      <td>0.391086</td>\n",
       "      <td>40.787498</td>\n",
       "      <td>3.206679</td>\n",
       "      <td>0.033713</td>\n",
       "    </tr>\n",
       "    <tr>\n",
       "      <th>1</th>\n",
       "      <td>LAMP5/PAX6/Other</td>\n",
       "      <td>21.026884</td>\n",
       "      <td>0.005976</td>\n",
       "      <td>-50.248360</td>\n",
       "      <td>371.867418</td>\n",
       "      <td>0.483824</td>\n",
       "      <td>35.718750</td>\n",
       "      <td>3.842133</td>\n",
       "      <td>0.017153</td>\n",
       "    </tr>\n",
       "    <tr>\n",
       "      <th>3</th>\n",
       "      <td>LAMP5/PAX6/Other</td>\n",
       "      <td>16.935895</td>\n",
       "      <td>0.034874</td>\n",
       "      <td>-65.238582</td>\n",
       "      <td>252.468705</td>\n",
       "      <td>0.480000</td>\n",
       "      <td>27.900000</td>\n",
       "      <td>2.839593</td>\n",
       "      <td>0.053285</td>\n",
       "    </tr>\n",
       "    <tr>\n",
       "      <th>6</th>\n",
       "      <td>LAMP5/PAX6/Other</td>\n",
       "      <td>57.667624</td>\n",
       "      <td>0.147336</td>\n",
       "      <td>-63.207101</td>\n",
       "      <td>841.105652</td>\n",
       "      <td>0.362500</td>\n",
       "      <td>43.531250</td>\n",
       "      <td>3.333950</td>\n",
       "      <td>0.030522</td>\n",
       "    </tr>\n",
       "    <tr>\n",
       "      <th>7</th>\n",
       "      <td>LAMP5/PAX6/Other</td>\n",
       "      <td>27.438774</td>\n",
       "      <td>0.049230</td>\n",
       "      <td>-60.421989</td>\n",
       "      <td>260.874897</td>\n",
       "      <td>0.384211</td>\n",
       "      <td>45.293751</td>\n",
       "      <td>2.992211</td>\n",
       "      <td>0.061671</td>\n",
       "    </tr>\n",
       "    <tr>\n",
       "      <th>...</th>\n",
       "      <td>...</td>\n",
       "      <td>...</td>\n",
       "      <td>...</td>\n",
       "      <td>...</td>\n",
       "      <td>...</td>\n",
       "      <td>...</td>\n",
       "      <td>...</td>\n",
       "      <td>...</td>\n",
       "      <td>...</td>\n",
       "    </tr>\n",
       "    <tr>\n",
       "      <th>958</th>\n",
       "      <td>PVALB</td>\n",
       "      <td>13.677424</td>\n",
       "      <td>0.266409</td>\n",
       "      <td>-48.848053</td>\n",
       "      <td>267.921865</td>\n",
       "      <td>1.135333</td>\n",
       "      <td>17.018749</td>\n",
       "      <td>1.252728</td>\n",
       "      <td>0.001125</td>\n",
       "    </tr>\n",
       "    <tr>\n",
       "      <th>959</th>\n",
       "      <td>PVALB</td>\n",
       "      <td>11.421373</td>\n",
       "      <td>0.092579</td>\n",
       "      <td>-66.441664</td>\n",
       "      <td>135.468766</td>\n",
       "      <td>0.370732</td>\n",
       "      <td>37.662498</td>\n",
       "      <td>2.117482</td>\n",
       "      <td>0.024105</td>\n",
       "    </tr>\n",
       "    <tr>\n",
       "      <th>961</th>\n",
       "      <td>VIP</td>\n",
       "      <td>25.009076</td>\n",
       "      <td>0.086031</td>\n",
       "      <td>-66.508256</td>\n",
       "      <td>187.656209</td>\n",
       "      <td>0.174112</td>\n",
       "      <td>43.856251</td>\n",
       "      <td>2.772645</td>\n",
       "      <td>0.094960</td>\n",
       "    </tr>\n",
       "    <tr>\n",
       "      <th>962</th>\n",
       "      <td>VIP</td>\n",
       "      <td>26.764876</td>\n",
       "      <td>0.179304</td>\n",
       "      <td>-55.004411</td>\n",
       "      <td>263.906240</td>\n",
       "      <td>0.204977</td>\n",
       "      <td>49.118748</td>\n",
       "      <td>2.305283</td>\n",
       "      <td>0.001090</td>\n",
       "    </tr>\n",
       "    <tr>\n",
       "      <th>963</th>\n",
       "      <td>LAMP5/PAX6/Other</td>\n",
       "      <td>14.613369</td>\n",
       "      <td>0.440848</td>\n",
       "      <td>-65.396269</td>\n",
       "      <td>438.749999</td>\n",
       "      <td>0.405882</td>\n",
       "      <td>35.918751</td>\n",
       "      <td>3.655394</td>\n",
       "      <td>-0.004062</td>\n",
       "    </tr>\n",
       "  </tbody>\n",
       "</table>\n",
       "<p>323 rows × 9 columns</p>\n",
       "</div>"
      ],
      "text/plain": [
       "       subclass_label        tau       sag      vrest          ri  \\\n",
       "0    LAMP5/PAX6/Other  25.615145  0.064919 -67.400496  292.032540   \n",
       "1    LAMP5/PAX6/Other  21.026884  0.005976 -50.248360  371.867418   \n",
       "3    LAMP5/PAX6/Other  16.935895  0.034874 -65.238582  252.468705   \n",
       "6    LAMP5/PAX6/Other  57.667624  0.147336 -63.207101  841.105652   \n",
       "7    LAMP5/PAX6/Other  27.438774  0.049230 -60.421989  260.874897   \n",
       "..                ...        ...       ...        ...         ...   \n",
       "958             PVALB  13.677424  0.266409 -48.848053  267.921865   \n",
       "959             PVALB  11.421373  0.092579 -66.441664  135.468766   \n",
       "961               VIP  25.009076  0.086031 -66.508256  187.656209   \n",
       "962               VIP  26.764876  0.179304 -55.004411  263.906240   \n",
       "963  LAMP5/PAX6/Other  14.613369  0.440848 -65.396269  438.749999   \n",
       "\n",
       "     f_i_curve_slope  peak_v_long_square  \\\n",
       "0           0.391086           40.787498   \n",
       "1           0.483824           35.718750   \n",
       "3           0.480000           27.900000   \n",
       "6           0.362500           43.531250   \n",
       "7           0.384211           45.293751   \n",
       "..               ...                 ...   \n",
       "958         1.135333           17.018749   \n",
       "959         0.370732           37.662498   \n",
       "961         0.174112           43.856251   \n",
       "962         0.204977           49.118748   \n",
       "963         0.405882           35.918751   \n",
       "\n",
       "     upstroke_downstroke_ratio_long_square  adaptation  \n",
       "0                                 3.206679    0.033713  \n",
       "1                                 3.842133    0.017153  \n",
       "3                                 2.839593    0.053285  \n",
       "6                                 3.333950    0.030522  \n",
       "7                                 2.992211    0.061671  \n",
       "..                                     ...         ...  \n",
       "958                               1.252728    0.001125  \n",
       "959                               2.117482    0.024105  \n",
       "961                               2.772645    0.094960  \n",
       "962                               2.305283    0.001090  \n",
       "963                               3.655394   -0.004062  \n",
       "\n",
       "[323 rows x 9 columns]"
      ]
     },
     "execution_count": 2,
     "metadata": {},
     "output_type": "execute_result"
    }
   ],
   "source": [
    "data = pd.read_csv('culture_ephys_200415.csv')\n",
    "\n",
    "data2 = data[data['cell_specimen_project_label']== 'hIVSCC-MET']\n",
    "data2 = data2[['subclass_label','tau','sag', 'vrest', 'ri', 'f_i_curve_slope', 'peak_v_long_square', 'upstroke_downstroke_ratio_long_square','adaptation']]\n",
    "data1 = data[['cell_specimen_project_label','tau','sag', 'vrest', 'ri', 'f_i_curve_slope', 'peak_v_long_square', 'upstroke_downstroke_ratio_long_square','adaptation']]\n",
    "data1 = data1.dropna()\n",
    "data2 = data2.dropna()\n",
    "\n",
    "data2"
   ]
  },
  {
   "cell_type": "markdown",
   "metadata": {},
   "source": [
    "# culture prediction"
   ]
  },
  {
   "cell_type": "code",
   "execution_count": 3,
   "metadata": {},
   "outputs": [],
   "source": [
    "targets = np.where(data1['cell_specimen_project_label']== 'hIVSCC-METc',1,0)\n"
   ]
  },
  {
   "cell_type": "code",
   "execution_count": 4,
   "metadata": {},
   "outputs": [],
   "source": [
    "data1['culture'] = targets"
   ]
  },
  {
   "cell_type": "code",
   "execution_count": 5,
   "metadata": {},
   "outputs": [
    {
     "data": {
      "text/html": [
       "<div>\n",
       "<style scoped>\n",
       "    .dataframe tbody tr th:only-of-type {\n",
       "        vertical-align: middle;\n",
       "    }\n",
       "\n",
       "    .dataframe tbody tr th {\n",
       "        vertical-align: top;\n",
       "    }\n",
       "\n",
       "    .dataframe thead th {\n",
       "        text-align: right;\n",
       "    }\n",
       "</style>\n",
       "<table border=\"1\" class=\"dataframe\">\n",
       "  <thead>\n",
       "    <tr style=\"text-align: right;\">\n",
       "      <th></th>\n",
       "      <th>cell_specimen_project_label</th>\n",
       "      <th>tau</th>\n",
       "      <th>sag</th>\n",
       "      <th>vrest</th>\n",
       "      <th>ri</th>\n",
       "      <th>f_i_curve_slope</th>\n",
       "      <th>peak_v_long_square</th>\n",
       "      <th>upstroke_downstroke_ratio_long_square</th>\n",
       "      <th>adaptation</th>\n",
       "      <th>culture</th>\n",
       "    </tr>\n",
       "  </thead>\n",
       "  <tbody>\n",
       "    <tr>\n",
       "      <th>975</th>\n",
       "      <td>hIVSCC-METc</td>\n",
       "      <td>6.590292</td>\n",
       "      <td>0.502123</td>\n",
       "      <td>-59.947566</td>\n",
       "      <td>124.187462</td>\n",
       "      <td>0.375000</td>\n",
       "      <td>21.468750</td>\n",
       "      <td>1.799062</td>\n",
       "      <td>0.259488</td>\n",
       "      <td>1</td>\n",
       "    </tr>\n",
       "    <tr>\n",
       "      <th>976</th>\n",
       "      <td>hIVSCC-METc</td>\n",
       "      <td>8.794312</td>\n",
       "      <td>0.318822</td>\n",
       "      <td>-64.910120</td>\n",
       "      <td>87.187499</td>\n",
       "      <td>0.456293</td>\n",
       "      <td>29.537500</td>\n",
       "      <td>1.675442</td>\n",
       "      <td>-0.078511</td>\n",
       "      <td>1</td>\n",
       "    </tr>\n",
       "    <tr>\n",
       "      <th>977</th>\n",
       "      <td>hIVSCC-METc</td>\n",
       "      <td>21.313787</td>\n",
       "      <td>0.088634</td>\n",
       "      <td>-60.149867</td>\n",
       "      <td>353.531271</td>\n",
       "      <td>0.168421</td>\n",
       "      <td>31.931250</td>\n",
       "      <td>3.642535</td>\n",
       "      <td>0.083147</td>\n",
       "      <td>1</td>\n",
       "    </tr>\n",
       "    <tr>\n",
       "      <th>979</th>\n",
       "      <td>hIVSCC-METc</td>\n",
       "      <td>9.154594</td>\n",
       "      <td>0.365740</td>\n",
       "      <td>-62.553517</td>\n",
       "      <td>103.986353</td>\n",
       "      <td>0.293966</td>\n",
       "      <td>22.043749</td>\n",
       "      <td>1.764893</td>\n",
       "      <td>0.514772</td>\n",
       "      <td>1</td>\n",
       "    </tr>\n",
       "    <tr>\n",
       "      <th>981</th>\n",
       "      <td>hIVSCC-METc</td>\n",
       "      <td>21.882581</td>\n",
       "      <td>0.431700</td>\n",
       "      <td>-65.439883</td>\n",
       "      <td>268.374890</td>\n",
       "      <td>0.389476</td>\n",
       "      <td>52.931248</td>\n",
       "      <td>2.673661</td>\n",
       "      <td>0.014358</td>\n",
       "      <td>1</td>\n",
       "    </tr>\n",
       "  </tbody>\n",
       "</table>\n",
       "</div>"
      ],
      "text/plain": [
       "    cell_specimen_project_label        tau       sag      vrest          ri  \\\n",
       "975                 hIVSCC-METc   6.590292  0.502123 -59.947566  124.187462   \n",
       "976                 hIVSCC-METc   8.794312  0.318822 -64.910120   87.187499   \n",
       "977                 hIVSCC-METc  21.313787  0.088634 -60.149867  353.531271   \n",
       "979                 hIVSCC-METc   9.154594  0.365740 -62.553517  103.986353   \n",
       "981                 hIVSCC-METc  21.882581  0.431700 -65.439883  268.374890   \n",
       "\n",
       "     f_i_curve_slope  peak_v_long_square  \\\n",
       "975         0.375000           21.468750   \n",
       "976         0.456293           29.537500   \n",
       "977         0.168421           31.931250   \n",
       "979         0.293966           22.043749   \n",
       "981         0.389476           52.931248   \n",
       "\n",
       "     upstroke_downstroke_ratio_long_square  adaptation  culture  \n",
       "975                               1.799062    0.259488        1  \n",
       "976                               1.675442   -0.078511        1  \n",
       "977                               3.642535    0.083147        1  \n",
       "979                               1.764893    0.514772        1  \n",
       "981                               2.673661    0.014358        1  "
      ]
     },
     "execution_count": 5,
     "metadata": {},
     "output_type": "execute_result"
    }
   ],
   "source": [
    "data1.tail()"
   ]
  },
  {
   "cell_type": "code",
   "execution_count": 6,
   "metadata": {},
   "outputs": [
    {
     "data": {
      "text/plain": [
       "0.45254237288135596"
      ]
     },
     "execution_count": 6,
     "metadata": {},
     "output_type": "execute_result"
    }
   ],
   "source": [
    "targets.sum() / targets.shape[0]"
   ]
  },
  {
   "cell_type": "code",
   "execution_count": 7,
   "metadata": {},
   "outputs": [
    {
     "data": {
      "text/html": [
       "<div>\n",
       "<style scoped>\n",
       "    .dataframe tbody tr th:only-of-type {\n",
       "        vertical-align: middle;\n",
       "    }\n",
       "\n",
       "    .dataframe tbody tr th {\n",
       "        vertical-align: top;\n",
       "    }\n",
       "\n",
       "    .dataframe thead th {\n",
       "        text-align: right;\n",
       "    }\n",
       "</style>\n",
       "<table border=\"1\" class=\"dataframe\">\n",
       "  <thead>\n",
       "    <tr style=\"text-align: right;\">\n",
       "      <th></th>\n",
       "      <th>tau</th>\n",
       "      <th>sag</th>\n",
       "      <th>vrest</th>\n",
       "      <th>ri</th>\n",
       "      <th>f_i_curve_slope</th>\n",
       "      <th>peak_v_long_square</th>\n",
       "      <th>upstroke_downstroke_ratio_long_square</th>\n",
       "      <th>adaptation</th>\n",
       "      <th>culture</th>\n",
       "    </tr>\n",
       "  </thead>\n",
       "  <tbody>\n",
       "    <tr>\n",
       "      <th>0</th>\n",
       "      <td>25.615145</td>\n",
       "      <td>0.064919</td>\n",
       "      <td>-67.400496</td>\n",
       "      <td>292.032540</td>\n",
       "      <td>0.391086</td>\n",
       "      <td>40.787498</td>\n",
       "      <td>3.206679</td>\n",
       "      <td>0.033713</td>\n",
       "      <td>0</td>\n",
       "    </tr>\n",
       "    <tr>\n",
       "      <th>1</th>\n",
       "      <td>21.026884</td>\n",
       "      <td>0.005976</td>\n",
       "      <td>-50.248360</td>\n",
       "      <td>371.867418</td>\n",
       "      <td>0.483824</td>\n",
       "      <td>35.718750</td>\n",
       "      <td>3.842133</td>\n",
       "      <td>0.017153</td>\n",
       "      <td>0</td>\n",
       "    </tr>\n",
       "    <tr>\n",
       "      <th>3</th>\n",
       "      <td>16.935895</td>\n",
       "      <td>0.034874</td>\n",
       "      <td>-65.238582</td>\n",
       "      <td>252.468705</td>\n",
       "      <td>0.480000</td>\n",
       "      <td>27.900000</td>\n",
       "      <td>2.839593</td>\n",
       "      <td>0.053285</td>\n",
       "      <td>0</td>\n",
       "    </tr>\n",
       "    <tr>\n",
       "      <th>6</th>\n",
       "      <td>57.667624</td>\n",
       "      <td>0.147336</td>\n",
       "      <td>-63.207101</td>\n",
       "      <td>841.105652</td>\n",
       "      <td>0.362500</td>\n",
       "      <td>43.531250</td>\n",
       "      <td>3.333950</td>\n",
       "      <td>0.030522</td>\n",
       "      <td>0</td>\n",
       "    </tr>\n",
       "    <tr>\n",
       "      <th>7</th>\n",
       "      <td>27.438774</td>\n",
       "      <td>0.049230</td>\n",
       "      <td>-60.421989</td>\n",
       "      <td>260.874897</td>\n",
       "      <td>0.384211</td>\n",
       "      <td>45.293751</td>\n",
       "      <td>2.992211</td>\n",
       "      <td>0.061671</td>\n",
       "      <td>0</td>\n",
       "    </tr>\n",
       "  </tbody>\n",
       "</table>\n",
       "</div>"
      ],
      "text/plain": [
       "         tau       sag      vrest          ri  f_i_curve_slope  \\\n",
       "0  25.615145  0.064919 -67.400496  292.032540         0.391086   \n",
       "1  21.026884  0.005976 -50.248360  371.867418         0.483824   \n",
       "3  16.935895  0.034874 -65.238582  252.468705         0.480000   \n",
       "6  57.667624  0.147336 -63.207101  841.105652         0.362500   \n",
       "7  27.438774  0.049230 -60.421989  260.874897         0.384211   \n",
       "\n",
       "   peak_v_long_square  upstroke_downstroke_ratio_long_square  adaptation  \\\n",
       "0           40.787498                               3.206679    0.033713   \n",
       "1           35.718750                               3.842133    0.017153   \n",
       "3           27.900000                               2.839593    0.053285   \n",
       "6           43.531250                               3.333950    0.030522   \n",
       "7           45.293751                               2.992211    0.061671   \n",
       "\n",
       "   culture  \n",
       "0        0  \n",
       "1        0  \n",
       "3        0  \n",
       "6        0  \n",
       "7        0  "
      ]
     },
     "execution_count": 7,
     "metadata": {},
     "output_type": "execute_result"
    }
   ],
   "source": [
    "data_targets = data1.drop(['cell_specimen_project_label'], axis =1)\n",
    "data_targets.head()"
   ]
  },
  {
   "cell_type": "code",
   "execution_count": 8,
   "metadata": {},
   "outputs": [
    {
     "data": {
      "text/plain": [
       "(590, 9)"
      ]
     },
     "execution_count": 8,
     "metadata": {},
     "output_type": "execute_result"
    }
   ],
   "source": [
    "data_targets.shape"
   ]
  },
  {
   "cell_type": "code",
   "execution_count": 9,
   "metadata": {},
   "outputs": [],
   "source": [
    "unscaled_inputs = data_targets.iloc[:,:-1]"
   ]
  },
  {
   "cell_type": "code",
   "execution_count": 10,
   "metadata": {},
   "outputs": [],
   "source": [
    "culture_scaler = StandardScaler()"
   ]
  },
  {
   "cell_type": "code",
   "execution_count": 11,
   "metadata": {},
   "outputs": [
    {
     "data": {
      "text/plain": [
       "StandardScaler(copy=True, with_mean=True, with_std=True)"
      ]
     },
     "execution_count": 11,
     "metadata": {},
     "output_type": "execute_result"
    }
   ],
   "source": [
    "culture_scaler.fit(unscaled_inputs)"
   ]
  },
  {
   "cell_type": "code",
   "execution_count": 12,
   "metadata": {},
   "outputs": [],
   "source": [
    "scaled_inputs = culture_scaler.transform(unscaled_inputs)"
   ]
  },
  {
   "cell_type": "code",
   "execution_count": 13,
   "metadata": {},
   "outputs": [
    {
     "data": {
      "text/plain": [
       "array([[ 0.87174103, -1.09398471, -0.87434567, ...,  0.71917439,\n",
       "         1.26390859, -0.13235446],\n",
       "       [ 0.34979031, -1.53636676,  2.8131614 , ...,  0.23197431,\n",
       "         2.15423315, -0.32414951],\n",
       "       [-0.11559181, -1.31947765, -0.40955956, ..., -0.5195516 ,\n",
       "         0.74959001,  0.09432274],\n",
       "       ...,\n",
       "       [ 0.38242772, -0.91599816,  0.6844542 , ..., -0.13207423,\n",
       "         1.87457898,  0.44018889],\n",
       "       [-1.00077577,  1.16377462,  0.16769766, ..., -1.08244515,\n",
       "        -0.75615568,  5.4391758 ],\n",
       "       [ 0.44713256,  1.65882002, -0.45283688, ...,  1.88641235,\n",
       "         0.51710443, -0.35651933]])"
      ]
     },
     "execution_count": 13,
     "metadata": {},
     "output_type": "execute_result"
    }
   ],
   "source": [
    "scaled_inputs"
   ]
  },
  {
   "cell_type": "code",
   "execution_count": 14,
   "metadata": {},
   "outputs": [],
   "source": [
    "x_train, x_test, y_train, y_test = train_test_split(scaled_inputs, targets, train_size = 0.8, random_state = 20)"
   ]
  },
  {
   "cell_type": "code",
   "execution_count": 15,
   "metadata": {},
   "outputs": [
    {
     "name": "stdout",
     "output_type": "stream",
     "text": [
      "(118, 8) (118,)\n"
     ]
    }
   ],
   "source": [
    "print(x_test.shape, y_test.shape)"
   ]
  },
  {
   "cell_type": "code",
   "execution_count": 16,
   "metadata": {},
   "outputs": [],
   "source": [
    "reg = LogisticRegression()"
   ]
  },
  {
   "cell_type": "code",
   "execution_count": 17,
   "metadata": {},
   "outputs": [
    {
     "data": {
      "text/plain": [
       "LogisticRegression(C=1.0, class_weight=None, dual=False, fit_intercept=True,\n",
       "                   intercept_scaling=1, l1_ratio=None, max_iter=100,\n",
       "                   multi_class='auto', n_jobs=None, penalty='l2',\n",
       "                   random_state=None, solver='lbfgs', tol=0.0001, verbose=0,\n",
       "                   warm_start=False)"
      ]
     },
     "execution_count": 17,
     "metadata": {},
     "output_type": "execute_result"
    }
   ],
   "source": [
    "reg.fit(x_train,y_train)"
   ]
  },
  {
   "cell_type": "code",
   "execution_count": 18,
   "metadata": {},
   "outputs": [
    {
     "data": {
      "text/plain": [
       "0.8177966101694916"
      ]
     },
     "execution_count": 18,
     "metadata": {},
     "output_type": "execute_result"
    }
   ],
   "source": [
    "reg.score(x_train,y_train)"
   ]
  },
  {
   "cell_type": "code",
   "execution_count": 19,
   "metadata": {},
   "outputs": [],
   "source": [
    "Feature = unscaled_inputs.columns.values"
   ]
  },
  {
   "cell_type": "code",
   "execution_count": 20,
   "metadata": {},
   "outputs": [
    {
     "data": {
      "text/html": [
       "<div>\n",
       "<style scoped>\n",
       "    .dataframe tbody tr th:only-of-type {\n",
       "        vertical-align: middle;\n",
       "    }\n",
       "\n",
       "    .dataframe tbody tr th {\n",
       "        vertical-align: top;\n",
       "    }\n",
       "\n",
       "    .dataframe thead th {\n",
       "        text-align: right;\n",
       "    }\n",
       "</style>\n",
       "<table border=\"1\" class=\"dataframe\">\n",
       "  <thead>\n",
       "    <tr style=\"text-align: right;\">\n",
       "      <th></th>\n",
       "      <th>Feature</th>\n",
       "      <th>Coefficient</th>\n",
       "      <th>Odds_ratio</th>\n",
       "    </tr>\n",
       "  </thead>\n",
       "  <tbody>\n",
       "    <tr>\n",
       "      <th>1</th>\n",
       "      <td>sag</td>\n",
       "      <td>1.304923</td>\n",
       "      <td>3.687405</td>\n",
       "    </tr>\n",
       "    <tr>\n",
       "      <th>0</th>\n",
       "      <td>tau</td>\n",
       "      <td>0.745478</td>\n",
       "      <td>2.107449</td>\n",
       "    </tr>\n",
       "    <tr>\n",
       "      <th>5</th>\n",
       "      <td>peak_v_long_square</td>\n",
       "      <td>0.228896</td>\n",
       "      <td>1.257211</td>\n",
       "    </tr>\n",
       "    <tr>\n",
       "      <th>4</th>\n",
       "      <td>f_i_curve_slope</td>\n",
       "      <td>0.196289</td>\n",
       "      <td>1.216879</td>\n",
       "    </tr>\n",
       "    <tr>\n",
       "      <th>2</th>\n",
       "      <td>vrest</td>\n",
       "      <td>0.153173</td>\n",
       "      <td>1.165526</td>\n",
       "    </tr>\n",
       "    <tr>\n",
       "      <th>7</th>\n",
       "      <td>adaptation</td>\n",
       "      <td>-0.385265</td>\n",
       "      <td>0.680270</td>\n",
       "    </tr>\n",
       "    <tr>\n",
       "      <th>6</th>\n",
       "      <td>upstroke_downstroke_ratio_long_square</td>\n",
       "      <td>-0.697017</td>\n",
       "      <td>0.498069</td>\n",
       "    </tr>\n",
       "    <tr>\n",
       "      <th>3</th>\n",
       "      <td>ri</td>\n",
       "      <td>-0.927306</td>\n",
       "      <td>0.395618</td>\n",
       "    </tr>\n",
       "  </tbody>\n",
       "</table>\n",
       "</div>"
      ],
      "text/plain": [
       "                                 Feature  Coefficient  Odds_ratio\n",
       "1                                    sag     1.304923    3.687405\n",
       "0                                    tau     0.745478    2.107449\n",
       "5                     peak_v_long_square     0.228896    1.257211\n",
       "4                        f_i_curve_slope     0.196289    1.216879\n",
       "2                                  vrest     0.153173    1.165526\n",
       "7                             adaptation    -0.385265    0.680270\n",
       "6  upstroke_downstroke_ratio_long_square    -0.697017    0.498069\n",
       "3                                     ri    -0.927306    0.395618"
      ]
     },
     "execution_count": 20,
     "metadata": {},
     "output_type": "execute_result"
    }
   ],
   "source": [
    "summary_table = pd.DataFrame(columns = ['Feature'], data = Feature)\n",
    "summary_table['Coefficient'] = np.transpose(reg.coef_)\n",
    "summary_table['Odds_ratio'] = np.exp(summary_table.Coefficient)\n",
    "summary_table.sort_values('Odds_ratio', ascending=False)"
   ]
  },
  {
   "cell_type": "code",
   "execution_count": 21,
   "metadata": {},
   "outputs": [],
   "source": [
    "score = reg.score(x_test,y_test)\n"
   ]
  },
  {
   "cell_type": "code",
   "execution_count": 22,
   "metadata": {},
   "outputs": [],
   "source": [
    "predictions = reg.predict(x_test)\n",
    "cm = metrics.confusion_matrix(y_test, predictions)"
   ]
  },
  {
   "cell_type": "code",
   "execution_count": 23,
   "metadata": {},
   "outputs": [
    {
     "data": {
      "image/png": "[encoded data removed]",
      "text/plain": [
       "<Figure size 648x648 with 2 Axes>"
      ]
     },
     "metadata": {
      "needs_background": "light"
     },
     "output_type": "display_data"
    }
   ],
   "source": [
    "plt.figure(figsize=(9,9))\n",
    "sns.heatmap(cm, annot=True, fmt=\".3f\", linewidths=.5, square = True, cmap = 'Blues_r');\n",
    "plt.ylabel('Actual label');\n",
    "plt.xlabel('Predicted label');\n",
    "all_sample_title = 'Accuracy Score: {:.2f}'.format(score)\n",
    "plt.title(all_sample_title, size = 15);"
   ]
  },
  {
   "cell_type": "markdown",
   "metadata": {},
   "source": [
    "# human subclass prediction"
   ]
  },
  {
   "cell_type": "code",
   "execution_count": 24,
   "metadata": {},
   "outputs": [
    {
     "data": {
      "text/html": [
       "<div>\n",
       "<style scoped>\n",
       "    .dataframe tbody tr th:only-of-type {\n",
       "        vertical-align: middle;\n",
       "    }\n",
       "\n",
       "    .dataframe tbody tr th {\n",
       "        vertical-align: top;\n",
       "    }\n",
       "\n",
       "    .dataframe thead th {\n",
       "        text-align: right;\n",
       "    }\n",
       "</style>\n",
       "<table border=\"1\" class=\"dataframe\">\n",
       "  <thead>\n",
       "    <tr style=\"text-align: right;\">\n",
       "      <th></th>\n",
       "      <th>subclass_label</th>\n",
       "      <th>tau</th>\n",
       "      <th>sag</th>\n",
       "      <th>vrest</th>\n",
       "      <th>ri</th>\n",
       "      <th>f_i_curve_slope</th>\n",
       "      <th>peak_v_long_square</th>\n",
       "      <th>upstroke_downstroke_ratio_long_square</th>\n",
       "      <th>adaptation</th>\n",
       "      <th>subclass</th>\n",
       "    </tr>\n",
       "  </thead>\n",
       "  <tbody>\n",
       "    <tr>\n",
       "      <th>0</th>\n",
       "      <td>LAMP5/PAX6/Other</td>\n",
       "      <td>25.615145</td>\n",
       "      <td>0.064919</td>\n",
       "      <td>-67.400496</td>\n",
       "      <td>292.032540</td>\n",
       "      <td>0.391086</td>\n",
       "      <td>40.787498</td>\n",
       "      <td>3.206679</td>\n",
       "      <td>0.033713</td>\n",
       "      <td>0</td>\n",
       "    </tr>\n",
       "    <tr>\n",
       "      <th>1</th>\n",
       "      <td>LAMP5/PAX6/Other</td>\n",
       "      <td>21.026884</td>\n",
       "      <td>0.005976</td>\n",
       "      <td>-50.248360</td>\n",
       "      <td>371.867418</td>\n",
       "      <td>0.483824</td>\n",
       "      <td>35.718750</td>\n",
       "      <td>3.842133</td>\n",
       "      <td>0.017153</td>\n",
       "      <td>0</td>\n",
       "    </tr>\n",
       "    <tr>\n",
       "      <th>3</th>\n",
       "      <td>LAMP5/PAX6/Other</td>\n",
       "      <td>16.935895</td>\n",
       "      <td>0.034874</td>\n",
       "      <td>-65.238582</td>\n",
       "      <td>252.468705</td>\n",
       "      <td>0.480000</td>\n",
       "      <td>27.900000</td>\n",
       "      <td>2.839593</td>\n",
       "      <td>0.053285</td>\n",
       "      <td>0</td>\n",
       "    </tr>\n",
       "    <tr>\n",
       "      <th>6</th>\n",
       "      <td>LAMP5/PAX6/Other</td>\n",
       "      <td>57.667624</td>\n",
       "      <td>0.147336</td>\n",
       "      <td>-63.207101</td>\n",
       "      <td>841.105652</td>\n",
       "      <td>0.362500</td>\n",
       "      <td>43.531250</td>\n",
       "      <td>3.333950</td>\n",
       "      <td>0.030522</td>\n",
       "      <td>0</td>\n",
       "    </tr>\n",
       "    <tr>\n",
       "      <th>7</th>\n",
       "      <td>LAMP5/PAX6/Other</td>\n",
       "      <td>27.438774</td>\n",
       "      <td>0.049230</td>\n",
       "      <td>-60.421989</td>\n",
       "      <td>260.874897</td>\n",
       "      <td>0.384211</td>\n",
       "      <td>45.293751</td>\n",
       "      <td>2.992211</td>\n",
       "      <td>0.061671</td>\n",
       "      <td>0</td>\n",
       "    </tr>\n",
       "    <tr>\n",
       "      <th>...</th>\n",
       "      <td>...</td>\n",
       "      <td>...</td>\n",
       "      <td>...</td>\n",
       "      <td>...</td>\n",
       "      <td>...</td>\n",
       "      <td>...</td>\n",
       "      <td>...</td>\n",
       "      <td>...</td>\n",
       "      <td>...</td>\n",
       "      <td>...</td>\n",
       "    </tr>\n",
       "    <tr>\n",
       "      <th>958</th>\n",
       "      <td>PVALB</td>\n",
       "      <td>13.677424</td>\n",
       "      <td>0.266409</td>\n",
       "      <td>-48.848053</td>\n",
       "      <td>267.921865</td>\n",
       "      <td>1.135333</td>\n",
       "      <td>17.018749</td>\n",
       "      <td>1.252728</td>\n",
       "      <td>0.001125</td>\n",
       "      <td>3</td>\n",
       "    </tr>\n",
       "    <tr>\n",
       "      <th>959</th>\n",
       "      <td>PVALB</td>\n",
       "      <td>11.421373</td>\n",
       "      <td>0.092579</td>\n",
       "      <td>-66.441664</td>\n",
       "      <td>135.468766</td>\n",
       "      <td>0.370732</td>\n",
       "      <td>37.662498</td>\n",
       "      <td>2.117482</td>\n",
       "      <td>0.024105</td>\n",
       "      <td>3</td>\n",
       "    </tr>\n",
       "    <tr>\n",
       "      <th>961</th>\n",
       "      <td>VIP</td>\n",
       "      <td>25.009076</td>\n",
       "      <td>0.086031</td>\n",
       "      <td>-66.508256</td>\n",
       "      <td>187.656209</td>\n",
       "      <td>0.174112</td>\n",
       "      <td>43.856251</td>\n",
       "      <td>2.772645</td>\n",
       "      <td>0.094960</td>\n",
       "      <td>1</td>\n",
       "    </tr>\n",
       "    <tr>\n",
       "      <th>962</th>\n",
       "      <td>VIP</td>\n",
       "      <td>26.764876</td>\n",
       "      <td>0.179304</td>\n",
       "      <td>-55.004411</td>\n",
       "      <td>263.906240</td>\n",
       "      <td>0.204977</td>\n",
       "      <td>49.118748</td>\n",
       "      <td>2.305283</td>\n",
       "      <td>0.001090</td>\n",
       "      <td>1</td>\n",
       "    </tr>\n",
       "    <tr>\n",
       "      <th>963</th>\n",
       "      <td>LAMP5/PAX6/Other</td>\n",
       "      <td>14.613369</td>\n",
       "      <td>0.440848</td>\n",
       "      <td>-65.396269</td>\n",
       "      <td>438.749999</td>\n",
       "      <td>0.405882</td>\n",
       "      <td>35.918751</td>\n",
       "      <td>3.655394</td>\n",
       "      <td>-0.004062</td>\n",
       "      <td>0</td>\n",
       "    </tr>\n",
       "  </tbody>\n",
       "</table>\n",
       "<p>323 rows × 10 columns</p>\n",
       "</div>"
      ],
      "text/plain": [
       "       subclass_label        tau       sag      vrest          ri  \\\n",
       "0    LAMP5/PAX6/Other  25.615145  0.064919 -67.400496  292.032540   \n",
       "1    LAMP5/PAX6/Other  21.026884  0.005976 -50.248360  371.867418   \n",
       "3    LAMP5/PAX6/Other  16.935895  0.034874 -65.238582  252.468705   \n",
       "6    LAMP5/PAX6/Other  57.667624  0.147336 -63.207101  841.105652   \n",
       "7    LAMP5/PAX6/Other  27.438774  0.049230 -60.421989  260.874897   \n",
       "..                ...        ...       ...        ...         ...   \n",
       "958             PVALB  13.677424  0.266409 -48.848053  267.921865   \n",
       "959             PVALB  11.421373  0.092579 -66.441664  135.468766   \n",
       "961               VIP  25.009076  0.086031 -66.508256  187.656209   \n",
       "962               VIP  26.764876  0.179304 -55.004411  263.906240   \n",
       "963  LAMP5/PAX6/Other  14.613369  0.440848 -65.396269  438.749999   \n",
       "\n",
       "     f_i_curve_slope  peak_v_long_square  \\\n",
       "0           0.391086           40.787498   \n",
       "1           0.483824           35.718750   \n",
       "3           0.480000           27.900000   \n",
       "6           0.362500           43.531250   \n",
       "7           0.384211           45.293751   \n",
       "..               ...                 ...   \n",
       "958         1.135333           17.018749   \n",
       "959         0.370732           37.662498   \n",
       "961         0.174112           43.856251   \n",
       "962         0.204977           49.118748   \n",
       "963         0.405882           35.918751   \n",
       "\n",
       "     upstroke_downstroke_ratio_long_square  adaptation  subclass  \n",
       "0                                 3.206679    0.033713         0  \n",
       "1                                 3.842133    0.017153         0  \n",
       "3                                 2.839593    0.053285         0  \n",
       "6                                 3.333950    0.030522         0  \n",
       "7                                 2.992211    0.061671         0  \n",
       "..                                     ...         ...       ...  \n",
       "958                               1.252728    0.001125         3  \n",
       "959                               2.117482    0.024105         3  \n",
       "961                               2.772645    0.094960         1  \n",
       "962                               2.305283    0.001090         1  \n",
       "963                               3.655394   -0.004062         0  \n",
       "\n",
       "[323 rows x 10 columns]"
      ]
     },
     "execution_count": 24,
     "metadata": {},
     "output_type": "execute_result"
    }
   ],
   "source": [
    "targets2 = {'LAMP5/PAX6/Other': 0, 'VIP': 1, 'SST':2, 'PVALB':3}\n",
    "targets = np.array(data2['subclass_label'].map(targets2))\n",
    "data2['subclass'] = targets\n",
    "data2"
   ]
  },
  {
   "cell_type": "code",
   "execution_count": 25,
   "metadata": {},
   "outputs": [],
   "source": [
    "data_targets2 = data2.drop(['subclass_label'], axis =1)"
   ]
  },
  {
   "cell_type": "code",
   "execution_count": 26,
   "metadata": {},
   "outputs": [
    {
     "data": {
      "text/plain": [
       "(323, 9)"
      ]
     },
     "execution_count": 26,
     "metadata": {},
     "output_type": "execute_result"
    }
   ],
   "source": [
    "data_targets2.shape"
   ]
  },
  {
   "cell_type": "code",
   "execution_count": 27,
   "metadata": {},
   "outputs": [],
   "source": [
    "unscaled_inputs2 = data_targets2.iloc[:,:-1]"
   ]
  },
  {
   "cell_type": "code",
   "execution_count": 28,
   "metadata": {},
   "outputs": [
    {
     "data": {
      "text/plain": [
       "StandardScaler(copy=True, with_mean=True, with_std=True)"
      ]
     },
     "execution_count": 28,
     "metadata": {},
     "output_type": "execute_result"
    }
   ],
   "source": [
    "subclass_scaler = StandardScaler()\n",
    "subclass_scaler.fit(unscaled_inputs2)"
   ]
  },
  {
   "cell_type": "code",
   "execution_count": 29,
   "metadata": {},
   "outputs": [],
   "source": [
    "scaled_inputs2 = subclass_scaler.transform(unscaled_inputs2)"
   ]
  },
  {
   "cell_type": "code",
   "execution_count": 30,
   "metadata": {},
   "outputs": [],
   "source": [
    "x_train, x_test, y_train, y_test = train_test_split(scaled_inputs2, targets, train_size = 0.8, random_state = 20)"
   ]
  },
  {
   "cell_type": "code",
   "execution_count": 31,
   "metadata": {},
   "outputs": [
    {
     "name": "stdout",
     "output_type": "stream",
     "text": [
      "(65, 8) (65,)\n"
     ]
    }
   ],
   "source": [
    "print(x_test.shape, y_test.shape)"
   ]
  },
  {
   "cell_type": "code",
   "execution_count": 32,
   "metadata": {},
   "outputs": [],
   "source": [
    "reg = LogisticRegression(multi_class= 'ovr')"
   ]
  },
  {
   "cell_type": "code",
   "execution_count": 33,
   "metadata": {},
   "outputs": [
    {
     "data": {
      "text/plain": [
       "LogisticRegression(C=1.0, class_weight=None, dual=False, fit_intercept=True,\n",
       "                   intercept_scaling=1, l1_ratio=None, max_iter=100,\n",
       "                   multi_class='ovr', n_jobs=None, penalty='l2',\n",
       "                   random_state=None, solver='lbfgs', tol=0.0001, verbose=0,\n",
       "                   warm_start=False)"
      ]
     },
     "execution_count": 33,
     "metadata": {},
     "output_type": "execute_result"
    }
   ],
   "source": [
    "reg.fit(x_train,y_train)"
   ]
  },
  {
   "cell_type": "code",
   "execution_count": 34,
   "metadata": {},
   "outputs": [
    {
     "data": {
      "text/plain": [
       "0.7906976744186046"
      ]
     },
     "execution_count": 34,
     "metadata": {},
     "output_type": "execute_result"
    }
   ],
   "source": [
    "reg.score(x_train,y_train)"
   ]
  },
  {
   "cell_type": "code",
   "execution_count": 35,
   "metadata": {},
   "outputs": [
    {
     "data": {
      "text/plain": [
       "array([0, 0, 0, 3, 0, 3, 0, 0, 0, 3, 1, 0, 0, 0, 0, 3, 0, 3, 1, 0, 0, 0,\n",
       "       3, 3, 0, 0, 3, 3, 0, 0, 0, 1, 3, 0, 0, 1, 0, 0, 0, 0, 3, 0, 0, 3,\n",
       "       0, 3, 3, 0, 3, 1, 1, 0, 0, 0, 3, 0, 0, 3, 3, 3, 0, 3, 0, 0, 0, 0,\n",
       "       0, 0, 0, 0, 3, 0, 0, 0, 0, 0, 0, 3, 0, 1, 0, 0, 0, 0, 3, 0, 0, 1,\n",
       "       0, 0, 3, 3, 0, 0, 0, 2, 3, 0, 0, 0, 3, 0, 0, 0, 0, 0, 3, 0, 0, 0,\n",
       "       0, 0, 0, 0, 0, 0, 0, 3, 3, 3, 1, 3, 0, 3, 0, 1, 0, 1, 0, 0, 3, 0,\n",
       "       0, 0, 0, 3, 1, 0, 2, 1, 3, 0, 0, 0, 3, 0, 1, 3, 1, 0, 0, 3, 0, 0,\n",
       "       0, 0, 0, 0, 0, 0, 1, 3, 1, 0, 3, 0, 3, 3, 0, 0, 0, 0, 3, 3, 3, 3,\n",
       "       3, 1, 0, 3, 0, 3, 3, 0, 3, 3, 0, 0, 0, 0, 3, 0, 0, 0, 3, 1, 3, 3,\n",
       "       3, 0, 0, 0, 0, 1, 1, 0, 0, 0, 3, 0, 0, 1, 0, 3, 0, 1, 0, 0, 3, 3,\n",
       "       0, 0, 3, 0, 0, 1, 0, 1, 3, 0, 3, 3, 0, 3, 3, 0, 3, 0, 1, 3, 3, 0,\n",
       "       2, 3, 0, 0, 0, 0, 1, 3, 0, 0, 3, 0, 0, 0, 3, 1], dtype=int64)"
      ]
     },
     "execution_count": 35,
     "metadata": {},
     "output_type": "execute_result"
    }
   ],
   "source": [
    "reg.predict(x_train)"
   ]
  },
  {
   "cell_type": "code",
   "execution_count": 36,
   "metadata": {},
   "outputs": [
    {
     "data": {
      "text/html": [
       "<div>\n",
       "<style scoped>\n",
       "    .dataframe tbody tr th:only-of-type {\n",
       "        vertical-align: middle;\n",
       "    }\n",
       "\n",
       "    .dataframe tbody tr th {\n",
       "        vertical-align: top;\n",
       "    }\n",
       "\n",
       "    .dataframe thead th {\n",
       "        text-align: right;\n",
       "    }\n",
       "</style>\n",
       "<table border=\"1\" class=\"dataframe\">\n",
       "  <thead>\n",
       "    <tr style=\"text-align: right;\">\n",
       "      <th></th>\n",
       "      <th>Feature</th>\n",
       "      <th>Coefficient1</th>\n",
       "      <th>Coefficient2</th>\n",
       "      <th>Coefficient3</th>\n",
       "      <th>Coefficient4</th>\n",
       "      <th>Odds_ratio</th>\n",
       "    </tr>\n",
       "  </thead>\n",
       "  <tbody>\n",
       "    <tr>\n",
       "      <th>6</th>\n",
       "      <td>upstroke_downstroke_ratio_long_square</td>\n",
       "      <td>2.139415</td>\n",
       "      <td>-0.582150</td>\n",
       "      <td>-0.449740</td>\n",
       "      <td>-2.481622</td>\n",
       "      <td>8.494470</td>\n",
       "    </tr>\n",
       "    <tr>\n",
       "      <th>3</th>\n",
       "      <td>ri</td>\n",
       "      <td>0.373526</td>\n",
       "      <td>0.517735</td>\n",
       "      <td>-0.458001</td>\n",
       "      <td>-1.105692</td>\n",
       "      <td>1.452848</td>\n",
       "    </tr>\n",
       "    <tr>\n",
       "      <th>2</th>\n",
       "      <td>vrest</td>\n",
       "      <td>-0.045342</td>\n",
       "      <td>0.083989</td>\n",
       "      <td>-0.366644</td>\n",
       "      <td>0.384840</td>\n",
       "      <td>0.955670</td>\n",
       "    </tr>\n",
       "    <tr>\n",
       "      <th>5</th>\n",
       "      <td>peak_v_long_square</td>\n",
       "      <td>-0.054863</td>\n",
       "      <td>-0.109825</td>\n",
       "      <td>0.552122</td>\n",
       "      <td>-0.251837</td>\n",
       "      <td>0.946614</td>\n",
       "    </tr>\n",
       "    <tr>\n",
       "      <th>1</th>\n",
       "      <td>sag</td>\n",
       "      <td>-0.168102</td>\n",
       "      <td>0.363061</td>\n",
       "      <td>0.432980</td>\n",
       "      <td>-0.430339</td>\n",
       "      <td>0.845268</td>\n",
       "    </tr>\n",
       "    <tr>\n",
       "      <th>7</th>\n",
       "      <td>adaptation</td>\n",
       "      <td>-0.296417</td>\n",
       "      <td>0.198987</td>\n",
       "      <td>-0.355029</td>\n",
       "      <td>0.042508</td>\n",
       "      <td>0.743477</td>\n",
       "    </tr>\n",
       "    <tr>\n",
       "      <th>4</th>\n",
       "      <td>f_i_curve_slope</td>\n",
       "      <td>-0.436832</td>\n",
       "      <td>-0.063238</td>\n",
       "      <td>0.171182</td>\n",
       "      <td>0.480724</td>\n",
       "      <td>0.646080</td>\n",
       "    </tr>\n",
       "    <tr>\n",
       "      <th>0</th>\n",
       "      <td>tau</td>\n",
       "      <td>-0.555297</td>\n",
       "      <td>0.404669</td>\n",
       "      <td>1.032681</td>\n",
       "      <td>-1.614735</td>\n",
       "      <td>0.573902</td>\n",
       "    </tr>\n",
       "  </tbody>\n",
       "</table>\n",
       "</div>"
      ],
      "text/plain": [
       "                                 Feature  Coefficient1  Coefficient2  \\\n",
       "6  upstroke_downstroke_ratio_long_square      2.139415     -0.582150   \n",
       "3                                     ri      0.373526      0.517735   \n",
       "2                                  vrest     -0.045342      0.083989   \n",
       "5                     peak_v_long_square     -0.054863     -0.109825   \n",
       "1                                    sag     -0.168102      0.363061   \n",
       "7                             adaptation     -0.296417      0.198987   \n",
       "4                        f_i_curve_slope     -0.436832     -0.063238   \n",
       "0                                    tau     -0.555297      0.404669   \n",
       "\n",
       "   Coefficient3  Coefficient4  Odds_ratio  \n",
       "6     -0.449740     -2.481622    8.494470  \n",
       "3     -0.458001     -1.105692    1.452848  \n",
       "2     -0.366644      0.384840    0.955670  \n",
       "5      0.552122     -0.251837    0.946614  \n",
       "1      0.432980     -0.430339    0.845268  \n",
       "7     -0.355029      0.042508    0.743477  \n",
       "4      0.171182      0.480724    0.646080  \n",
       "0      1.032681     -1.614735    0.573902  "
      ]
     },
     "execution_count": 36,
     "metadata": {},
     "output_type": "execute_result"
    }
   ],
   "source": [
    "Feature = unscaled_inputs2.columns.values\n",
    "summary_table = pd.DataFrame(columns = ['Feature'], data = Feature)\n",
    "summary_table['Coefficient1'] = np.transpose(reg.coef_[0])\n",
    "summary_table['Coefficient2'] = np.transpose(reg.coef_[1])\n",
    "summary_table['Coefficient3'] = np.transpose(reg.coef_[2])\n",
    "summary_table['Coefficient4'] = np.transpose(reg.coef_[3])\n",
    "summary_table['Odds_ratio'] = np.exp(summary_table.Coefficient1)\n",
    "summary_table.sort_values('Odds_ratio', ascending=False)"
   ]
  },
  {
   "cell_type": "code",
   "execution_count": 37,
   "metadata": {},
   "outputs": [
    {
     "data": {
      "text/plain": [
       "array([[-0.55529708, -0.16810198, -0.04534229,  0.37352588, -0.43683249,\n",
       "        -0.05486337,  2.13941532, -0.2964169 ],\n",
       "       [ 0.40466939,  0.36306135,  0.08398883,  0.51773475, -0.06323777,\n",
       "        -0.10982455, -0.58215036,  0.19898718],\n",
       "       [ 1.0326814 ,  0.4329795 , -0.36664386, -0.45800075,  0.17118172,\n",
       "         0.55212228, -0.4497401 , -0.35502927],\n",
       "       [-1.61473537, -0.43033936,  0.38484002, -1.10569177,  0.48072378,\n",
       "        -0.25183653, -2.48162199,  0.042508  ]])"
      ]
     },
     "execution_count": 37,
     "metadata": {},
     "output_type": "execute_result"
    }
   ],
   "source": [
    "reg.coef_"
   ]
  },
  {
   "cell_type": "code",
   "execution_count": 38,
   "metadata": {},
   "outputs": [],
   "source": [
    "score = reg.score(x_test,y_test)"
   ]
  },
  {
   "cell_type": "code",
   "execution_count": 39,
   "metadata": {},
   "outputs": [],
   "source": [
    "predictions = reg.predict(x_test)\n",
    "cm = metrics.confusion_matrix(y_test, predictions)"
   ]
  },
  {
   "cell_type": "code",
   "execution_count": 40,
   "metadata": {},
   "outputs": [
    {
     "data": {
      "image/png": "[encoded data removed]",
      "text/plain": [
       "<Figure size 648x648 with 2 Axes>"
      ]
     },
     "metadata": {
      "needs_background": "light"
     },
     "output_type": "display_data"
    }
   ],
   "source": [
    "plt.figure(figsize=(9,9))\n",
    "sns.heatmap(cm, annot=True, fmt=\".3f\", linewidths=.5, square = True, cmap = 'Blues_r');\n",
    "plt.ylabel('Actual label');\n",
    "plt.xlabel('Predicted label');\n",
    "all_sample_title = 'Accuracy Score: {0}'.format(score)\n",
    "plt.title(all_sample_title, size = 15);"
   ]
  },
  {
   "cell_type": "markdown",
   "metadata": {},
   "source": [
    "# mouse subclass predictions"
   ]
  },
  {
   "cell_type": "code",
   "execution_count": 41,
   "metadata": {},
   "outputs": [
    {
     "name": "stderr",
     "output_type": "stream",
     "text": [
      "C:\\Users\\lindsayn\\AppData\\Local\\Continuum\\anaconda2\\envs\\umap3\\lib\\site-packages\\IPython\\core\\interactiveshell.py:3049: DtypeWarning: Columns (35,41,256,265,276) have mixed types. Specify dtype option on import or set low_memory=False.\n",
      "  interactivity=interactivity, compiler=compiler, result=result)\n"
     ]
    },
    {
     "data": {
      "text/plain": [
       "array(['Lamp5', 'Vip', 'Sst', 'Pvalb'], dtype=object)"
      ]
     },
     "execution_count": 41,
     "metadata": {},
     "output_type": "execute_result"
    }
   ],
   "source": [
    "data = pd.read_csv('mouse_ephys_200416.csv')\n",
    "data1 = data[data['Norm_Marker_Sum.0.4_label']== True]\n",
    "#data1 = data1[data1['broad_class_label']== 'GABAergic']\n",
    "data1 = data1[data1['subclass_label'].isin(['Lamp5','Vip','Sst','Pvalb'])]\n",
    "data1 = data1[['subclass_label','tau','sag', 'vrest', 'ri', 'f_i_curve_slope', 'peak_v_long_square', 'upstroke_downstroke_ratio_long_square','adaptation']]\n",
    "data1 = data1.dropna()\n",
    "data1.subclass_label.unique()"
   ]
  },
  {
   "cell_type": "code",
   "execution_count": 42,
   "metadata": {},
   "outputs": [
    {
     "data": {
      "text/html": [
       "<div>\n",
       "<style scoped>\n",
       "    .dataframe tbody tr th:only-of-type {\n",
       "        vertical-align: middle;\n",
       "    }\n",
       "\n",
       "    .dataframe tbody tr th {\n",
       "        vertical-align: top;\n",
       "    }\n",
       "\n",
       "    .dataframe thead th {\n",
       "        text-align: right;\n",
       "    }\n",
       "</style>\n",
       "<table border=\"1\" class=\"dataframe\">\n",
       "  <thead>\n",
       "    <tr style=\"text-align: right;\">\n",
       "      <th></th>\n",
       "      <th>subclass_label</th>\n",
       "      <th>tau</th>\n",
       "      <th>sag</th>\n",
       "      <th>vrest</th>\n",
       "      <th>ri</th>\n",
       "      <th>f_i_curve_slope</th>\n",
       "      <th>peak_v_long_square</th>\n",
       "      <th>upstroke_downstroke_ratio_long_square</th>\n",
       "      <th>adaptation</th>\n",
       "      <th>subclass</th>\n",
       "    </tr>\n",
       "  </thead>\n",
       "  <tbody>\n",
       "    <tr>\n",
       "      <th>1101</th>\n",
       "      <td>Lamp5</td>\n",
       "      <td>5.837121</td>\n",
       "      <td>0.033936</td>\n",
       "      <td>-74.639148</td>\n",
       "      <td>67.500003</td>\n",
       "      <td>0.158571</td>\n",
       "      <td>31.312500</td>\n",
       "      <td>4.222604</td>\n",
       "      <td>0.002929</td>\n",
       "      <td>0</td>\n",
       "    </tr>\n",
       "    <tr>\n",
       "      <th>1102</th>\n",
       "      <td>Lamp5</td>\n",
       "      <td>10.905297</td>\n",
       "      <td>0.029682</td>\n",
       "      <td>-65.556981</td>\n",
       "      <td>168.718725</td>\n",
       "      <td>0.130000</td>\n",
       "      <td>29.568750</td>\n",
       "      <td>3.150607</td>\n",
       "      <td>0.453605</td>\n",
       "      <td>0</td>\n",
       "    </tr>\n",
       "    <tr>\n",
       "      <th>1104</th>\n",
       "      <td>Lamp5</td>\n",
       "      <td>16.654066</td>\n",
       "      <td>0.231879</td>\n",
       "      <td>-69.985781</td>\n",
       "      <td>208.031267</td>\n",
       "      <td>0.014732</td>\n",
       "      <td>41.125000</td>\n",
       "      <td>2.997772</td>\n",
       "      <td>0.198428</td>\n",
       "      <td>0</td>\n",
       "    </tr>\n",
       "    <tr>\n",
       "      <th>1105</th>\n",
       "      <td>Lamp5</td>\n",
       "      <td>13.974860</td>\n",
       "      <td>0.105517</td>\n",
       "      <td>-68.949945</td>\n",
       "      <td>238.968804</td>\n",
       "      <td>0.260000</td>\n",
       "      <td>21.131250</td>\n",
       "      <td>3.737771</td>\n",
       "      <td>0.024273</td>\n",
       "      <td>0</td>\n",
       "    </tr>\n",
       "    <tr>\n",
       "      <th>1106</th>\n",
       "      <td>Lamp5</td>\n",
       "      <td>10.492158</td>\n",
       "      <td>0.150462</td>\n",
       "      <td>-67.732542</td>\n",
       "      <td>202.656180</td>\n",
       "      <td>0.240000</td>\n",
       "      <td>22.712500</td>\n",
       "      <td>3.268223</td>\n",
       "      <td>0.006093</td>\n",
       "      <td>0</td>\n",
       "    </tr>\n",
       "    <tr>\n",
       "      <th>...</th>\n",
       "      <td>...</td>\n",
       "      <td>...</td>\n",
       "      <td>...</td>\n",
       "      <td>...</td>\n",
       "      <td>...</td>\n",
       "      <td>...</td>\n",
       "      <td>...</td>\n",
       "      <td>...</td>\n",
       "      <td>...</td>\n",
       "      <td>...</td>\n",
       "    </tr>\n",
       "    <tr>\n",
       "      <th>8117</th>\n",
       "      <td>Vip</td>\n",
       "      <td>10.381157</td>\n",
       "      <td>0.077402</td>\n",
       "      <td>-72.156763</td>\n",
       "      <td>285.937488</td>\n",
       "      <td>0.414894</td>\n",
       "      <td>26.337500</td>\n",
       "      <td>3.216876</td>\n",
       "      <td>0.048587</td>\n",
       "      <td>1</td>\n",
       "    </tr>\n",
       "    <tr>\n",
       "      <th>8162</th>\n",
       "      <td>Vip</td>\n",
       "      <td>12.687726</td>\n",
       "      <td>0.184129</td>\n",
       "      <td>-57.116054</td>\n",
       "      <td>232.500076</td>\n",
       "      <td>0.080000</td>\n",
       "      <td>40.899998</td>\n",
       "      <td>2.635290</td>\n",
       "      <td>0.070356</td>\n",
       "      <td>1</td>\n",
       "    </tr>\n",
       "    <tr>\n",
       "      <th>8301</th>\n",
       "      <td>Pvalb</td>\n",
       "      <td>17.116914</td>\n",
       "      <td>0.082474</td>\n",
       "      <td>-75.781204</td>\n",
       "      <td>157.343745</td>\n",
       "      <td>0.265714</td>\n",
       "      <td>15.000000</td>\n",
       "      <td>2.268127</td>\n",
       "      <td>0.435415</td>\n",
       "      <td>3</td>\n",
       "    </tr>\n",
       "    <tr>\n",
       "      <th>8351</th>\n",
       "      <td>Lamp5</td>\n",
       "      <td>9.043084</td>\n",
       "      <td>0.071921</td>\n",
       "      <td>-68.029941</td>\n",
       "      <td>170.625120</td>\n",
       "      <td>0.230000</td>\n",
       "      <td>29.643749</td>\n",
       "      <td>3.348968</td>\n",
       "      <td>0.013739</td>\n",
       "      <td>0</td>\n",
       "    </tr>\n",
       "    <tr>\n",
       "      <th>8352</th>\n",
       "      <td>Vip</td>\n",
       "      <td>15.908945</td>\n",
       "      <td>0.073339</td>\n",
       "      <td>-70.262678</td>\n",
       "      <td>282.343864</td>\n",
       "      <td>0.034127</td>\n",
       "      <td>11.800000</td>\n",
       "      <td>2.782984</td>\n",
       "      <td>0.244750</td>\n",
       "      <td>1</td>\n",
       "    </tr>\n",
       "  </tbody>\n",
       "</table>\n",
       "<p>3474 rows × 10 columns</p>\n",
       "</div>"
      ],
      "text/plain": [
       "     subclass_label        tau       sag      vrest          ri  \\\n",
       "1101          Lamp5   5.837121  0.033936 -74.639148   67.500003   \n",
       "1102          Lamp5  10.905297  0.029682 -65.556981  168.718725   \n",
       "1104          Lamp5  16.654066  0.231879 -69.985781  208.031267   \n",
       "1105          Lamp5  13.974860  0.105517 -68.949945  238.968804   \n",
       "1106          Lamp5  10.492158  0.150462 -67.732542  202.656180   \n",
       "...             ...        ...       ...        ...         ...   \n",
       "8117            Vip  10.381157  0.077402 -72.156763  285.937488   \n",
       "8162            Vip  12.687726  0.184129 -57.116054  232.500076   \n",
       "8301          Pvalb  17.116914  0.082474 -75.781204  157.343745   \n",
       "8351          Lamp5   9.043084  0.071921 -68.029941  170.625120   \n",
       "8352            Vip  15.908945  0.073339 -70.262678  282.343864   \n",
       "\n",
       "      f_i_curve_slope  peak_v_long_square  \\\n",
       "1101         0.158571           31.312500   \n",
       "1102         0.130000           29.568750   \n",
       "1104         0.014732           41.125000   \n",
       "1105         0.260000           21.131250   \n",
       "1106         0.240000           22.712500   \n",
       "...               ...                 ...   \n",
       "8117         0.414894           26.337500   \n",
       "8162         0.080000           40.899998   \n",
       "8301         0.265714           15.000000   \n",
       "8351         0.230000           29.643749   \n",
       "8352         0.034127           11.800000   \n",
       "\n",
       "      upstroke_downstroke_ratio_long_square  adaptation  subclass  \n",
       "1101                               4.222604    0.002929         0  \n",
       "1102                               3.150607    0.453605         0  \n",
       "1104                               2.997772    0.198428         0  \n",
       "1105                               3.737771    0.024273         0  \n",
       "1106                               3.268223    0.006093         0  \n",
       "...                                     ...         ...       ...  \n",
       "8117                               3.216876    0.048587         1  \n",
       "8162                               2.635290    0.070356         1  \n",
       "8301                               2.268127    0.435415         3  \n",
       "8351                               3.348968    0.013739         0  \n",
       "8352                               2.782984    0.244750         1  \n",
       "\n",
       "[3474 rows x 10 columns]"
      ]
     },
     "execution_count": 42,
     "metadata": {},
     "output_type": "execute_result"
    }
   ],
   "source": [
    "target = {'Lamp5': 0,'Vip':1, 'Sst':2, 'Pvalb':3}\n",
    "targets = np.array(data1['subclass_label'].map(target))\n",
    "data1['subclass'] = targets\n",
    "data1"
   ]
  },
  {
   "cell_type": "code",
   "execution_count": 43,
   "metadata": {},
   "outputs": [
    {
     "data": {
      "text/plain": [
       "0.9129183159409859"
      ]
     },
     "execution_count": 43,
     "metadata": {},
     "output_type": "execute_result"
    }
   ],
   "source": [
    "data_targets = data1.drop(['subclass_label'], axis =1)\n",
    "unscaled_inputs = data_targets.iloc[:,:-1]\n",
    "subclass_scaler = StandardScaler()\n",
    "subclass_scaler.fit(unscaled_inputs)\n",
    "scaled_inputs = subclass_scaler.transform(unscaled_inputs)\n",
    "x_train, x_test, y_train, y_test = train_test_split(scaled_inputs, targets, train_size = 0.8, random_state = 20)\n",
    "reg = LogisticRegression(multi_class= 'ovr')\n",
    "reg.fit(x_train,y_train)\n",
    "reg.score(x_train,y_train)"
   ]
  },
  {
   "cell_type": "markdown",
   "metadata": {},
   "source": [
    "### multiple logistic regression"
   ]
  },
  {
   "cell_type": "code",
   "execution_count": 44,
   "metadata": {},
   "outputs": [
    {
     "data": {
      "image/png": "[encoded data removed]",
      "text/plain": [
       "<Figure size 648x648 with 2 Axes>"
      ]
     },
     "metadata": {
      "needs_background": "light"
     },
     "output_type": "display_data"
    }
   ],
   "source": [
    "score = reg.score(x_test,y_test)\n",
    "predictions = reg.predict(x_test)\n",
    "cm = metrics.confusion_matrix(y_test, predictions)\n",
    "plt.figure(figsize=(9,9))\n",
    "sns.heatmap(cm, annot=True, fmt=\".0f\", linewidths=.5, square = True, cmap = 'Blues', xticklabels = ['Lamp5', 'Vip',\n",
    "    'Sst','Pvalb'], yticklabels = ['Lamp5', 'Vip','Sst','Pvalb'])\n",
    "plt.ylabel('Actual label \\n', size = 15);\n",
    "plt.xlabel('\\n Predicted label', size = 15);\n",
    "all_sample_title = 'Accuracy Score: {:.2f} \\n n = {}'.format(score, predictions.size)\n",
    "plt.title(all_sample_title, size = 17);\n",
    "#plt.savefig('mouse_confusion_matrix.png')"
   ]
  },
  {
   "cell_type": "code",
   "execution_count": 45,
   "metadata": {},
   "outputs": [
    {
     "data": {
      "text/html": [
       "<div>\n",
       "<style scoped>\n",
       "    .dataframe tbody tr th:only-of-type {\n",
       "        vertical-align: middle;\n",
       "    }\n",
       "\n",
       "    .dataframe tbody tr th {\n",
       "        vertical-align: top;\n",
       "    }\n",
       "\n",
       "    .dataframe thead th {\n",
       "        text-align: right;\n",
       "    }\n",
       "</style>\n",
       "<table border=\"1\" class=\"dataframe\">\n",
       "  <thead>\n",
       "    <tr style=\"text-align: right;\">\n",
       "      <th></th>\n",
       "      <th>Feature</th>\n",
       "      <th>Lamp5</th>\n",
       "      <th>Vip</th>\n",
       "      <th>Sst</th>\n",
       "      <th>Pvalb</th>\n",
       "    </tr>\n",
       "  </thead>\n",
       "  <tbody>\n",
       "    <tr>\n",
       "      <th>6</th>\n",
       "      <td>upstroke_downstroke_ratio_long_square</td>\n",
       "      <td>2.102519</td>\n",
       "      <td>1.321865</td>\n",
       "      <td>-2.863210</td>\n",
       "      <td>-3.301957</td>\n",
       "    </tr>\n",
       "    <tr>\n",
       "      <th>2</th>\n",
       "      <td>vrest</td>\n",
       "      <td>0.384282</td>\n",
       "      <td>0.020265</td>\n",
       "      <td>-0.426249</td>\n",
       "      <td>0.216075</td>\n",
       "    </tr>\n",
       "    <tr>\n",
       "      <th>1</th>\n",
       "      <td>sag</td>\n",
       "      <td>0.190782</td>\n",
       "      <td>0.241973</td>\n",
       "      <td>0.151058</td>\n",
       "      <td>-0.547054</td>\n",
       "    </tr>\n",
       "    <tr>\n",
       "      <th>5</th>\n",
       "      <td>peak_v_long_square</td>\n",
       "      <td>-0.796153</td>\n",
       "      <td>0.568286</td>\n",
       "      <td>0.364404</td>\n",
       "      <td>-0.442066</td>\n",
       "    </tr>\n",
       "    <tr>\n",
       "      <th>7</th>\n",
       "      <td>adaptation</td>\n",
       "      <td>-0.907045</td>\n",
       "      <td>0.460001</td>\n",
       "      <td>0.307765</td>\n",
       "      <td>-0.336124</td>\n",
       "    </tr>\n",
       "    <tr>\n",
       "      <th>4</th>\n",
       "      <td>f_i_curve_slope</td>\n",
       "      <td>-1.348148</td>\n",
       "      <td>-0.839723</td>\n",
       "      <td>-0.778557</td>\n",
       "      <td>0.978843</td>\n",
       "    </tr>\n",
       "    <tr>\n",
       "      <th>3</th>\n",
       "      <td>ri</td>\n",
       "      <td>-1.747316</td>\n",
       "      <td>2.314401</td>\n",
       "      <td>-0.443043</td>\n",
       "      <td>-0.523284</td>\n",
       "    </tr>\n",
       "    <tr>\n",
       "      <th>0</th>\n",
       "      <td>tau</td>\n",
       "      <td>-2.255083</td>\n",
       "      <td>-2.661813</td>\n",
       "      <td>5.044616</td>\n",
       "      <td>-3.234455</td>\n",
       "    </tr>\n",
       "  </tbody>\n",
       "</table>\n",
       "</div>"
      ],
      "text/plain": [
       "                                 Feature     Lamp5       Vip       Sst  \\\n",
       "6  upstroke_downstroke_ratio_long_square  2.102519  1.321865 -2.863210   \n",
       "2                                  vrest  0.384282  0.020265 -0.426249   \n",
       "1                                    sag  0.190782  0.241973  0.151058   \n",
       "5                     peak_v_long_square -0.796153  0.568286  0.364404   \n",
       "7                             adaptation -0.907045  0.460001  0.307765   \n",
       "4                        f_i_curve_slope -1.348148 -0.839723 -0.778557   \n",
       "3                                     ri -1.747316  2.314401 -0.443043   \n",
       "0                                    tau -2.255083 -2.661813  5.044616   \n",
       "\n",
       "      Pvalb  \n",
       "6 -3.301957  \n",
       "2  0.216075  \n",
       "1 -0.547054  \n",
       "5 -0.442066  \n",
       "7 -0.336124  \n",
       "4  0.978843  \n",
       "3 -0.523284  \n",
       "0 -3.234455  "
      ]
     },
     "execution_count": 45,
     "metadata": {},
     "output_type": "execute_result"
    }
   ],
   "source": [
    "Feature = unscaled_inputs.columns.values\n",
    "summary_table = pd.DataFrame(columns = ['Feature'], data = Feature)\n",
    "summary_table['Lamp5'] = np.transpose(reg.coef_[0])\n",
    "summary_table['Vip'] = np.transpose(reg.coef_[1])\n",
    "summary_table['Sst'] = np.transpose(reg.coef_[2])\n",
    "summary_table['Pvalb'] = np.transpose(reg.coef_[3])\n",
    "#summary_table['Odds_ratio'] = np.exp(summary_table.Coefficient1)\n",
    "summary_table.sort_values('Lamp5', ascending=False)"
   ]
  },
  {
   "cell_type": "markdown",
   "metadata": {},
   "source": [
    "### linear support vector machine"
   ]
  },
  {
   "cell_type": "code",
   "execution_count": 46,
   "metadata": {},
   "outputs": [
    {
     "data": {
      "text/plain": [
       "SVC(C=1.0, break_ties=False, cache_size=200, class_weight=None, coef0=0.0,\n",
       "    decision_function_shape='ovr', degree=3, gamma='scale', kernel='linear',\n",
       "    max_iter=-1, probability=False, random_state=None, shrinking=True,\n",
       "    tol=0.001, verbose=False)"
      ]
     },
     "execution_count": 46,
     "metadata": {},
     "output_type": "execute_result"
    }
   ],
   "source": [
    "from sklearn.svm import SVC\n",
    "svclassifier = SVC(kernel='linear')\n",
    "svclassifier.fit(x_train, y_train)"
   ]
  },
  {
   "cell_type": "code",
   "execution_count": 47,
   "metadata": {},
   "outputs": [
    {
     "data": {
      "text/plain": [
       "0.920115149334293"
      ]
     },
     "execution_count": 47,
     "metadata": {},
     "output_type": "execute_result"
    }
   ],
   "source": [
    "svclassifier.score(x_train, y_train)"
   ]
  },
  {
   "cell_type": "code",
   "execution_count": 48,
   "metadata": {},
   "outputs": [
    {
     "data": {
      "image/png": "[encoded data removed]",
      "text/plain": [
       "<Figure size 648x648 with 2 Axes>"
      ]
     },
     "metadata": {
      "needs_background": "light"
     },
     "output_type": "display_data"
    }
   ],
   "source": [
    "score = svclassifier.score(x_test,y_test)\n",
    "predictions = svclassifier.predict(x_test)\n",
    "cm = metrics.confusion_matrix(y_test, predictions)\n",
    "plt.figure(figsize=(9,9))\n",
    "sns.heatmap(cm, annot=True, fmt=\".0f\", linewidths=.5, square = True, cmap = 'Blues', xticklabels = ['Lamp5', 'Vip',\n",
    "    'Sst','Pvalb'], yticklabels = ['Lamp5', 'Vip','Sst','Pvalb'])\n",
    "plt.ylabel('Actual label \\n', size = 15);\n",
    "plt.xlabel('\\n Predicted label', size = 15);\n",
    "all_sample_title = 'Accuracy Score: {:.2f} \\n n = {}'.format(score, predictions.size)\n",
    "plt.title(all_sample_title, size = 17);\n",
    "#plt.savefig('mouse_confusion_matrix.png')"
   ]
  },
  {
   "cell_type": "markdown",
   "metadata": {},
   "source": [
    "### k-nearest neighbors"
   ]
  },
  {
   "cell_type": "code",
   "execution_count": 49,
   "metadata": {},
   "outputs": [
    {
     "data": {
      "text/plain": [
       "0.9355883411299029"
      ]
     },
     "execution_count": 49,
     "metadata": {},
     "output_type": "execute_result"
    }
   ],
   "source": [
    "from sklearn.neighbors import KNeighborsClassifier\n",
    "classifier = KNeighborsClassifier(n_neighbors=5)\n",
    "classifier.fit(x_train, y_train)\n",
    "classifier.score(x_train, y_train)"
   ]
  },
  {
   "cell_type": "code",
   "execution_count": 50,
   "metadata": {},
   "outputs": [
    {
     "data": {
      "image/png": "[encoded data removed]",
      "text/plain": [
       "<Figure size 648x648 with 2 Axes>"
      ]
     },
     "metadata": {
      "needs_background": "light"
     },
     "output_type": "display_data"
    }
   ],
   "source": [
    "score = classifier.score(x_test,y_test)\n",
    "predictions = classifier.predict(x_test)\n",
    "cm = metrics.confusion_matrix(y_test, predictions)\n",
    "plt.figure(figsize=(9,9))\n",
    "sns.heatmap(cm, annot=True, fmt=\".0f\", linewidths=.5, square = True, cmap = 'Blues', xticklabels = ['Lamp5', 'Vip',\n",
    "    'Sst','Pvalb'], yticklabels = ['Lamp5', 'Vip','Sst','Pvalb'])\n",
    "plt.ylabel('Actual label \\n', size = 15);\n",
    "plt.xlabel('\\n Predicted label', size = 15);\n",
    "all_sample_title = 'Accuracy Score: {:.2f} \\n n = {}'.format(score, predictions.size)\n",
    "plt.title(all_sample_title, size = 17);\n",
    "#plt.savefig('mouse_confusion_matrix.png')"
   ]
  },
  {
   "cell_type": "markdown",
   "metadata": {},
   "source": [
    "### random forest"
   ]
  },
  {
   "cell_type": "code",
   "execution_count": 51,
   "metadata": {},
   "outputs": [
    {
     "data": {
      "text/plain": [
       "0.9982007916516733"
      ]
     },
     "execution_count": 51,
     "metadata": {},
     "output_type": "execute_result"
    }
   ],
   "source": [
    "from sklearn.ensemble import RandomForestClassifier\n",
    "\n",
    "classifier = RandomForestClassifier(n_estimators=20, random_state=0)\n",
    "classifier.fit(x_train, y_train)\n",
    "classifier.score(x_train, y_train)"
   ]
  },
  {
   "cell_type": "code",
   "execution_count": 52,
   "metadata": {},
   "outputs": [
    {
     "data": {
      "image/png": "[encoded data removed]",
      "text/plain": [
       "<Figure size 648x648 with 2 Axes>"
      ]
     },
     "metadata": {
      "needs_background": "light"
     },
     "output_type": "display_data"
    }
   ],
   "source": [
    "score = classifier.score(x_test,y_test)\n",
    "predictions = classifier.predict(x_test)\n",
    "cm = metrics.confusion_matrix(y_test, predictions)\n",
    "cmn = cm.astype('float') / cm.sum(axis=1)[:, np.newaxis]\n",
    "plt.figure(figsize=(9,9))\n",
    "sns.heatmap(cmn, annot=True, fmt=\".2f\", linewidths=.5, square = True, cmap = 'Blues', xticklabels = ['Lamp5', 'Vip',\n",
    "    'Sst','Pvalb'], yticklabels = ['Lamp5', 'Vip','Sst','Pvalb'])\n",
    "plt.ylabel('Actual label \\n', size = 15);\n",
    "plt.xlabel('\\n Predicted label', size = 15);\n",
    "all_sample_title = 'Accuracy Score: {:.2f} \\n n = {}'.format(score, predictions.size)\n",
    "plt.title(all_sample_title, size = 17);\n",
    "#plt.savefig('inh_mouse_confusion_matrix.png')"
   ]
  },
  {
   "cell_type": "code",
   "execution_count": 53,
   "metadata": {},
   "outputs": [
    {
     "data": {
      "text/plain": [
       "array(['L2/3 IT', 'L4', 'L5 IT', 'L6 IT', 'L5 PT', 'NP', 'L6 CT', 'L6b',\n",
       "       'Lamp5', 'Sncg', 'Serpinf1', 'Vip', 'Sst', 'Pvalb', 'Meis2'],\n",
       "      dtype=object)"
      ]
     },
     "execution_count": 53,
     "metadata": {},
     "output_type": "execute_result"
    }
   ],
   "source": [
    "data.subclass_label.unique()"
   ]
  },
  {
   "cell_type": "markdown",
   "metadata": {},
   "source": [
    "# mouse all subclasses"
   ]
  },
  {
   "cell_type": "code",
   "execution_count": 54,
   "metadata": {},
   "outputs": [
    {
     "name": "stderr",
     "output_type": "stream",
     "text": [
      "C:\\Users\\lindsayn\\AppData\\Local\\Continuum\\anaconda2\\envs\\umap3\\lib\\site-packages\\IPython\\core\\interactiveshell.py:3049: DtypeWarning: Columns (35,41,256,265,276) have mixed types. Specify dtype option on import or set low_memory=False.\n",
      "  interactivity=interactivity, compiler=compiler, result=result)\n"
     ]
    },
    {
     "data": {
      "text/html": [
       "<div>\n",
       "<style scoped>\n",
       "    .dataframe tbody tr th:only-of-type {\n",
       "        vertical-align: middle;\n",
       "    }\n",
       "\n",
       "    .dataframe tbody tr th {\n",
       "        vertical-align: top;\n",
       "    }\n",
       "\n",
       "    .dataframe thead th {\n",
       "        text-align: right;\n",
       "    }\n",
       "</style>\n",
       "<table border=\"1\" class=\"dataframe\">\n",
       "  <thead>\n",
       "    <tr style=\"text-align: right;\">\n",
       "      <th></th>\n",
       "      <th>subclass_label</th>\n",
       "      <th>tau</th>\n",
       "      <th>sag</th>\n",
       "      <th>vrest</th>\n",
       "      <th>ri</th>\n",
       "      <th>f_i_curve_slope</th>\n",
       "      <th>peak_v_long_square</th>\n",
       "      <th>upstroke_downstroke_ratio_long_square</th>\n",
       "      <th>adaptation</th>\n",
       "      <th>subclass</th>\n",
       "    </tr>\n",
       "  </thead>\n",
       "  <tbody>\n",
       "    <tr>\n",
       "      <th>0</th>\n",
       "      <td>L2/3 IT</td>\n",
       "      <td>12.724680</td>\n",
       "      <td>0.005716</td>\n",
       "      <td>-77.179931</td>\n",
       "      <td>76.937564</td>\n",
       "      <td>0.100000</td>\n",
       "      <td>49.381248</td>\n",
       "      <td>4.986178</td>\n",
       "      <td>0.077057</td>\n",
       "      <td>4</td>\n",
       "    </tr>\n",
       "    <tr>\n",
       "      <th>1</th>\n",
       "      <td>L2/3 IT</td>\n",
       "      <td>32.730337</td>\n",
       "      <td>0.148452</td>\n",
       "      <td>-52.933337</td>\n",
       "      <td>-69.077745</td>\n",
       "      <td>0.089286</td>\n",
       "      <td>53.837498</td>\n",
       "      <td>4.847608</td>\n",
       "      <td>0.069877</td>\n",
       "      <td>4</td>\n",
       "    </tr>\n",
       "    <tr>\n",
       "      <th>2</th>\n",
       "      <td>L2/3 IT</td>\n",
       "      <td>13.482822</td>\n",
       "      <td>-0.053955</td>\n",
       "      <td>-72.399085</td>\n",
       "      <td>105.749935</td>\n",
       "      <td>0.200000</td>\n",
       "      <td>49.099998</td>\n",
       "      <td>4.065621</td>\n",
       "      <td>0.022504</td>\n",
       "      <td>4</td>\n",
       "    </tr>\n",
       "    <tr>\n",
       "      <th>3</th>\n",
       "      <td>L2/3 IT</td>\n",
       "      <td>10.552282</td>\n",
       "      <td>0.005993</td>\n",
       "      <td>-76.888763</td>\n",
       "      <td>73.562428</td>\n",
       "      <td>0.171028</td>\n",
       "      <td>23.887499</td>\n",
       "      <td>3.472036</td>\n",
       "      <td>0.057070</td>\n",
       "      <td>4</td>\n",
       "    </tr>\n",
       "    <tr>\n",
       "      <th>4</th>\n",
       "      <td>L2/3 IT</td>\n",
       "      <td>20.576018</td>\n",
       "      <td>0.037385</td>\n",
       "      <td>-78.240069</td>\n",
       "      <td>87.781183</td>\n",
       "      <td>0.100000</td>\n",
       "      <td>55.893749</td>\n",
       "      <td>6.194862</td>\n",
       "      <td>0.054941</td>\n",
       "      <td>4</td>\n",
       "    </tr>\n",
       "    <tr>\n",
       "      <th>...</th>\n",
       "      <td>...</td>\n",
       "      <td>...</td>\n",
       "      <td>...</td>\n",
       "      <td>...</td>\n",
       "      <td>...</td>\n",
       "      <td>...</td>\n",
       "      <td>...</td>\n",
       "      <td>...</td>\n",
       "      <td>...</td>\n",
       "      <td>...</td>\n",
       "    </tr>\n",
       "    <tr>\n",
       "      <th>8301</th>\n",
       "      <td>Pvalb</td>\n",
       "      <td>17.116914</td>\n",
       "      <td>0.082474</td>\n",
       "      <td>-75.781204</td>\n",
       "      <td>157.343745</td>\n",
       "      <td>0.265714</td>\n",
       "      <td>15.000000</td>\n",
       "      <td>2.268127</td>\n",
       "      <td>0.435415</td>\n",
       "      <td>3</td>\n",
       "    </tr>\n",
       "    <tr>\n",
       "      <th>8341</th>\n",
       "      <td>L2/3 IT</td>\n",
       "      <td>16.490408</td>\n",
       "      <td>0.006847</td>\n",
       "      <td>-74.865149</td>\n",
       "      <td>144.687504</td>\n",
       "      <td>0.133571</td>\n",
       "      <td>26.500000</td>\n",
       "      <td>3.589829</td>\n",
       "      <td>0.082810</td>\n",
       "      <td>4</td>\n",
       "    </tr>\n",
       "    <tr>\n",
       "      <th>8351</th>\n",
       "      <td>Lamp5</td>\n",
       "      <td>9.043084</td>\n",
       "      <td>0.071921</td>\n",
       "      <td>-68.029941</td>\n",
       "      <td>170.625120</td>\n",
       "      <td>0.230000</td>\n",
       "      <td>29.643749</td>\n",
       "      <td>3.348968</td>\n",
       "      <td>0.013739</td>\n",
       "      <td>0</td>\n",
       "    </tr>\n",
       "    <tr>\n",
       "      <th>8352</th>\n",
       "      <td>Vip</td>\n",
       "      <td>15.908945</td>\n",
       "      <td>0.073339</td>\n",
       "      <td>-70.262678</td>\n",
       "      <td>282.343864</td>\n",
       "      <td>0.034127</td>\n",
       "      <td>11.800000</td>\n",
       "      <td>2.782984</td>\n",
       "      <td>0.244750</td>\n",
       "      <td>1</td>\n",
       "    </tr>\n",
       "    <tr>\n",
       "      <th>8362</th>\n",
       "      <td>L5 PT</td>\n",
       "      <td>20.014468</td>\n",
       "      <td>0.149607</td>\n",
       "      <td>-60.035671</td>\n",
       "      <td>78.718759</td>\n",
       "      <td>0.005524</td>\n",
       "      <td>49.656250</td>\n",
       "      <td>4.092199</td>\n",
       "      <td>0.072826</td>\n",
       "      <td>8</td>\n",
       "    </tr>\n",
       "  </tbody>\n",
       "</table>\n",
       "<p>5001 rows × 10 columns</p>\n",
       "</div>"
      ],
      "text/plain": [
       "     subclass_label        tau       sag      vrest          ri  \\\n",
       "0           L2/3 IT  12.724680  0.005716 -77.179931   76.937564   \n",
       "1           L2/3 IT  32.730337  0.148452 -52.933337  -69.077745   \n",
       "2           L2/3 IT  13.482822 -0.053955 -72.399085  105.749935   \n",
       "3           L2/3 IT  10.552282  0.005993 -76.888763   73.562428   \n",
       "4           L2/3 IT  20.576018  0.037385 -78.240069   87.781183   \n",
       "...             ...        ...       ...        ...         ...   \n",
       "8301          Pvalb  17.116914  0.082474 -75.781204  157.343745   \n",
       "8341        L2/3 IT  16.490408  0.006847 -74.865149  144.687504   \n",
       "8351          Lamp5   9.043084  0.071921 -68.029941  170.625120   \n",
       "8352            Vip  15.908945  0.073339 -70.262678  282.343864   \n",
       "8362          L5 PT  20.014468  0.149607 -60.035671   78.718759   \n",
       "\n",
       "      f_i_curve_slope  peak_v_long_square  \\\n",
       "0            0.100000           49.381248   \n",
       "1            0.089286           53.837498   \n",
       "2            0.200000           49.099998   \n",
       "3            0.171028           23.887499   \n",
       "4            0.100000           55.893749   \n",
       "...               ...                 ...   \n",
       "8301         0.265714           15.000000   \n",
       "8341         0.133571           26.500000   \n",
       "8351         0.230000           29.643749   \n",
       "8352         0.034127           11.800000   \n",
       "8362         0.005524           49.656250   \n",
       "\n",
       "      upstroke_downstroke_ratio_long_square  adaptation  subclass  \n",
       "0                                  4.986178    0.077057         4  \n",
       "1                                  4.847608    0.069877         4  \n",
       "2                                  4.065621    0.022504         4  \n",
       "3                                  3.472036    0.057070         4  \n",
       "4                                  6.194862    0.054941         4  \n",
       "...                                     ...         ...       ...  \n",
       "8301                               2.268127    0.435415         3  \n",
       "8341                               3.589829    0.082810         4  \n",
       "8351                               3.348968    0.013739         0  \n",
       "8352                               2.782984    0.244750         1  \n",
       "8362                               4.092199    0.072826         8  \n",
       "\n",
       "[5001 rows x 10 columns]"
      ]
     },
     "execution_count": 54,
     "metadata": {},
     "output_type": "execute_result"
    }
   ],
   "source": [
    "data = pd.read_csv('mouse_ephys_200416.csv')\n",
    "data1 = data[data['Norm_Marker_Sum.0.4_label']== True]\n",
    "data1 = data1[data1['subclass_label'].isin(['Lamp5','Vip','Sst','Pvalb','L2/3 IT', 'L4', 'L5 IT', 'L6 IT', 'L5 PT', 'L6 CT'])]\n",
    "data1 = data1[['subclass_label','tau','sag', 'vrest', 'ri', 'f_i_curve_slope', 'peak_v_long_square', 'upstroke_downstroke_ratio_long_square','adaptation']]\n",
    "data1 = data1.dropna()\n",
    "target = {'Lamp5': 0,'Vip':1, 'Sst':2, 'Pvalb':3,'L2/3 IT':4, 'L4':5, 'L5 IT':6, 'L6 IT':7, 'L5 PT':8, 'L6 CT': 9}\n",
    "targets = np.array(data1['subclass_label'].map(target))\n",
    "data1['subclass'] = targets\n",
    "data1"
   ]
  },
  {
   "cell_type": "code",
   "execution_count": 55,
   "metadata": {},
   "outputs": [
    {
     "data": {
      "text/plain": [
       "0.99825"
      ]
     },
     "execution_count": 55,
     "metadata": {},
     "output_type": "execute_result"
    }
   ],
   "source": [
    "data_targets = data1.drop(['subclass_label'], axis =1)\n",
    "unscaled_inputs = data_targets.iloc[:,:-1]\n",
    "subclass_scaler = StandardScaler()\n",
    "subclass_scaler.fit(unscaled_inputs)\n",
    "scaled_inputs = subclass_scaler.transform(unscaled_inputs)\n",
    "x_train, x_test, y_train, y_test = train_test_split(scaled_inputs, targets, train_size = 0.8, random_state = 20)\n",
    "\n",
    "classifier = RandomForestClassifier(n_estimators=20, random_state=0)\n",
    "classifier.fit(x_train, y_train)\n",
    "classifier.score(x_train, y_train)"
   ]
  },
  {
   "cell_type": "code",
   "execution_count": 56,
   "metadata": {},
   "outputs": [
    {
     "data": {
      "image/png": "[encoded data removed]",
      "text/plain": [
       "<Figure size 1080x1080 with 2 Axes>"
      ]
     },
     "metadata": {
      "needs_background": "light"
     },
     "output_type": "display_data"
    }
   ],
   "source": [
    "score = classifier.score(x_test,y_test)\n",
    "predictions = classifier.predict(x_test)\n",
    "cm = metrics.confusion_matrix(y_test, predictions)\n",
    "cmn = cm.astype('float') / cm.sum(axis=1)[:, np.newaxis]\n",
    "plt.figure(figsize=(15,15))\n",
    "sns.heatmap(cmn, annot=True, fmt=\".2f\", linewidths=.5, square = True, cmap = 'Blues',\n",
    "           yticklabels = ['Lamp5','Vip','Sst','Pvalb','L2/3 IT', 'L4', 'L5 IT', 'L6 IT', 'L5 PT', 'L6 CT'],\n",
    "           xticklabels = ['Lamp5','Vip','Sst','Pvalb','L2/3 IT', 'L4', 'L5 IT', 'L6 IT', 'L5 PT', 'L6 CT'])\n",
    "plt.ylabel('Actual label \\n', size = 15);\n",
    "plt.xlabel('\\n Predicted label', size = 15);\n",
    "all_sample_title = 'Accuracy Score: {:.2f} \\n n = {}'.format(score, predictions.size)\n",
    "plt.axvline(4,color='black', linestyle='-')\n",
    "plt.axhline(4,color='black', linestyle='-')\n",
    "plt.title(all_sample_title, size = 17);\n",
    "#plt.savefig('mouse_confusion_matrix.png', dpi =300)"
   ]
  },
  {
   "cell_type": "code",
   "execution_count": 57,
   "metadata": {},
   "outputs": [
    {
     "data": {
      "text/html": [
       "<div>\n",
       "<style scoped>\n",
       "    .dataframe tbody tr th:only-of-type {\n",
       "        vertical-align: middle;\n",
       "    }\n",
       "\n",
       "    .dataframe tbody tr th {\n",
       "        vertical-align: top;\n",
       "    }\n",
       "\n",
       "    .dataframe thead th {\n",
       "        text-align: right;\n",
       "    }\n",
       "</style>\n",
       "<table border=\"1\" class=\"dataframe\">\n",
       "  <thead>\n",
       "    <tr style=\"text-align: right;\">\n",
       "      <th></th>\n",
       "      <th>importance</th>\n",
       "    </tr>\n",
       "  </thead>\n",
       "  <tbody>\n",
       "    <tr>\n",
       "      <th>upstroke_downstroke_ratio_long_square</th>\n",
       "      <td>0.265316</td>\n",
       "    </tr>\n",
       "    <tr>\n",
       "      <th>tau</th>\n",
       "      <td>0.168243</td>\n",
       "    </tr>\n",
       "    <tr>\n",
       "      <th>ri</th>\n",
       "      <td>0.131688</td>\n",
       "    </tr>\n",
       "    <tr>\n",
       "      <th>f_i_curve_slope</th>\n",
       "      <td>0.119367</td>\n",
       "    </tr>\n",
       "    <tr>\n",
       "      <th>sag</th>\n",
       "      <td>0.101929</td>\n",
       "    </tr>\n",
       "    <tr>\n",
       "      <th>adaptation</th>\n",
       "      <td>0.090052</td>\n",
       "    </tr>\n",
       "    <tr>\n",
       "      <th>peak_v_long_square</th>\n",
       "      <td>0.067707</td>\n",
       "    </tr>\n",
       "    <tr>\n",
       "      <th>vrest</th>\n",
       "      <td>0.055698</td>\n",
       "    </tr>\n",
       "  </tbody>\n",
       "</table>\n",
       "</div>"
      ],
      "text/plain": [
       "                                       importance\n",
       "upstroke_downstroke_ratio_long_square    0.265316\n",
       "tau                                      0.168243\n",
       "ri                                       0.131688\n",
       "f_i_curve_slope                          0.119367\n",
       "sag                                      0.101929\n",
       "adaptation                               0.090052\n",
       "peak_v_long_square                       0.067707\n",
       "vrest                                    0.055698"
      ]
     },
     "execution_count": 57,
     "metadata": {},
     "output_type": "execute_result"
    }
   ],
   "source": [
    "feature_importances = pd.DataFrame(classifier.feature_importances_,\n",
    "                                   index = unscaled_inputs.columns,\n",
    "                                    columns=['importance']).sort_values('importance', ascending=False)\n",
    "feature_importances"
   ]
  },
  {
   "cell_type": "markdown",
   "metadata": {},
   "source": [
    "# brain region"
   ]
  },
  {
   "cell_type": "code",
   "execution_count": 58,
   "metadata": {},
   "outputs": [],
   "source": [
    "from sklearn.utils import resample"
   ]
  },
  {
   "cell_type": "code",
   "execution_count": 59,
   "metadata": {},
   "outputs": [
    {
     "name": "stderr",
     "output_type": "stream",
     "text": [
      "C:\\Users\\lindsayn\\AppData\\Local\\Continuum\\anaconda2\\envs\\umap3\\lib\\site-packages\\IPython\\core\\interactiveshell.py:3049: DtypeWarning: Columns (260,269,280) have mixed types. Specify dtype option on import or set low_memory=False.\n",
      "  interactivity=interactivity, compiler=compiler, result=result)\n"
     ]
    }
   ],
   "source": [
    "data = pd.read_csv(\"all_mouse_regions_ephys_200417.csv\")\n"
   ]
  },
  {
   "cell_type": "code",
   "execution_count": 60,
   "metadata": {},
   "outputs": [],
   "source": [
    "data[\"region\"] = pd.np.where(data.patchseq_roi_label.str.contains(\"RSP\"), \"RSP\", \n",
    "                                      pd.np.where(data.patchseq_roi_label.str.contains(\"VISp\"), \"VISp\", \n",
    "                                      pd.np.where(data.patchseq_roi_label.str.contains(\"TEa\"), \"TEa\",\n",
    "                                      pd.np.where(data.patchseq_roi_label.str.contains(\"CTXsp\"), \"CLA\",\n",
    "                                      pd.np.where(data.patchseq_roi_label.str.contains(\"MO\"), \"MO\",\n",
    "                                      pd.np.where(data.patchseq_roi_label.str.contains(\"ORB\"), \"ORB\",\n",
    "                                      pd.np.where(data.patchseq_roi_label.str.contains(\"SSp\"), \"SSp\", 'Unknown')\n",
    "                                                 ))))))"
   ]
  },
  {
   "cell_type": "code",
   "execution_count": 61,
   "metadata": {},
   "outputs": [
    {
     "data": {
      "text/plain": [
       "VISp    4285\n",
       "RSP      139\n",
       "TEa       97\n",
       "ORB       73\n",
       "Name: region, dtype: int64"
      ]
     },
     "execution_count": 61,
     "metadata": {},
     "output_type": "execute_result"
    }
   ],
   "source": [
    "data1 = data[['region','tau','sag', 'vrest', 'ri', 'f_i_curve_slope', 'peak_v_long_square', 'upstroke_downstroke_ratio_long_square','adaptation']]\n",
    "data1 = data1.dropna()\n",
    "data2 = data1[data1.region != \"MO\"]\n",
    "data2 = data2[data2.region != \"CLA\"]\n",
    "\n",
    "\n",
    "data2.region.value_counts()"
   ]
  },
  {
   "cell_type": "code",
   "execution_count": 62,
   "metadata": {},
   "outputs": [
    {
     "data": {
      "text/plain": [
       "0    140\n",
       "1    139\n",
       "2     97\n",
       "3     73\n",
       "Name: roi, dtype: int64"
      ]
     },
     "execution_count": 62,
     "metadata": {},
     "output_type": "execute_result"
    }
   ],
   "source": [
    "# Separate majority and minority classes\n",
    "visp = data2[data2.region== \"VISp\"]\n",
    "minority = data2[data2.region != \"VISp\"]\n",
    " \n",
    "# Downsample majority class\n",
    "downsampled = resample(visp, replace=False,    # sample without replacement\n",
    "                                 n_samples= 140,     # to match minority class\n",
    "                                 random_state= 1) # reproducible results\n",
    " \n",
    "# Combine minority class with downsampled majority class\n",
    "df_downsampled = pd.concat([downsampled, minority])\n",
    " \n",
    "# Display new class counts\n",
    "# df_downsampled.roi.value_counts()\n",
    "\n",
    "target = {'VISp': 0,'RSP':1, 'TEa':2, 'ORB':3}\n",
    "targets = np.array(df_downsampled['region'].map(target))\n",
    "df_downsampled['roi'] = targets\n",
    "\n",
    "df_downsampled.roi.value_counts()"
   ]
  },
  {
   "cell_type": "code",
   "execution_count": 63,
   "metadata": {},
   "outputs": [
    {
     "data": {
      "text/plain": [
       "1.0"
      ]
     },
     "execution_count": 63,
     "metadata": {},
     "output_type": "execute_result"
    }
   ],
   "source": [
    "data_targets = df_downsampled.drop(['region'], axis =1)\n",
    "unscaled_inputs = data_targets.iloc[:,:-1]\n",
    "subclass_scaler = StandardScaler()\n",
    "subclass_scaler.fit(unscaled_inputs)\n",
    "scaled_inputs = subclass_scaler.transform(unscaled_inputs)\n",
    "x_train, x_test, y_train, y_test = train_test_split(scaled_inputs, targets, train_size = 0.8, random_state = 20)\n",
    "\n",
    "classifier = RandomForestClassifier(n_estimators=20, random_state=0)\n",
    "classifier.fit(x_train, y_train)\n",
    "classifier.score(x_train, y_train)"
   ]
  },
  {
   "cell_type": "code",
   "execution_count": 64,
   "metadata": {},
   "outputs": [
    {
     "data": {
      "image/png": "[encoded data removed]",
      "text/plain": [
       "<Figure size 1080x1080 with 2 Axes>"
      ]
     },
     "metadata": {
      "needs_background": "light"
     },
     "output_type": "display_data"
    }
   ],
   "source": [
    "score = classifier.score(x_test,y_test)\n",
    "predictions = classifier.predict(x_test)\n",
    "cm = metrics.confusion_matrix(y_test, predictions)\n",
    "cmn = cm.astype('float') / cm.sum(axis=1)[:, np.newaxis]\n",
    "plt.figure(figsize=(15,15))\n",
    "sns.heatmap(cmn, annot=True, fmt=\".2f\", linewidths=.5, square = True, cmap = 'Blues')\n",
    "plt.ylabel('Actual label \\n', size = 15);\n",
    "plt.xlabel('\\n Predicted label', size = 15);\n",
    "all_sample_title = 'Accuracy Score: {:.2f} \\n n = {}'.format(score, predictions.size)\n",
    "plt.title(all_sample_title, size = 17);\n",
    "#plt.savefig('mouse_confusion_matrix.png', dpi =300)"
   ]
  },
  {
   "cell_type": "markdown",
   "metadata": {},
   "source": [
    "umap for brain region\n",
    "\n",
    "predict morpho?\n",
    "\n",
    "predict 63x go?\n",
    "\n",
    "revisit human sublcass"
   ]
  },
  {
   "cell_type": "markdown",
   "metadata": {},
   "source": [
    "# 63x go"
   ]
  },
  {
   "cell_type": "code",
   "execution_count": 65,
   "metadata": {},
   "outputs": [
    {
     "name": "stderr",
     "output_type": "stream",
     "text": [
      "C:\\Users\\lindsayn\\AppData\\Local\\Continuum\\anaconda2\\envs\\umap3\\lib\\site-packages\\IPython\\core\\interactiveshell.py:3049: DtypeWarning: Columns (35,41,256,265,276) have mixed types. Specify dtype option on import or set low_memory=False.\n",
      "  interactivity=interactivity, compiler=compiler, result=result)\n"
     ]
    },
    {
     "data": {
      "text/plain": [
       "0    1500\n",
       "1    1474\n",
       "Name: 63x, dtype: int64"
      ]
     },
     "execution_count": 65,
     "metadata": {},
     "output_type": "execute_result"
    }
   ],
   "source": [
    "data = pd.read_csv('mouse_ephys_200416.csv')\n",
    "data.columns.values\n",
    "data1 = data[data['go_no_go_63x_label'] != 'ZZ_Missing']\n",
    "data1 = data1[['go_no_go_63x_label','tau','sag', 'vrest', 'ri', 'f_i_curve_slope', 'peak_v_long_square', 'upstroke_downstroke_ratio_long_square','adaptation']]\n",
    "data1 = data1.dropna()\n",
    "\n",
    "go = data1[data1['go_no_go_63x_label']== '63x go']\n",
    "minority = data1[data1['go_no_go_63x_label']!= '63x go']\n",
    " \n",
    "# Downsample majority class\n",
    "downsampled = resample(go, replace=False,    # sample without replacement\n",
    "                                 n_samples= 1500,     # to match minority class\n",
    "                                 random_state= 1) # reproducible results\n",
    " \n",
    "# Combine minority class with downsampled majority class\n",
    "df_downsampled = pd.concat([downsampled, minority])\n",
    "\n",
    "\n",
    "\n",
    "\n",
    "\n",
    "\n",
    "target = {'63x go': 0,'63x no go':1}\n",
    "targets = np.array(df_downsampled['go_no_go_63x_label'].map(target))\n",
    "df_downsampled['63x'] = targets\n",
    "df_downsampled['63x'].value_counts()"
   ]
  },
  {
   "cell_type": "code",
   "execution_count": 66,
   "metadata": {},
   "outputs": [
    {
     "data": {
      "text/plain": [
       "0.5548549810844893"
      ]
     },
     "execution_count": 66,
     "metadata": {},
     "output_type": "execute_result"
    }
   ],
   "source": [
    "data_targets = df_downsampled.drop(['go_no_go_63x_label'], axis =1)\n",
    "unscaled_inputs = data_targets.iloc[:,:-1]\n",
    "subclass_scaler = StandardScaler()\n",
    "subclass_scaler.fit(unscaled_inputs)\n",
    "scaled_inputs = subclass_scaler.transform(unscaled_inputs)\n",
    "x_train, x_test, y_train, y_test = train_test_split(scaled_inputs, targets, train_size = 0.8, random_state = 20)\n",
    "\n",
    "classifier = LogisticRegression()\n",
    "classifier.fit(x_train, y_train)\n",
    "classifier.score(x_train, y_train)"
   ]
  },
  {
   "cell_type": "code",
   "execution_count": 67,
   "metadata": {
    "scrolled": true
   },
   "outputs": [
    {
     "data": {
      "image/png": "[encoded data removed]",
      "text/plain": [
       "<Figure size 1080x1080 with 2 Axes>"
      ]
     },
     "metadata": {
      "needs_background": "light"
     },
     "output_type": "display_data"
    }
   ],
   "source": [
    "score = classifier.score(x_test,y_test)\n",
    "predictions = classifier.predict(x_test)\n",
    "cm = metrics.confusion_matrix(y_test, predictions)\n",
    "cmn = cm.astype('float') / cm.sum(axis=1)[:, np.newaxis]\n",
    "plt.figure(figsize=(15,15))\n",
    "sns.heatmap(cmn, annot=True, fmt=\".2f\", linewidths=.5, square = True, cmap = 'Blues')\n",
    "plt.ylabel('Actual label \\n', size = 15);\n",
    "plt.xlabel('\\n Predicted label', size = 15);\n",
    "all_sample_title = 'Accuracy Score: {:.2f} \\n n = {}'.format(score, predictions.size)\n",
    "#plt.axvline(4,color='black', linestyle='-')\n",
    "#plt.axhline(4,color='black', linestyle='-')\n",
    "plt.title(all_sample_title, size = 17);\n",
    "#plt.savefig('mouse_confusion_matrix.png', dpi =300)"
   ]
  },
  {
   "cell_type": "markdown",
   "metadata": {},
   "source": [
    "# revisiting human subclasses"
   ]
  },
  {
   "cell_type": "code",
   "execution_count": 555,
   "metadata": {},
   "outputs": [],
   "source": [
    "# features = ['tau', 'upstroke_downstroke_ratio_short_square',\n",
    "#        'threshold_v_ramp',\n",
    "#        'peak_v_short_square', 'upstroke_downstroke_ratio_ramp', 'sag',\n",
    "#        'threshold_t_ramp', 'vrest',\n",
    "#        'trough_t_ramp', 'trough_v_long_square',\n",
    "#        'threshold_t_short_square','trough_t_short_square',\n",
    "#        'fast_trough_v_ramp', 'trough_t_long_square','peak_t_ramp',\n",
    "#        'threshold_v_long_square', 'fast_trough_t_long_square', 'ri',\n",
    "#        'threshold_v_short_square', 'avg_isi',\n",
    "#        'threshold_i_long_square',\n",
    "#        'threshold_i_short_square', 'peak_v_ramp',\n",
    "#        'fast_trough_v_short_square', 'fast_trough_t_short_square',\n",
    "#        'fast_trough_t_ramp',\n",
    "#        'threshold_i_ramp',\n",
    "#        'peak_t_short_square',\n",
    "#        'trough_v_short_square', 'f_i_curve_slope',\n",
    "#        'peak_t_long_square', 'latency', 'fast_trough_v_long_square',\n",
    "#        'upstroke_downstroke_ratio_long_square', 'trough_v_ramp',\n",
    "#        'peak_v_long_square', 'adaptation', 'fast_ahp']\n",
    "\n",
    "# features = ['upstroke_downstroke_ratio_ramp',\n",
    "#        'upstroke_downstroke_ratio_long_square', 'tau',\n",
    "#        'upstroke_downstroke_ratio_short_square', 'ri', 'sag',\n",
    "#        'threshold_i_short_square', 'fast_ahp', 'latency', 'adaptation',\n",
    "#        'fast_trough_v_long_square', 'fast_trough_v_ramp', 'threshold_i_ramp',\n",
    "#        'threshold_t_ramp', 'avg_isi', 'threshold_v_ramp',\n",
    "#        'threshold_v_long_square', 'peak_v_long_square', 'trough_v_ramp']\n",
    "\n",
    "features = ['upstroke_downstroke_ratio_long_square', 'tau',\n",
    "       'ri', 'sag',\n",
    "       'threshold_i_short_square', 'fast_ahp', 'latency', 'adaptation',\n",
    "       'fast_trough_v_long_square', 'fast_trough_v_ramp', 'threshold_i_ramp',\n",
    "       'threshold_t_ramp', 'avg_isi', 'threshold_v_ramp',\n",
    "       'threshold_v_long_square', 'peak_v_long_square', 'trough_v_ramp']\n",
    "\n"
   ]
  },
  {
   "cell_type": "code",
   "execution_count": 556,
   "metadata": {},
   "outputs": [
    {
     "name": "stderr",
     "output_type": "stream",
     "text": [
      "C:\\Users\\lindsayn\\AppData\\Local\\Continuum\\anaconda2\\envs\\umap3\\lib\\site-packages\\ipykernel_launcher.py:3: FutureWarning: Sorting because non-concatenation axis is not aligned. A future version\n",
      "of pandas will change to not sort by default.\n",
      "\n",
      "To accept the future behavior, pass 'sort=False'.\n",
      "\n",
      "To retain the current behavior and silence the warning, pass 'sort=True'.\n",
      "\n",
      "  This is separate from the ipykernel package so we can avoid doing imports until\n"
     ]
    },
    {
     "data": {
      "text/plain": [
       "LAMP5/PAX6/Other    333\n",
       "PVALB               245\n",
       "VIP                 129\n",
       "SST                 119\n",
       "Name: subclass_label, dtype: int64"
      ]
     },
     "execution_count": 556,
     "metadata": {},
     "output_type": "execute_result"
    }
   ],
   "source": [
    "culture_data = pd.read_csv('culture_ephys_200415.csv')\n",
    "data = pd.read_csv('human_200428.csv')\n",
    "data1 = pd.concat([culture_data, data])\n",
    "data1['fast_ahp']= data1['threshold_v_short_square'] - data1['fast_trough_v_short_square']\n",
    "data1 = data1[data1['Norm_Marker_Sum.0.4_label']== True]\n",
    "#data1 = data1[data1['subclass_label'].isin(['LAMP5/PAX6/Other','PVALB', 'SST', 'VIP','IT (L2-3)','IT (L3-5)','IT (L4-6)','L5 ET'])]\n",
    "data1 = data1[data1['subclass_label'].isin(['LAMP5/PAX6/Other','PVALB', 'SST', 'VIP'])]\n",
    "#data1 = data1[['subclass_label','tau','sag', 'vrest', 'ri', 'f_i_curve_slope', 'peak_v_long_square', 'upstroke_downstroke_ratio_long_square','adaptation', 'fast_ahp']]\n",
    "data1 = data1[['subclass_label'] + features]\n",
    "data1 = data1.dropna()\n",
    "\n",
    "#data1.dropna(thresh=10, inplace= True)\n",
    "\n",
    "\n",
    "data1.subclass_label.value_counts()\n",
    "\n"
   ]
  },
  {
   "cell_type": "code",
   "execution_count": 557,
   "metadata": {},
   "outputs": [
    {
     "data": {
      "text/plain": [
       "PVALB               130\n",
       "LAMP5/PAX6/Other    130\n",
       "VIP                 129\n",
       "SST                 119\n",
       "Name: subclass_label, dtype: int64"
      ]
     },
     "execution_count": 557,
     "metadata": {},
     "output_type": "execute_result"
    }
   ],
   "source": [
    "df_majority = data1[data1['subclass_label'].isin(['SST','VIP','IT (L3-5)','IT (L2-3)','IT (L4-6)'])]\n",
    "df_minority = data1[data1['subclass_label'] == 'LAMP5/PAX6/Other']\n",
    "df_minority2 = data1[data1['subclass_label'] == 'PVALB']\n",
    " \n",
    "#Upsample minority class\n",
    "df_minority_upsampled = resample(df_minority, \n",
    "                                 replace=False,     # sample with replacement\n",
    "                                 n_samples=130,    # to match majority class\n",
    "                                 random_state=123) # reproducible results\n",
    "\n",
    "df_minority_upsampled2 = resample(df_minority2, \n",
    "                                 replace=False,     # sample with replacement\n",
    "                                 n_samples=130,    # to match majority class\n",
    "                                 random_state=123) # reproducible results\n",
    " \n",
    "# Combine majority class with upsampled minority class\n",
    "df_upsampled = pd.concat([df_majority, df_minority_upsampled, df_minority_upsampled2])\n",
    " \n",
    "# Display new class counts\n",
    "df_upsampled.subclass_label.value_counts()"
   ]
  },
  {
   "cell_type": "code",
   "execution_count": 558,
   "metadata": {},
   "outputs": [],
   "source": [
    "target = {'LAMP5/PAX6/Other': 0,'PVALB':1, 'SST':2, 'VIP':3}\n",
    "#target = {'LAMP5/PAX6/Other': 0,'PVALB':1, 'SST':2, 'VIP':3,'IT (L2-3)':4,'IT (L3-5)':5,'IT (L4-6)':6}\n",
    "targets = np.array(df_upsampled['subclass_label'].map(target))\n",
    "df_upsampled['subclass'] = targets"
   ]
  },
  {
   "cell_type": "code",
   "execution_count": 559,
   "metadata": {},
   "outputs": [],
   "source": [
    "from sklearn.model_selection import cross_val_score\n"
   ]
  },
  {
   "cell_type": "code",
   "execution_count": 560,
   "metadata": {},
   "outputs": [
    {
     "data": {
      "text/plain": [
       "array([0.85294118, 0.71568627, 0.82352941, 0.84158416, 0.86138614])"
      ]
     },
     "execution_count": 560,
     "metadata": {},
     "output_type": "execute_result"
    }
   ],
   "source": [
    "data_targets = df_upsampled.drop(['subclass_label'], axis =1)\n",
    "unscaled_inputs = data_targets.iloc[:,:-1]\n",
    "# imputer = KNNImputer(n_neighbors=5)\n",
    "# unscaled_inputs = imputer.fit_transform(unscaled_inputs)\n",
    "subclass_scaler = StandardScaler()\n",
    "subclass_scaler.fit(unscaled_inputs)\n",
    "scaled_inputs = subclass_scaler.transform(unscaled_inputs)\n",
    "x_train, x_test, y_train, y_test = train_test_split(scaled_inputs, targets, train_size = 0.8, random_state = 20)\n",
    "#x_train, x_test, y_train, y_test = train_test_split(X_new, targets, train_size = 0.8, random_state = 20)\n",
    "\n",
    "classifier = RandomForestClassifier(n_estimators=60, random_state= 0, class_weight = {0:1,1:1,2:2,3:1})\n",
    "classifier.fit(x_train, y_train)\n",
    "classifier.score(x_train, y_train)\n",
    "scores = cross_val_score(classifier, scaled_inputs, targets, cv=5)\n",
    "scores"
   ]
  },
  {
   "cell_type": "code",
   "execution_count": 561,
   "metadata": {},
   "outputs": [
    {
     "data": {
      "text/plain": [
       "(array([0.5, 1.5, 2.5, 3.5]), <a list of 4 Text yticklabel objects>)"
      ]
     },
     "execution_count": 561,
     "metadata": {},
     "output_type": "execute_result"
    },
    {
     "data": {
      "image/png": "[encoded data removed]",
      "text/plain": [
       "<Figure size 1080x1080 with 2 Axes>"
      ]
     },
     "metadata": {
      "needs_background": "light"
     },
     "output_type": "display_data"
    }
   ],
   "source": [
    "score = classifier.score(x_test,y_test)\n",
    "predictions = classifier.predict(x_test)\n",
    "cm = metrics.confusion_matrix(y_test, predictions)\n",
    "cmn = cm.astype('float') / cm.sum(axis=1)[:, np.newaxis]\n",
    "plt.figure(figsize=(15,15))\n",
    "# sns.heatmap(cmn, annot=True, fmt=\".2f\", linewidths=.5, square = True, cmap = 'Blues',\n",
    "#            yticklabels = ['LAMP5/PAX6/Other','PVALB','SST', 'VIP','IT (L2-3)','IT (L3-5)','IT (L4-6)'],\n",
    "#            xticklabels = ['LAMP5/PAX6/Other','PVALB','SST','VIP','IT (L2-3)','IT (L3-5)','IT (L4-6)'], vmax=1)\n",
    "sns.heatmap(cmn, annot=True, fmt=\".2f\", linewidths=.5, square = True, cmap = 'Blues',\n",
    "            yticklabels = ['LAMP5/PAX6/Other','PVALB','SST', 'VIP'],\n",
    "            xticklabels = ['LAMP5/PAX6/Other','PVALB','SST','VIP'], vmax=1)\n",
    "plt.ylabel('Actual label \\n', size = 15);\n",
    "plt.xlabel('\\n Predicted label', size = 15);\n",
    "all_sample_title = 'Accuracy Score: {:.2f} \\n n = {}'.format(score, predictions.size)\n",
    "plt.title(all_sample_title, size = 17)\n",
    "plt.xticks(size=14)\n",
    "plt.yticks(size=14)\n",
    "#plt.savefig('human_confusion_matrix_200511.png', dpi =300)"
   ]
  },
  {
   "cell_type": "code",
   "execution_count": 183,
   "metadata": {},
   "outputs": [
    {
     "data": {
      "text/html": [
       "<div>\n",
       "<style scoped>\n",
       "    .dataframe tbody tr th:only-of-type {\n",
       "        vertical-align: middle;\n",
       "    }\n",
       "\n",
       "    .dataframe tbody tr th {\n",
       "        vertical-align: top;\n",
       "    }\n",
       "\n",
       "    .dataframe thead th {\n",
       "        text-align: right;\n",
       "    }\n",
       "</style>\n",
       "<table border=\"1\" class=\"dataframe\">\n",
       "  <thead>\n",
       "    <tr style=\"text-align: right;\">\n",
       "      <th></th>\n",
       "      <th>importance</th>\n",
       "    </tr>\n",
       "  </thead>\n",
       "  <tbody>\n",
       "    <tr>\n",
       "      <th>upstroke_downstroke_ratio_long_square</th>\n",
       "      <td>0.116738</td>\n",
       "    </tr>\n",
       "    <tr>\n",
       "      <th>tau</th>\n",
       "      <td>0.088439</td>\n",
       "    </tr>\n",
       "    <tr>\n",
       "      <th>sag</th>\n",
       "      <td>0.079103</td>\n",
       "    </tr>\n",
       "    <tr>\n",
       "      <th>fast_ahp</th>\n",
       "      <td>0.067279</td>\n",
       "    </tr>\n",
       "    <tr>\n",
       "      <th>ri</th>\n",
       "      <td>0.065790</td>\n",
       "    </tr>\n",
       "    <tr>\n",
       "      <th>fast_trough_v_ramp</th>\n",
       "      <td>0.056786</td>\n",
       "    </tr>\n",
       "    <tr>\n",
       "      <th>threshold_t_ramp</th>\n",
       "      <td>0.055937</td>\n",
       "    </tr>\n",
       "    <tr>\n",
       "      <th>fast_trough_v_long_square</th>\n",
       "      <td>0.055685</td>\n",
       "    </tr>\n",
       "    <tr>\n",
       "      <th>threshold_i_short_square</th>\n",
       "      <td>0.054527</td>\n",
       "    </tr>\n",
       "    <tr>\n",
       "      <th>adaptation</th>\n",
       "      <td>0.053498</td>\n",
       "    </tr>\n",
       "    <tr>\n",
       "      <th>latency</th>\n",
       "      <td>0.052036</td>\n",
       "    </tr>\n",
       "    <tr>\n",
       "      <th>threshold_v_long_square</th>\n",
       "      <td>0.050167</td>\n",
       "    </tr>\n",
       "    <tr>\n",
       "      <th>threshold_i_ramp</th>\n",
       "      <td>0.043548</td>\n",
       "    </tr>\n",
       "    <tr>\n",
       "      <th>threshold_v_ramp</th>\n",
       "      <td>0.041908</td>\n",
       "    </tr>\n",
       "    <tr>\n",
       "      <th>trough_v_ramp</th>\n",
       "      <td>0.040497</td>\n",
       "    </tr>\n",
       "    <tr>\n",
       "      <th>peak_v_long_square</th>\n",
       "      <td>0.039752</td>\n",
       "    </tr>\n",
       "    <tr>\n",
       "      <th>avg_isi</th>\n",
       "      <td>0.038312</td>\n",
       "    </tr>\n",
       "  </tbody>\n",
       "</table>\n",
       "</div>"
      ],
      "text/plain": [
       "                                       importance\n",
       "upstroke_downstroke_ratio_long_square    0.116738\n",
       "tau                                      0.088439\n",
       "sag                                      0.079103\n",
       "fast_ahp                                 0.067279\n",
       "ri                                       0.065790\n",
       "fast_trough_v_ramp                       0.056786\n",
       "threshold_t_ramp                         0.055937\n",
       "fast_trough_v_long_square                0.055685\n",
       "threshold_i_short_square                 0.054527\n",
       "adaptation                               0.053498\n",
       "latency                                  0.052036\n",
       "threshold_v_long_square                  0.050167\n",
       "threshold_i_ramp                         0.043548\n",
       "threshold_v_ramp                         0.041908\n",
       "trough_v_ramp                            0.040497\n",
       "peak_v_long_square                       0.039752\n",
       "avg_isi                                  0.038312"
      ]
     },
     "execution_count": 183,
     "metadata": {},
     "output_type": "execute_result"
    }
   ],
   "source": [
    "feature_importances = pd.DataFrame(classifier.feature_importances_,\n",
    "                                   index = unscaled_inputs.columns,\n",
    "                                    columns=['importance']).sort_values('importance', ascending=False)\n",
    "feature_importances"
   ]
  },
  {
   "cell_type": "code",
   "execution_count": 184,
   "metadata": {},
   "outputs": [
    {
     "data": {
      "image/png": "[encoded data removed]",
      "text/plain": [
       "<Figure size 720x504 with 1 Axes>"
      ]
     },
     "metadata": {
      "needs_background": "light"
     },
     "output_type": "display_data"
    }
   ],
   "source": [
    "plt.figure(figsize=(10,7))\n",
    "sns.barplot(x= feature_importances.importance, y=feature_importances.index, palette = 'Blues_r')\n",
    "plt.xticks(size= 14)\n",
    "plt.yticks(size = 14)\n",
    "plt.tight_layout()\n",
    "#plt.savefig('feature_importance_200504.png')"
   ]
  },
  {
   "cell_type": "markdown",
   "metadata": {},
   "source": [
    "## save the model"
   ]
  },
  {
   "cell_type": "code",
   "execution_count": 228,
   "metadata": {},
   "outputs": [],
   "source": [
    "import pickle"
   ]
  },
  {
   "cell_type": "code",
   "execution_count": 562,
   "metadata": {},
   "outputs": [],
   "source": [
    "with open('human_subclass_model', 'wb') as file:\n",
    "    pickle.dump(classifier, file)\n",
    "    \n",
    "with open('human_subclass_scaler', 'wb') as file:\n",
    "    pickle.dump(subclass_scaler, file)"
   ]
  },
  {
   "cell_type": "code",
   "execution_count": 571,
   "metadata": {},
   "outputs": [],
   "source": [
    "class Subclass_model():\n",
    "    \n",
    "    def __init__(self, model_file, scaler_file):\n",
    "        #read model and scaler files which were saved\n",
    "        with open('human_subclass_model', 'rb') as model_file, open('human_subclass_scaler', 'rb') as scaler_file:\n",
    "            self.classifier = pickle.load(model_file)\n",
    "            self.scaler = pickle.load(scaler_file)\n",
    "            self.data = None\n",
    "            \n",
    "    def load_and_clean_data(self, data_file):\n",
    "        #import data\n",
    "        df = pd.read_csv(data_file)\n",
    "        #store data in a new variable for later use\n",
    "        self.df_with_predicitons = df.copy()\n",
    "        df['fast_ahp']= df['threshold_v_short_square'] - df['fast_trough_v_short_square']\n",
    "#         features = ['tau', 'upstroke_downstroke_ratio_short_square',\n",
    "#            'threshold_v_ramp',\n",
    "#            'peak_v_short_square', 'upstroke_downstroke_ratio_ramp', 'sag',\n",
    "#            'threshold_t_ramp', 'vrest',\n",
    "#            'trough_t_ramp', 'trough_v_long_square',\n",
    "#            'threshold_t_short_square','trough_t_short_square',\n",
    "#            'fast_trough_v_ramp', 'trough_t_long_square','peak_t_ramp',\n",
    "#            'threshold_v_long_square', 'fast_trough_t_long_square', 'ri',\n",
    "#            'threshold_v_short_square', 'avg_isi',\n",
    "#            'threshold_i_long_square',\n",
    "#            'threshold_i_short_square', 'peak_v_ramp',\n",
    "#            'fast_trough_v_short_square', 'fast_trough_t_short_square',\n",
    "#            'fast_trough_t_ramp',\n",
    "#            'threshold_i_ramp',\n",
    "#            'peak_t_short_square',\n",
    "#            'trough_v_short_square', 'f_i_curve_slope',\n",
    "#            'peak_t_long_square', 'latency', 'fast_trough_v_long_square',\n",
    "#            'upstroke_downstroke_ratio_long_square', 'trough_v_ramp',\n",
    "#            'peak_v_long_square', 'adaptation', 'fast_ahp']\n",
    "\n",
    "#         features = ['upstroke_downstroke_ratio_ramp',\n",
    "#                'upstroke_downstroke_ratio_long_square', 'tau',\n",
    "#                'upstroke_downstroke_ratio_short_square', 'ri', 'sag',\n",
    "#                'threshold_i_short_square', 'fast_ahp', 'latency', 'adaptation',\n",
    "#                'fast_trough_v_long_square', 'fast_trough_v_ramp', 'threshold_i_ramp',\n",
    "#                'threshold_t_ramp', 'avg_isi', 'threshold_v_ramp',\n",
    "#                'threshold_v_long_square', 'peak_v_long_square', 'trough_v_ramp']\n",
    "    \n",
    "    \n",
    "        features = ['upstroke_downstroke_ratio_long_square', 'tau',\n",
    "               'ri', 'sag',\n",
    "               'threshold_i_short_square', 'fast_ahp', 'latency', 'adaptation',\n",
    "               'fast_trough_v_long_square', 'fast_trough_v_ramp', 'threshold_i_ramp',\n",
    "               'threshold_t_ramp', 'avg_isi', 'threshold_v_ramp',\n",
    "               'threshold_v_long_square', 'peak_v_long_square', 'trough_v_ramp']\n",
    "    \n",
    "        \n",
    "\n",
    "        \n",
    "        \n",
    "        \n",
    "        df2 = df[features + ['specimen_id', 'name']]\n",
    "        df = df[features]\n",
    "        df = df.dropna()\n",
    "        df2 = df2.dropna()\n",
    "        self.preprocessed_data = df2.copy()\n",
    "        \n",
    "        self.data = self.scaler.transform(df)\n",
    "\n",
    "        \n",
    "    def predicted_probability(self):\n",
    "        if (self.data is not None):\n",
    "            pred = self.classifier.predict_proba(self.data)\n",
    "            return pred\n",
    "        \n",
    "    def predicted_output_category(self):\n",
    "        if (self.data is not None):\n",
    "            pred_outputs = self.classifier.predict(self.data)\n",
    "            return pred_outputs\n",
    "            \n",
    "    def predicted_outputs(self):\n",
    "        targets = {0:'Lamp5/Pax6/Other', 1: 'Pvalb', 2:'Sst', 3:'Vip', 4:'Excitatory'}\n",
    "        if (self.data is not None):\n",
    "            self.preprocessed_data['prediction'] = self.classifier.predict(self.data)\n",
    "            #return self.preprocessed_data[['specimen_id','name','qualitative call','prediction']]\n",
    "            self.preprocessed_data['predicted_subclass'] = self.preprocessed_data['prediction'].map(targets)\n",
    "        \n",
    "            #return self.preprocessed_data[['specimen_id','name','prediction','predicted_subclass']]\n",
    "            return self.preprocessed_data[['specimen_id','prediction','predicted_subclass']]"
   ]
  },
  {
   "cell_type": "code",
   "execution_count": 572,
   "metadata": {},
   "outputs": [
    {
     "name": "stderr",
     "output_type": "stream",
     "text": [
      "C:\\Users\\lindsayn\\AppData\\Local\\Continuum\\anaconda2\\envs\\umap3\\lib\\site-packages\\IPython\\core\\interactiveshell.py:3049: DtypeWarning: Columns (35,41,256,265,276) have mixed types. Specify dtype option on import or set low_memory=False.\n",
      "  interactivity=interactivity, compiler=compiler, result=result)\n",
      "C:\\Users\\lindsayn\\AppData\\Local\\Continuum\\anaconda2\\envs\\umap3\\lib\\site-packages\\ipykernel_launcher.py:8: SettingWithCopyWarning: \n",
      "A value is trying to be set on a copy of a slice from a DataFrame.\n",
      "Try using .loc[row_indexer,col_indexer] = value instead\n",
      "\n",
      "See the caveats in the documentation: http://pandas.pydata.org/pandas-docs/stable/user_guide/indexing.html#returning-a-view-versus-a-copy\n",
      "  \n"
     ]
    }
   ],
   "source": [
    "ME = pd.read_csv('ME_200501.csv')\n",
    "mouse = pd.read_csv('mouse_ephys_200416.csv')\n",
    "\n",
    "new = ME[ME['specimen_id'].isin([571435969.0, 571718621.0,614651270.0, 571700636.0,571427524.0])]\n",
    "call = {614651270.0: 'basket cell',571427524.0: 'basket cell',\n",
    "        571718621.0 : 'martinotti cell',571700636.0:'martinotti cell',\n",
    "        571435969.0: 'bitufted cell'}  \n",
    "new['qualitative call'] = new['specimen_id'].map(call)\n",
    "\n",
    "\n",
    "new.to_csv('ME_tests.csv')\n",
    "\n",
    "\n",
    "brian_test = pd.read_csv(\"ephys_cells_to_test.csv\")\n",
    "\n",
    "\n",
    "brian_test_df = pd.merge(left = brian_test, \n",
    "                    right = mouse, \n",
    "                    left_on = 'Cell Specimen Id', \n",
    "                    right_on = 'specimen_id', \n",
    "                    how = 'left')\n",
    "\n",
    "brian_test_df.to_csv('brain_test_df.csv')"
   ]
  },
  {
   "cell_type": "code",
   "execution_count": 573,
   "metadata": {},
   "outputs": [],
   "source": [
    "model_file = pickle.load(open('human_subclass_model', 'rb'))\n",
    "scaler_file = pickle.load(open('human_subclass_scaler', 'rb'))"
   ]
  },
  {
   "cell_type": "code",
   "execution_count": 574,
   "metadata": {},
   "outputs": [],
   "source": [
    "test = Subclass_model(model_file, scaler_file)"
   ]
  },
  {
   "cell_type": "code",
   "execution_count": 575,
   "metadata": {},
   "outputs": [],
   "source": [
    "test.load_and_clean_data('ME_200501.csv')\n",
    "#test.load_and_clean_data('brain_test_df.csv')\n",
    "\n",
    "#test.load_and_clean_data('ME_tests.csv')\n",
    "#test.load_and_clean_data('test200508.csv')"
   ]
  },
  {
   "cell_type": "code",
   "execution_count": 576,
   "metadata": {
    "scrolled": true
   },
   "outputs": [
    {
     "data": {
      "text/html": [
       "<div>\n",
       "<style scoped>\n",
       "    .dataframe tbody tr th:only-of-type {\n",
       "        vertical-align: middle;\n",
       "    }\n",
       "\n",
       "    .dataframe tbody tr th {\n",
       "        vertical-align: top;\n",
       "    }\n",
       "\n",
       "    .dataframe thead th {\n",
       "        text-align: right;\n",
       "    }\n",
       "</style>\n",
       "<table border=\"1\" class=\"dataframe\">\n",
       "  <thead>\n",
       "    <tr style=\"text-align: right;\">\n",
       "      <th></th>\n",
       "      <th>specimen_id</th>\n",
       "      <th>prediction</th>\n",
       "      <th>predicted_subclass</th>\n",
       "    </tr>\n",
       "  </thead>\n",
       "  <tbody>\n",
       "    <tr>\n",
       "      <th>2</th>\n",
       "      <td>485537619.0</td>\n",
       "      <td>0</td>\n",
       "      <td>Lamp5/Pax6/Other</td>\n",
       "    </tr>\n",
       "    <tr>\n",
       "      <th>3</th>\n",
       "      <td>486748229.0</td>\n",
       "      <td>0</td>\n",
       "      <td>Lamp5/Pax6/Other</td>\n",
       "    </tr>\n",
       "    <tr>\n",
       "      <th>5</th>\n",
       "      <td>486749782.0</td>\n",
       "      <td>2</td>\n",
       "      <td>Sst</td>\n",
       "    </tr>\n",
       "    <tr>\n",
       "      <th>6</th>\n",
       "      <td>486940963.0</td>\n",
       "      <td>0</td>\n",
       "      <td>Lamp5/Pax6/Other</td>\n",
       "    </tr>\n",
       "    <tr>\n",
       "      <th>7</th>\n",
       "      <td>488385201.0</td>\n",
       "      <td>0</td>\n",
       "      <td>Lamp5/Pax6/Other</td>\n",
       "    </tr>\n",
       "    <tr>\n",
       "      <th>...</th>\n",
       "      <td>...</td>\n",
       "      <td>...</td>\n",
       "      <td>...</td>\n",
       "    </tr>\n",
       "    <tr>\n",
       "      <th>890</th>\n",
       "      <td>642981071.0</td>\n",
       "      <td>0</td>\n",
       "      <td>Lamp5/Pax6/Other</td>\n",
       "    </tr>\n",
       "    <tr>\n",
       "      <th>891</th>\n",
       "      <td>643572206.0</td>\n",
       "      <td>1</td>\n",
       "      <td>Pvalb</td>\n",
       "    </tr>\n",
       "    <tr>\n",
       "      <th>894</th>\n",
       "      <td>643584386.0</td>\n",
       "      <td>1</td>\n",
       "      <td>Pvalb</td>\n",
       "    </tr>\n",
       "    <tr>\n",
       "      <th>897</th>\n",
       "      <td>643601251.0</td>\n",
       "      <td>2</td>\n",
       "      <td>Sst</td>\n",
       "    </tr>\n",
       "    <tr>\n",
       "      <th>899</th>\n",
       "      <td>643625553.0</td>\n",
       "      <td>3</td>\n",
       "      <td>Vip</td>\n",
       "    </tr>\n",
       "  </tbody>\n",
       "</table>\n",
       "<p>537 rows × 3 columns</p>\n",
       "</div>"
      ],
      "text/plain": [
       "     specimen_id  prediction predicted_subclass\n",
       "2    485537619.0           0   Lamp5/Pax6/Other\n",
       "3    486748229.0           0   Lamp5/Pax6/Other\n",
       "5    486749782.0           2                Sst\n",
       "6    486940963.0           0   Lamp5/Pax6/Other\n",
       "7    488385201.0           0   Lamp5/Pax6/Other\n",
       "..           ...         ...                ...\n",
       "890  642981071.0           0   Lamp5/Pax6/Other\n",
       "891  643572206.0           1              Pvalb\n",
       "894  643584386.0           1              Pvalb\n",
       "897  643601251.0           2                Sst\n",
       "899  643625553.0           3                Vip\n",
       "\n",
       "[537 rows x 3 columns]"
      ]
     },
     "execution_count": 576,
     "metadata": {},
     "output_type": "execute_result"
    }
   ],
   "source": [
    "test.predicted_outputs()"
   ]
  },
  {
   "cell_type": "code",
   "execution_count": 361,
   "metadata": {},
   "outputs": [
    {
     "data": {
      "text/plain": [
       "array([[0.48333333, 0.        , 0.03333333, 0.1       , 0.38333333],\n",
       "       [0.06666667, 0.01666667, 0.05      , 0.        , 0.86666667],\n",
       "       [0.08333333, 0.08333333, 0.13333333, 0.05      , 0.65      ],\n",
       "       ...,\n",
       "       [0.05      , 0.6       , 0.26666667, 0.08333333, 0.        ],\n",
       "       [0.08333333, 0.06666667, 0.11666667, 0.05      , 0.68333333],\n",
       "       [0.15      , 0.01666667, 0.35      , 0.2       , 0.28333333]])"
      ]
     },
     "execution_count": 361,
     "metadata": {},
     "output_type": "execute_result"
    }
   ],
   "source": [
    "test.predicted_probability()"
   ]
  },
  {
   "cell_type": "code",
   "execution_count": 238,
   "metadata": {},
   "outputs": [
    {
     "data": {
      "text/plain": [
       "{'LAMP5/PAX6/Other': 0,\n",
       " 'PVALB': 1,\n",
       " 'SST': 2,\n",
       " 'VIP': 3,\n",
       " 'IT (L2-3)': 4,\n",
       " 'IT (L3-5)': 4,\n",
       " 'IT (L4-6)': 4,\n",
       " 'L5 ET': 4,\n",
       " 'IT (L6)': 4,\n",
       " 'L6b': 4,\n",
       " 'L5/6 NP': 4,\n",
       " 'L5/6 CT': 4}"
      ]
     },
     "execution_count": 238,
     "metadata": {},
     "output_type": "execute_result"
    }
   ],
   "source": [
    "target"
   ]
  },
  {
   "cell_type": "code",
   "execution_count": 87,
   "metadata": {},
   "outputs": [
    {
     "ename": "SyntaxError",
     "evalue": "invalid syntax (<ipython-input-87-2ac14603ebb0>, line 1)",
     "output_type": "error",
     "traceback": [
      "\u001b[1;36m  File \u001b[1;32m\"<ipython-input-87-2ac14603ebb0>\"\u001b[1;36m, line \u001b[1;32m1\u001b[0m\n\u001b[1;33m    o o x x o\u001b[0m\n\u001b[1;37m      ^\u001b[0m\n\u001b[1;31mSyntaxError\u001b[0m\u001b[1;31m:\u001b[0m invalid syntax\n"
     ]
    }
   ],
   "source": [
    "o o x x o"
   ]
  },
  {
   "cell_type": "code",
   "execution_count": null,
   "metadata": {},
   "outputs": [],
   "source": [
    "data[data['cell_name'] == 'H18.03.009.11.16.02']"
   ]
  },
  {
   "cell_type": "markdown",
   "metadata": {},
   "source": [
    "# Adding back in Excitatory"
   ]
  },
  {
   "cell_type": "code",
   "execution_count": null,
   "metadata": {},
   "outputs": [],
   "source": []
  },
  {
   "cell_type": "code",
   "execution_count": 464,
   "metadata": {},
   "outputs": [],
   "source": [
    "# features = ['tau', 'upstroke_downstroke_ratio_short_square',\n",
    "#        'threshold_v_ramp',\n",
    "#        'peak_v_short_square', 'upstroke_downstroke_ratio_ramp', 'sag',\n",
    "#        'threshold_t_ramp', 'vrest',\n",
    "#        'trough_t_ramp', 'trough_v_long_square',\n",
    "#        'threshold_t_short_square','trough_t_short_square',\n",
    "#        'fast_trough_v_ramp', 'trough_t_long_square','peak_t_ramp',\n",
    "#        'threshold_v_long_square', 'fast_trough_t_long_square', 'ri',\n",
    "#        'threshold_v_short_square', 'avg_isi',\n",
    "#        'threshold_i_long_square',\n",
    "#        'threshold_i_short_square', 'peak_v_ramp',\n",
    "#        'fast_trough_v_short_square', 'fast_trough_t_short_square',\n",
    "#        'fast_trough_t_ramp',\n",
    "#        'threshold_i_ramp',\n",
    "#        'peak_t_short_square',\n",
    "#        'trough_v_short_square', 'f_i_curve_slope',\n",
    "#        'peak_t_long_square', 'latency', 'fast_trough_v_long_square',\n",
    "#        'upstroke_downstroke_ratio_long_square', 'trough_v_ramp',\n",
    "#        'peak_v_long_square', 'adaptation', 'fast_ahp']\n",
    "\n",
    "# features = ['upstroke_downstroke_ratio_ramp',\n",
    "#        'upstroke_downstroke_ratio_long_square', 'tau',\n",
    "#        'upstroke_downstroke_ratio_short_square', 'ri', 'sag',\n",
    "#        'threshold_i_short_square', 'fast_ahp', 'latency', 'adaptation',\n",
    "#        'fast_trough_v_long_square', 'fast_trough_v_ramp', 'threshold_i_ramp',\n",
    "#        'threshold_t_ramp', 'avg_isi', 'threshold_v_ramp',\n",
    "#        'threshold_v_long_square', 'peak_v_long_square', 'trough_v_ramp']\n",
    "\n",
    "features = ['upstroke_downstroke_ratio_long_square', 'tau',\n",
    "       'ri', 'sag',\n",
    "       'threshold_i_short_square', 'fast_ahp', 'latency', 'adaptation',\n",
    "       'fast_trough_v_long_square', 'fast_trough_v_ramp', 'threshold_i_ramp',\n",
    "       'threshold_t_ramp', 'avg_isi', 'threshold_v_ramp',\n",
    "       'threshold_v_long_square', 'peak_v_long_square', 'trough_v_ramp']\n",
    "\n"
   ]
  },
  {
   "cell_type": "code",
   "execution_count": 465,
   "metadata": {},
   "outputs": [
    {
     "data": {
      "text/plain": [
       "LAMP5/PAX6/Other    678\n",
       "IT (L2-3)           618\n",
       "PVALB               527\n",
       "SST                 407\n",
       "IT (L3-5)           327\n",
       "VIP                 315\n",
       "IT (L4-6)           293\n",
       "IT (L6)             195\n",
       "L6b                  88\n",
       "L5 ET                71\n",
       "L5/6 NP              41\n",
       "L5/6 CT              32\n",
       "Name: subclass_label, dtype: int64"
      ]
     },
     "execution_count": 465,
     "metadata": {},
     "output_type": "execute_result"
    }
   ],
   "source": [
    "data.subclass_label.value_counts()"
   ]
  },
  {
   "cell_type": "code",
   "execution_count": 466,
   "metadata": {},
   "outputs": [
    {
     "name": "stderr",
     "output_type": "stream",
     "text": [
      "C:\\Users\\lindsayn\\AppData\\Local\\Continuum\\anaconda2\\envs\\umap3\\lib\\site-packages\\ipykernel_launcher.py:3: FutureWarning: Sorting because non-concatenation axis is not aligned. A future version\n",
      "of pandas will change to not sort by default.\n",
      "\n",
      "To accept the future behavior, pass 'sort=False'.\n",
      "\n",
      "To retain the current behavior and silence the warning, pass 'sort=True'.\n",
      "\n",
      "  This is separate from the ipykernel package so we can avoid doing imports until\n"
     ]
    },
    {
     "data": {
      "text/plain": [
       "LAMP5/PAX6/Other    333\n",
       "PVALB               245\n",
       "IT (L3-5)           165\n",
       "IT (L2-3)           160\n",
       "VIP                 129\n",
       "SST                 119\n",
       "IT (L4-6)           110\n",
       "IT (L6)               9\n",
       "L5/6 NP               8\n",
       "L5/6 CT               2\n",
       "Name: subclass_label, dtype: int64"
      ]
     },
     "execution_count": 466,
     "metadata": {},
     "output_type": "execute_result"
    }
   ],
   "source": [
    "culture_data = pd.read_csv('culture_ephys_200415.csv')\n",
    "data = pd.read_csv('human_200428.csv')\n",
    "data1 = pd.concat([culture_data, data])\n",
    "data1['fast_ahp']= data1['threshold_v_short_square'] - data1['fast_trough_v_short_square']\n",
    "data1 = data1[data1['Norm_Marker_Sum.0.4_label']== True]\n",
    "data1 = data1[data1['subclass_label'].isin(['LAMP5/PAX6/Other','PVALB', 'SST', 'VIP','IT (L2-3)','IT (L3-5)','IT (L4-6)','L5 ET', 'IT (L6)','L6b', 'L5/6 NP', 'L5/6 CT'])]\n",
    "#data1 = data1[data1['subclass_label'].isin(['LAMP5/PAX6/Other','PVALB', 'SST', 'VIP'])]\n",
    "#data1 = data1[['subclass_label','tau','sag', 'vrest', 'ri', 'f_i_curve_slope', 'peak_v_long_square', 'upstroke_downstroke_ratio_long_square','adaptation', 'fast_ahp']]\n",
    "data1 = data1[['subclass_label'] + features]\n",
    "data1 = data1.dropna()\n",
    "\n",
    "#data1.dropna(thresh=10, inplace= True)\n",
    "\n",
    "\n",
    "data1.subclass_label.value_counts()\n",
    "\n"
   ]
  },
  {
   "cell_type": "code",
   "execution_count": 467,
   "metadata": {},
   "outputs": [
    {
     "data": {
      "text/plain": [
       "PVALB               130\n",
       "LAMP5/PAX6/Other    130\n",
       "VIP                 129\n",
       "SST                 119\n",
       "IT (L4-6)            40\n",
       "IT (L2-3)            40\n",
       "IT (L3-5)            40\n",
       "IT (L6)               9\n",
       "L5/6 NP               8\n",
       "L5/6 CT               2\n",
       "Name: subclass_label, dtype: int64"
      ]
     },
     "execution_count": 467,
     "metadata": {},
     "output_type": "execute_result"
    }
   ],
   "source": [
    "df_majority = data1[data1['subclass_label'].isin(['SST','VIP','L5 ET', 'IT (L6)','L6b', 'L5/6 NP', 'L5/6 CT'])]\n",
    "df_minority = data1[data1['subclass_label'] == 'LAMP5/PAX6/Other']\n",
    "df_minority2 = data1[data1['subclass_label'] == 'PVALB']\n",
    "df_minority3 = data1[data1['subclass_label'] == 'IT (L3-5)']\n",
    "df_minority4 = data1[data1['subclass_label'] == 'IT (L2-3)']\n",
    "df_minority5 = data1[data1['subclass_label'] == 'IT (L4-6)']\n",
    "\n",
    "#Upsample minority class\n",
    "df_minority_upsampled = resample(df_minority, \n",
    "                                 replace=False,     # sample with replacement\n",
    "                                 n_samples=130,    # to match majority class\n",
    "                                 random_state=123) # reproducible results\n",
    "\n",
    "df_minority_upsampled2 = resample(df_minority2, \n",
    "                                 replace=False,     # sample with replacement\n",
    "                                 n_samples=130,    # to match majority class\n",
    "                                 random_state=123) # reproducible results\n",
    "\n",
    "df_minority_upsampled3 = resample(df_minority3, \n",
    "                                 replace=False,     # sample with replacement\n",
    "                                 n_samples=40,    # to match majority class\n",
    "                                 random_state=123) # reproducible results\n",
    "\n",
    "df_minority_upsampled4 = resample(df_minority4, \n",
    "                                 replace=False,     # sample with replacement\n",
    "                                 n_samples=40,    # to match majority class\n",
    "                                 random_state=123) # reproducible results\n",
    "\n",
    "df_minority_upsampled5 = resample(df_minority5, \n",
    "                                 replace=False,     # sample with replacement\n",
    "                                 n_samples=40,    # to match majority class\n",
    "                                 random_state=123) # reproducible results\n",
    " \n",
    "# Combine majority class with upsampled minority class\n",
    "df_upsampled = pd.concat([df_majority, df_minority_upsampled, df_minority_upsampled2, df_minority_upsampled3, df_minority_upsampled4, df_minority_upsampled5])\n",
    " \n",
    "# Display new class counts\n",
    "df_upsampled.subclass_label.value_counts()"
   ]
  },
  {
   "cell_type": "code",
   "execution_count": 468,
   "metadata": {},
   "outputs": [],
   "source": [
    "#target = {'LAMP5/PAX6/Other': 0,'PVALB':1, 'SST':2, 'VIP':3}\n",
    "target = {'LAMP5/PAX6/Other': 0,'PVALB':1, 'SST':2, 'VIP':3,'IT (L2-3)':4,'IT (L3-5)':4,'IT (L4-6)':4 ,'L5 ET':4, 'IT (L6)':4,'L6b':4, 'L5/6 NP':4, 'L5/6 CT':4}\n",
    "targets = np.array(df_upsampled['subclass_label'].map(target))\n",
    "df_upsampled['subclass'] = targets"
   ]
  },
  {
   "cell_type": "code",
   "execution_count": 469,
   "metadata": {},
   "outputs": [
    {
     "data": {
      "text/plain": [
       "array([0.83076923, 0.76153846, 0.82945736, 0.79069767, 0.84496124])"
      ]
     },
     "execution_count": 469,
     "metadata": {},
     "output_type": "execute_result"
    }
   ],
   "source": [
    "data_targets = df_upsampled.drop(['subclass_label'], axis =1)\n",
    "unscaled_inputs = data_targets.iloc[:,:-1]\n",
    "# imputer = KNNImputer(n_neighbors=5)\n",
    "# unscaled_inputs = imputer.fit_transform(unscaled_inputs)\n",
    "subclass_scaler = StandardScaler()\n",
    "subclass_scaler.fit(unscaled_inputs)\n",
    "scaled_inputs = subclass_scaler.transform(unscaled_inputs)\n",
    "x_train, x_test, y_train, y_test = train_test_split(scaled_inputs, targets, train_size = 0.8, random_state = 20)\n",
    "#x_train, x_test, y_train, y_test = train_test_split(X_new, targets, train_size = 0.8, random_state = 20)\n",
    "\n",
    "classifier = RandomForestClassifier(n_estimators=60, random_state= 0, class_weight = {0:1,1:1,2:3,3:1,4:1})\n",
    "classifier.fit(x_train, y_train)\n",
    "classifier.score(x_train, y_train)\n",
    "scores = cross_val_score(classifier, scaled_inputs, targets, cv=5)\n",
    "scores"
   ]
  },
  {
   "cell_type": "code",
   "execution_count": 471,
   "metadata": {},
   "outputs": [
    {
     "data": {
      "image/png": "[encoded data removed]",
      "text/plain": [
       "<Figure size 1080x1080 with 2 Axes>"
      ]
     },
     "metadata": {
      "needs_background": "light"
     },
     "output_type": "display_data"
    }
   ],
   "source": [
    "score = classifier.score(x_test,y_test)\n",
    "predictions = classifier.predict(x_test)\n",
    "cm = metrics.confusion_matrix(y_test, predictions)\n",
    "cmn = cm.astype('float') / cm.sum(axis=1)[:, np.newaxis]\n",
    "plt.figure(figsize=(15,15))\n",
    "# sns.heatmap(cmn, annot=True, fmt=\".2f\", linewidths=.5, square = True, cmap = 'Blues',\n",
    "#            yticklabels = ['LAMP5/PAX6/Other','PVALB','SST', 'VIP','IT (L2-3)','IT (L3-5)','IT (L4-6)'],\n",
    "#            xticklabels = ['LAMP5/PAX6/Other','PVALB','SST','VIP','IT (L2-3)','IT (L3-5)','IT (L4-6)'], vmax=1)\n",
    "sns.heatmap(cmn, annot=True, fmt=\".2f\", linewidths=.5, square = True, cmap = 'Blues',\n",
    "            yticklabels = ['LAMP5/PAX6/Other','PVALB','SST', 'VIP','Excitatory'],\n",
    "            xticklabels = ['LAMP5/PAX6/Other','PVALB','SST','VIP','Excitatory'], vmax=1)\n",
    "plt.ylabel('Actual label \\n', size = 15);\n",
    "plt.xlabel('\\n Predicted label', size = 15);\n",
    "all_sample_title = 'Accuracy Score: {:.2f} \\n n = {}'.format(score, predictions.size)\n",
    "plt.title(all_sample_title, size = 17)\n",
    "plt.xticks(size=14)\n",
    "plt.yticks(size=14)\n",
    "#plt.savefig('human_confusion_matrix_200526.png', dpi =300)"
   ]
  },
  {
   "cell_type": "markdown",
   "metadata": {},
   "source": [
    "could add excitatory IT types\n",
    "could try inhib ttypes\n",
    "could analyze ME data\n",
    "\n"
   ]
  },
  {
   "cell_type": "markdown",
   "metadata": {},
   "source": [
    "# Trying out inhib t-types"
   ]
  },
  {
   "cell_type": "code",
   "execution_count": 581,
   "metadata": {},
   "outputs": [
    {
     "name": "stderr",
     "output_type": "stream",
     "text": [
      "C:\\Users\\lindsayn\\AppData\\Local\\Continuum\\anaconda2\\envs\\umap3\\lib\\site-packages\\ipykernel_launcher.py:10: FutureWarning: Sorting because non-concatenation axis is not aligned. A future version\n",
      "of pandas will change to not sort by default.\n",
      "\n",
      "To accept the future behavior, pass 'sort=False'.\n",
      "\n",
      "To retain the current behavior and silence the warning, pass 'sort=True'.\n",
      "\n",
      "  # Remove the CWD from sys.path while we load stuff.\n",
      "C:\\Users\\lindsayn\\AppData\\Local\\Continuum\\anaconda2\\envs\\umap3\\lib\\site-packages\\sklearn\\model_selection\\_split.py:667: UserWarning: The least populated class in y has only 1 members, which is less than n_splits=5.\n",
      "  % (min_groups, self.n_splits)), UserWarning)\n"
     ]
    },
    {
     "data": {
      "text/plain": [
       "array([0.6626506 , 0.63636364, 0.63030303, 0.71515152, 0.72121212])"
      ]
     },
     "execution_count": 581,
     "metadata": {},
     "output_type": "execute_result"
    }
   ],
   "source": [
    "features = ['upstroke_downstroke_ratio_long_square', 'tau',\n",
    "       'ri', 'sag',\n",
    "       'threshold_i_short_square', 'fast_ahp', 'latency', 'adaptation',\n",
    "       'fast_trough_v_long_square', 'fast_trough_v_ramp', 'threshold_i_ramp',\n",
    "       'threshold_t_ramp', 'avg_isi', 'threshold_v_ramp',\n",
    "       'threshold_v_long_square', 'peak_v_long_square', 'trough_v_ramp']\n",
    "\n",
    "culture_data = pd.read_csv('culture_ephys_200415.csv')\n",
    "data = pd.read_csv('human_200428.csv')\n",
    "data1 = pd.concat([culture_data, data])\n",
    "data1['fast_ahp']= data1['threshold_v_short_square'] - data1['fast_trough_v_short_square']\n",
    "data1 = data1[data1['Norm_Marker_Sum.0.4_label']== True]\n",
    "data1 = data1[data1['subclass_label'].isin(['LAMP5/PAX6/Other','PVALB', 'SST', 'VIP'])]\n",
    "data1 = data1[['seurat_cluster_label'] + features]\n",
    "data1 = data1.dropna()\n",
    "\n",
    "\n",
    "unique= data1['seurat_cluster_label'].unique()\n",
    "mapper = {k: i for i, k in enumerate(unique)}\n",
    "targets = np.array(data1['seurat_cluster_label'].map(mapper))\n",
    "data1['ttype'] = targets\n",
    "\n",
    "data_targets = data1.drop(['seurat_cluster_label'], axis =1)\n",
    "unscaled_inputs = data_targets.iloc[:,:-1]\n",
    "subclass_scaler = StandardScaler()\n",
    "subclass_scaler.fit(unscaled_inputs)\n",
    "scaled_inputs = subclass_scaler.transform(unscaled_inputs)\n",
    "x_train, x_test, y_train, y_test = train_test_split(scaled_inputs, targets, train_size = 0.8, random_state = 20)\n",
    "\n",
    "\n",
    "classifier = RandomForestClassifier(n_estimators=60, random_state= 0, class_weight = 'balanced')\n",
    "classifier.fit(x_train, y_train)\n",
    "classifier.score(x_train, y_train)\n",
    "scores = cross_val_score(classifier, scaled_inputs, targets, cv=5)\n",
    "scores\n"
   ]
  },
  {
   "cell_type": "code",
   "execution_count": 583,
   "metadata": {},
   "outputs": [
    {
     "name": "stderr",
     "output_type": "stream",
     "text": [
      "C:\\Users\\lindsayn\\AppData\\Local\\Continuum\\anaconda2\\envs\\umap3\\lib\\site-packages\\ipykernel_launcher.py:4: RuntimeWarning: invalid value encountered in true_divide\n",
      "  after removing the cwd from sys.path.\n"
     ]
    },
    {
     "data": {
      "image/png": "[encoded data removed]",
      "text/plain": [
       "<Figure size 1080x1080 with 2 Axes>"
      ]
     },
     "metadata": {
      "needs_background": "light"
     },
     "output_type": "display_data"
    }
   ],
   "source": [
    "score = classifier.score(x_test,y_test)\n",
    "predictions = classifier.predict(x_test)\n",
    "cm = metrics.confusion_matrix(y_test, predictions)\n",
    "cmn = cm.astype('float') / cm.sum(axis=1)[:, np.newaxis]\n",
    "plt.figure(figsize=(15,15))\n",
    "\n",
    "sns.heatmap(cmn, annot=False, fmt=\".2f\", linewidths=.5, square = True, cmap = 'Blues', vmax=1)\n",
    "plt.ylabel('Actual label \\n', size = 15);\n",
    "plt.xlabel('\\n Predicted label', size = 15);\n",
    "all_sample_title = 'Accuracy Score: {:.2f} \\n n = {}'.format(score, predictions.size)\n",
    "plt.title(all_sample_title, size = 17)\n",
    "plt.xticks(size=14)\n",
    "plt.yticks(size=14)\n",
    "#plt.savefig('human_confusion_matrix_ttype_200618.png', dpi =300)"
   ]
  },
  {
   "cell_type": "code",
   "execution_count": 452,
   "metadata": {},
   "outputs": [
    {
     "data": {
      "text/plain": [
       "{'Inh L1-2 PAX6 CDH12': 0,\n",
       " 'Inh L1-2 PAX6 TNFAIP8L3': 1,\n",
       " 'Inh L1-4 VIP PENK': 2,\n",
       " 'Inh L1-2 LAMP5 DBP': 3,\n",
       " 'Inh L1-2 SST BAGE2 (ADARB2+)': 4,\n",
       " 'Inh L1-3 SST CALB1': 5,\n",
       " 'Inh L1-4 LAMP5 LCP2 (rosehip)': 6,\n",
       " 'Inh L2-6 LAMP5 CA1 (Igtp)': 7,\n",
       " 'Inh L1 SST CHRNA4 (ADARB2+)': 8,\n",
       " 'Inh L1-2 VIP TSPAN12': 9,\n",
       " 'Inh L2-6 VIP QPCT': 10,\n",
       " 'Inh L1-4 VIP CHRNA6': 11,\n",
       " 'Inh L1-3 VIP ADAMTSL1': 12,\n",
       " 'Inh L1-2 VIP PCDH20': 13,\n",
       " 'Inh L2-5 VIP TYR': 14,\n",
       " 'Inh L1-3 VIP CHRM2': 15,\n",
       " 'Inh L1-3 VIP GGH': 16,\n",
       " 'Inh L1-2 VIP LBH': 17,\n",
       " 'Inh L2-3 VIP CASC6': 18,\n",
       " 'Inh L2-4 VIP SPAG17': 19,\n",
       " 'Inh L1-4 VIP OPRM1': 20,\n",
       " 'Inh L3-5 SST ADGRG6': 21,\n",
       " 'Inh L5-6 SST KLHDC8A': 22,\n",
       " 'Inh L4-6 SST GXYLT2': 23,\n",
       " 'Inh L4-5 SST STK32A': 24,\n",
       " 'Inh L2-4 SST FRZB': 25,\n",
       " 'Inh L2-4 PVALB WFDC2': 26,\n",
       " 'Inh L5-6 SST TH': 27,\n",
       " 'Inh L5-6 PVALB LGR5': 28,\n",
       " 'Inh L4-5 PVALB MEPE': 29,\n",
       " 'Inh L4-6 PVALB SULF1': 30,\n",
       " 'Inh L5-6 SST MIR548F2': 31,\n",
       " 'Inh L2-5 PVALB SCUBE3 (chandelier)': 32,\n",
       " 'Exc L2-3 LINC00507 FREM3': 33,\n",
       " 'Inh L4-6 SST B3GAT2': 34,\n",
       " 'Inh L1-3 VIP CCDC184': 35,\n",
       " 'Inh L3-6 VIP HS3ST3A1': 36,\n",
       " 'Inh L1 SST NMBR (ADARB2+)': 37,\n",
       " 'Inh L1-2 GAD1 MC4R (ADARB2+)': 38,\n",
       " 'Inh L1-3 PAX6 SYT6 (Sncg)': 39,\n",
       " 'Inh L5-6 SST NPM1P10': 40}"
      ]
     },
     "execution_count": 452,
     "metadata": {},
     "output_type": "execute_result"
    }
   ],
   "source": [
    "mapper"
   ]
  },
  {
   "cell_type": "markdown",
   "metadata": {},
   "source": [
    "# Comparing human ME subclass predictions to ME morphology calss"
   ]
  },
  {
   "cell_type": "code",
   "execution_count": 454,
   "metadata": {},
   "outputs": [],
   "source": [
    "predictions = pd.read_csv('ME_predictions.csv')\n",
    "morpho = pd.read_csv('162_Human_ME_cells_Qual_Calls.csv')"
   ]
  },
  {
   "cell_type": "code",
   "execution_count": 459,
   "metadata": {},
   "outputs": [
    {
     "data": {
      "text/html": [
       "<div>\n",
       "<style scoped>\n",
       "    .dataframe tbody tr th:only-of-type {\n",
       "        vertical-align: middle;\n",
       "    }\n",
       "\n",
       "    .dataframe tbody tr th {\n",
       "        vertical-align: top;\n",
       "    }\n",
       "\n",
       "    .dataframe thead th {\n",
       "        text-align: right;\n",
       "    }\n",
       "</style>\n",
       "<table border=\"1\" class=\"dataframe\">\n",
       "  <thead>\n",
       "    <tr style=\"text-align: right;\">\n",
       "      <th></th>\n",
       "      <th>Project</th>\n",
       "      <th>Cell Specimen Id</th>\n",
       "      <th>Morpho type</th>\n",
       "      <th>Depth from Pia</th>\n",
       "      <th>Pinned Structure and Layer</th>\n",
       "      <th>63X Image series Link</th>\n",
       "      <th>Truncation</th>\n",
       "      <th>Cell Type</th>\n",
       "    </tr>\n",
       "  </thead>\n",
       "  <tbody>\n",
       "    <tr>\n",
       "      <th>0</th>\n",
       "      <td>H301</td>\n",
       "      <td>571709783</td>\n",
       "      <td>BC - bituft</td>\n",
       "      <td>775.422360</td>\n",
       "      <td>MTG</td>\n",
       "      <td>http://lims2/focal_plane_image_series?id=57991...</td>\n",
       "      <td>apical - NA</td>\n",
       "      <td>dendrite type - aspiny</td>\n",
       "    </tr>\n",
       "    <tr>\n",
       "      <th>1</th>\n",
       "      <td>H301</td>\n",
       "      <td>611610514</td>\n",
       "      <td>BC - bituft - asc. ax.</td>\n",
       "      <td>1406.146913</td>\n",
       "      <td>MTG</td>\n",
       "      <td>http://lims2/focal_plane_image_series?id=63928...</td>\n",
       "      <td>apical - NA</td>\n",
       "      <td>dendrite type - aspiny</td>\n",
       "    </tr>\n",
       "    <tr>\n",
       "      <th>2</th>\n",
       "      <td>H301</td>\n",
       "      <td>571427524</td>\n",
       "      <td>BC - bituft - asc. ax.</td>\n",
       "      <td>1582.782723</td>\n",
       "      <td>MTG</td>\n",
       "      <td>http://lims2/focal_plane_image_series?id=58093...</td>\n",
       "      <td>apical - NA</td>\n",
       "      <td>dendrite type - aspiny</td>\n",
       "    </tr>\n",
       "    <tr>\n",
       "      <th>3</th>\n",
       "      <td>H301</td>\n",
       "      <td>541536216</td>\n",
       "      <td>BC - bituft - asc. ax.</td>\n",
       "      <td>963.471900</td>\n",
       "      <td>MTG</td>\n",
       "      <td>http://lims2/focal_plane_image_series?id=55042...</td>\n",
       "      <td>apical - NA</td>\n",
       "      <td>dendrite type - aspiny</td>\n",
       "    </tr>\n",
       "    <tr>\n",
       "      <th>4</th>\n",
       "      <td>H301</td>\n",
       "      <td>614651270</td>\n",
       "      <td>BC - bituft - asc. ax.</td>\n",
       "      <td>1120.947405</td>\n",
       "      <td>MTG</td>\n",
       "      <td>http://lims2/focal_plane_image_series?id=68123...</td>\n",
       "      <td>apical - NA</td>\n",
       "      <td>dendrite type - aspiny</td>\n",
       "    </tr>\n",
       "    <tr>\n",
       "      <th>...</th>\n",
       "      <td>...</td>\n",
       "      <td>...</td>\n",
       "      <td>...</td>\n",
       "      <td>...</td>\n",
       "      <td>...</td>\n",
       "      <td>...</td>\n",
       "      <td>...</td>\n",
       "      <td>...</td>\n",
       "    </tr>\n",
       "    <tr>\n",
       "      <th>157</th>\n",
       "      <td>H301</td>\n",
       "      <td>576095991</td>\n",
       "      <td>NGC</td>\n",
       "      <td>1969.045987</td>\n",
       "      <td>MFG</td>\n",
       "      <td>http://lims2/focal_plane_image_series?id=60487...</td>\n",
       "      <td>apical - NA</td>\n",
       "      <td>dendrite type - aspiny</td>\n",
       "    </tr>\n",
       "    <tr>\n",
       "      <th>158</th>\n",
       "      <td>H301</td>\n",
       "      <td>567742660</td>\n",
       "      <td>NON - MARTINOTTI</td>\n",
       "      <td>1722.769330</td>\n",
       "      <td>MTG</td>\n",
       "      <td>http://lims2/focal_plane_image_series?id=57392...</td>\n",
       "      <td>apical - NA</td>\n",
       "      <td>dendrite type - aspiny</td>\n",
       "    </tr>\n",
       "    <tr>\n",
       "      <th>159</th>\n",
       "      <td>H301</td>\n",
       "      <td>596036453</td>\n",
       "      <td>ROSEHIP</td>\n",
       "      <td>66.867155</td>\n",
       "      <td>MTG</td>\n",
       "      <td>http://lims2/focal_plane_image_series?id=60436...</td>\n",
       "      <td>apical - NA</td>\n",
       "      <td>dendrite type - sparsely spiny</td>\n",
       "    </tr>\n",
       "    <tr>\n",
       "      <th>160</th>\n",
       "      <td>H301</td>\n",
       "      <td>595568262</td>\n",
       "      <td>ROSEHIP</td>\n",
       "      <td>136.567075</td>\n",
       "      <td>MTG</td>\n",
       "      <td>http://lims2/focal_plane_image_series?id=60401...</td>\n",
       "      <td>apical - NA</td>\n",
       "      <td>dendrite type - sparsely spiny</td>\n",
       "    </tr>\n",
       "    <tr>\n",
       "      <th>161</th>\n",
       "      <td>H301</td>\n",
       "      <td>595999306</td>\n",
       "      <td>ROSEHIP</td>\n",
       "      <td>106.220702</td>\n",
       "      <td>MTG</td>\n",
       "      <td>http://lims2/focal_plane_image_series?id=60435...</td>\n",
       "      <td>apical - NA</td>\n",
       "      <td>dendrite type - sparsely spiny</td>\n",
       "    </tr>\n",
       "  </tbody>\n",
       "</table>\n",
       "<p>162 rows × 8 columns</p>\n",
       "</div>"
      ],
      "text/plain": [
       "    Project  Cell Specimen Id             Morpho type  Depth from Pia  \\\n",
       "0      H301         571709783             BC - bituft      775.422360   \n",
       "1      H301         611610514  BC - bituft - asc. ax.     1406.146913   \n",
       "2      H301         571427524  BC - bituft - asc. ax.     1582.782723   \n",
       "3      H301         541536216  BC - bituft - asc. ax.      963.471900   \n",
       "4      H301         614651270  BC - bituft - asc. ax.     1120.947405   \n",
       "..      ...               ...                     ...             ...   \n",
       "157    H301         576095991                     NGC     1969.045987   \n",
       "158    H301         567742660        NON - MARTINOTTI     1722.769330   \n",
       "159    H301         596036453                 ROSEHIP       66.867155   \n",
       "160    H301         595568262                 ROSEHIP      136.567075   \n",
       "161    H301         595999306                 ROSEHIP      106.220702   \n",
       "\n",
       "    Pinned Structure and Layer  \\\n",
       "0                          MTG   \n",
       "1                          MTG   \n",
       "2                          MTG   \n",
       "3                          MTG   \n",
       "4                          MTG   \n",
       "..                         ...   \n",
       "157                        MFG   \n",
       "158                        MTG   \n",
       "159                        MTG   \n",
       "160                        MTG   \n",
       "161                        MTG   \n",
       "\n",
       "                                 63X Image series Link   Truncation  \\\n",
       "0    http://lims2/focal_plane_image_series?id=57991...  apical - NA   \n",
       "1    http://lims2/focal_plane_image_series?id=63928...  apical - NA   \n",
       "2    http://lims2/focal_plane_image_series?id=58093...  apical - NA   \n",
       "3    http://lims2/focal_plane_image_series?id=55042...  apical - NA   \n",
       "4    http://lims2/focal_plane_image_series?id=68123...  apical - NA   \n",
       "..                                                 ...          ...   \n",
       "157  http://lims2/focal_plane_image_series?id=60487...  apical - NA   \n",
       "158  http://lims2/focal_plane_image_series?id=57392...  apical - NA   \n",
       "159  http://lims2/focal_plane_image_series?id=60436...  apical - NA   \n",
       "160  http://lims2/focal_plane_image_series?id=60401...  apical - NA   \n",
       "161  http://lims2/focal_plane_image_series?id=60435...  apical - NA   \n",
       "\n",
       "                          Cell Type  \n",
       "0            dendrite type - aspiny  \n",
       "1            dendrite type - aspiny  \n",
       "2            dendrite type - aspiny  \n",
       "3            dendrite type - aspiny  \n",
       "4            dendrite type - aspiny  \n",
       "..                              ...  \n",
       "157          dendrite type - aspiny  \n",
       "158          dendrite type - aspiny  \n",
       "159  dendrite type - sparsely spiny  \n",
       "160  dendrite type - sparsely spiny  \n",
       "161  dendrite type - sparsely spiny  \n",
       "\n",
       "[162 rows x 8 columns]"
      ]
     },
     "execution_count": 459,
     "metadata": {},
     "output_type": "execute_result"
    }
   ],
   "source": [
    "morpho"
   ]
  },
  {
   "cell_type": "code",
   "execution_count": 463,
   "metadata": {},
   "outputs": [],
   "source": [
    "ME_df = pd.merge(left = predictions, \n",
    "                    right = morpho, \n",
    "                    left_on = 'specimen_id', \n",
    "                    right_on = 'Cell Specimen Id', \n",
    "                    how = 'inner')\n",
    "\n",
    "ME_df[['specimen_id', 'name', 'predicted_subclass', 'Morpho type', 'Cell Type']]#.to_csv('ME_pred_morpho.csv')"
   ]
  },
  {
   "cell_type": "markdown",
   "metadata": {},
   "source": [
    "# Trying to classify Exc vs Inh first, then further classify to sublcass"
   ]
  },
  {
   "cell_type": "code",
   "execution_count": 530,
   "metadata": {},
   "outputs": [
    {
     "name": "stderr",
     "output_type": "stream",
     "text": [
      "C:\\Users\\lindsayn\\AppData\\Local\\Continuum\\anaconda2\\envs\\umap3\\lib\\site-packages\\ipykernel_launcher.py:9: FutureWarning: Sorting because non-concatenation axis is not aligned. A future version\n",
      "of pandas will change to not sort by default.\n",
      "\n",
      "To accept the future behavior, pass 'sort=False'.\n",
      "\n",
      "To retain the current behavior and silence the warning, pass 'sort=True'.\n",
      "\n",
      "  if __name__ == '__main__':\n"
     ]
    },
    {
     "data": {
      "text/plain": [
       "array([0.95604396, 0.95054945, 0.89010989, 0.9281768 , 0.89502762])"
      ]
     },
     "execution_count": 530,
     "metadata": {},
     "output_type": "execute_result"
    }
   ],
   "source": [
    "features = ['upstroke_downstroke_ratio_long_square', 'tau',\n",
    "       'ri', 'sag','threshold_i_short_square', 'fast_ahp', 'latency', 'adaptation',\n",
    "       'fast_trough_v_long_square', 'fast_trough_v_ramp', 'threshold_i_ramp',\n",
    "       'threshold_t_ramp', 'avg_isi', 'threshold_v_ramp',\n",
    "       'threshold_v_long_square', 'peak_v_long_square', 'trough_v_ramp']\n",
    "\n",
    "culture_data = pd.read_csv('culture_ephys_200415.csv')\n",
    "data = pd.read_csv('human_200428.csv')\n",
    "data1 = pd.concat([culture_data, data])\n",
    "data1['fast_ahp']= data1['threshold_v_short_square'] - data1['fast_trough_v_short_square']\n",
    "data1 = data1[data1['Norm_Marker_Sum.0.4_label']== True]\n",
    "data1 = data1[data1['subclass_label'].isin(['LAMP5/PAX6/Other','PVALB', 'SST', 'VIP','IT (L2-3)','IT (L3-5)','IT (L4-6)','L5 ET', 'IT (L6)','L6b', 'L5/6 NP', 'L5/6 CT'])]\n",
    "data1 = data1[['broad_class_label', 'subclass_label'] + features]\n",
    "data1 = data1.dropna()\n",
    "\n",
    "df_maj = data1[data1['broad_class_label'] == 'GABAergic neuron']\n",
    "df_min = data1[data1['broad_class_label'] == 'Glutamatergic neuron']\n",
    "\n",
    "\n",
    "df_maj_downsampled = resample(df_maj, \n",
    "                                 replace=False,     \n",
    "                                 n_samples=454,    \n",
    "                                 random_state=1) \n",
    "\n",
    "df = pd.concat([df_min, df_maj_downsampled])\n",
    "\n",
    "unique= df['broad_class_label'].unique()\n",
    "mapper = {k: i for i, k in enumerate(unique)}\n",
    "targets = np.array(df['broad_class_label'].map(mapper))\n",
    "df['class'] = targets\n",
    "\n",
    "\n",
    "\n",
    "data_targets = df.drop(['broad_class_label','subclass_label'], axis =1)\n",
    "unscaled_inputs = data_targets.iloc[:,:-1]\n",
    "class_scaler = StandardScaler()\n",
    "class_scaler.fit(unscaled_inputs)\n",
    "scaled_inputs = subclass_scaler.transform(unscaled_inputs)\n",
    "x_train, x_test, y_train, y_test = train_test_split(scaled_inputs, targets, train_size = 0.8, random_state = 20)\n",
    "\n",
    "\n",
    "classifier = RandomForestClassifier(n_estimators=60, random_state= 0)\n",
    "classifier.fit(x_train, y_train)\n",
    "classifier.score(x_train, y_train)\n",
    "scores = cross_val_score(classifier, scaled_inputs, targets, cv=5)\n",
    "scores\n"
   ]
  },
  {
   "cell_type": "code",
   "execution_count": 531,
   "metadata": {},
   "outputs": [
    {
     "data": {
      "text/plain": [
       "(array([0.5, 1.5]), <a list of 2 Text yticklabel objects>)"
      ]
     },
     "execution_count": 531,
     "metadata": {},
     "output_type": "execute_result"
    },
    {
     "data": {
      "image/png": "[encoded data removed]",
      "text/plain": [
       "<Figure size 1080x1080 with 2 Axes>"
      ]
     },
     "metadata": {
      "needs_background": "light"
     },
     "output_type": "display_data"
    }
   ],
   "source": [
    "score = classifier.score(x_test,y_test)\n",
    "predictions = classifier.predict(x_test)\n",
    "cm = metrics.confusion_matrix(y_test, predictions)\n",
    "cmn = cm.astype('float') / cm.sum(axis=1)[:, np.newaxis]\n",
    "plt.figure(figsize=(15,15))\n",
    "\n",
    "sns.heatmap(cmn, annot=True, fmt=\".2f\", linewidths=.5, square = True, cmap = 'Blues', vmax=1)\n",
    "plt.ylabel('Actual label \\n', size = 15);\n",
    "plt.xlabel('\\n Predicted label', size = 15);\n",
    "all_sample_title = 'Accuracy Score: {:.2f} \\n n = {}'.format(score, predictions.size)\n",
    "plt.title(all_sample_title, size = 17)\n",
    "plt.xticks(size=14)\n",
    "plt.yticks(size=14)\n",
    "#plt.savefig('human_confusion_matrix_200511.png', dpi =300)"
   ]
  },
  {
   "cell_type": "code",
   "execution_count": 537,
   "metadata": {},
   "outputs": [
    {
     "data": {
      "text/plain": [
       "{'Glutamatergic neuron': 0, 'GABAergic neuron': 1}"
      ]
     },
     "execution_count": 537,
     "metadata": {},
     "output_type": "execute_result"
    }
   ],
   "source": [
    "mapper"
   ]
  },
  {
   "cell_type": "code",
   "execution_count": 533,
   "metadata": {},
   "outputs": [],
   "source": [
    "with open('human_broadclass_model', 'wb') as file:\n",
    "    pickle.dump(classifier, file)\n",
    "    \n",
    "with open('human_broadclass_scaler', 'wb') as file:\n",
    "    pickle.dump(class_scaler, file)"
   ]
  },
  {
   "cell_type": "code",
   "execution_count": 551,
   "metadata": {},
   "outputs": [],
   "source": [
    "class Class_model():\n",
    "    \n",
    "    def __init__(self, model_file, scaler_file, model_file2, scaler_file2):\n",
    "        #read model and scaler files which were saved\n",
    "        with open('human_broadclass_model', 'rb') as model_file, open('human_broadclass_scaler', 'rb') as scaler_file, open('human_subclass_model', 'rb') as model_file2 ,open('human_subclass_scaler', 'rb') as scaler_file2:\n",
    "            self.classifier = pickle.load(model_file)\n",
    "            self.scaler = pickle.load(scaler_file)\n",
    "            self.classifier2 = pickle.load(model_file2)\n",
    "            self.scaler2 = pickle.load(scaler_file2)\n",
    "            \n",
    "            self.data = None\n",
    "            \n",
    "    def load_and_clean_data(self, data_file):\n",
    "        #import data\n",
    "        df = pd.read_csv(data_file)\n",
    "        #store data in a new variable for later use\n",
    "        self.df_with_predicitons = df.copy()\n",
    "        df['fast_ahp']= df['threshold_v_short_square'] - df['fast_trough_v_short_square']\n",
    "\n",
    "    \n",
    "    \n",
    "        features = ['upstroke_downstroke_ratio_long_square', 'tau',\n",
    "               'ri', 'sag',\n",
    "               'threshold_i_short_square', 'fast_ahp', 'latency', 'adaptation',\n",
    "               'fast_trough_v_long_square', 'fast_trough_v_ramp', 'threshold_i_ramp',\n",
    "               'threshold_t_ramp', 'avg_isi', 'threshold_v_ramp',\n",
    "               'threshold_v_long_square', 'peak_v_long_square', 'trough_v_ramp']        \n",
    "        \n",
    "        \n",
    "        df2 = df[features + ['specimen_id', 'name']]\n",
    "        df = df[features]\n",
    "        df = df.dropna()\n",
    "        df2 = df2.dropna()\n",
    "        self.preprocessed_data = df2.copy()\n",
    "        \n",
    "        self.data = self.scaler.transform(df)\n",
    "        \n",
    "    def load_and_clean_data2(self, data_file):\n",
    "        #import data\n",
    "        df = pd.read_csv(data_file)\n",
    "        #store data in a new variable for later use\n",
    "        self.df_with_predicitons = df.copy()\n",
    "        df['fast_ahp']= df['threshold_v_short_square'] - df['fast_trough_v_short_square']\n",
    "\n",
    "    \n",
    "    \n",
    "        features = ['upstroke_downstroke_ratio_long_square', 'tau',\n",
    "               'ri', 'sag',\n",
    "               'threshold_i_short_square', 'fast_ahp', 'latency', 'adaptation',\n",
    "               'fast_trough_v_long_square', 'fast_trough_v_ramp', 'threshold_i_ramp',\n",
    "               'threshold_t_ramp', 'avg_isi', 'threshold_v_ramp',\n",
    "               'threshold_v_long_square', 'peak_v_long_square', 'trough_v_ramp']        \n",
    "        \n",
    "        \n",
    "        df2 = df[features + ['specimen_id', 'name']]\n",
    "        df = df[features]\n",
    "        df = df.dropna()\n",
    "        df2 = df2.dropna()\n",
    "        self.preprocessed_data = df2.copy()\n",
    "        \n",
    "        self.data = self.scaler2.transform(df)    \n",
    "    \n",
    "\n",
    "        \n",
    "    def predicted_probability(self):\n",
    "        if (self.data is not None):\n",
    "            pred = self.classifier.predict_proba(self.data)\n",
    "            return pred\n",
    "        \n",
    "    def predicted_output_category(self):\n",
    "        if (self.data is not None):\n",
    "            pred_outputs = self.classifier.predict(self.data)\n",
    "            return pred_outputs\n",
    "            \n",
    "    def predicted_outputs(self):\n",
    "        targets = {0:'Excitatory', 1: 'Inhibitory'}\n",
    "        if (self.data is not None):\n",
    "            self.preprocessed_data['prediction'] = self.classifier.predict(self.data)\n",
    "            #return self.preprocessed_data[['specimen_id','name','qualitative call','prediction']]\n",
    "            self.preprocessed_data['predicted_subclass'] = self.preprocessed_data['prediction'].map(targets)\n",
    "        \n",
    "            #return self.preprocessed_data[['specimen_id','name','prediction','predicted_subclass']]\n",
    "            return self.preprocessed_data[['specimen_id','prediction','predicted_subclass']]\n",
    "  \n",
    "    def predicted_outputs2(self):\n",
    "        targets = {0:'LAMP5', 1: 'PV', 2:'SST', 3: 'VIP'}\n",
    "        if (self.data is not None):\n",
    "            self.preprocessed_data['prediction'] = self.classifier.predict(self.data)\n",
    "            #return self.preprocessed_data[['specimen_id','name','qualitative call','prediction']]\n",
    "            \n",
    "            self.inh = self.preprocessed_data[self.preprocessed_data['prediction'] == 1]\n",
    "            \n",
    "            self.inh['prediction'] = self.classifier2.predict(self.data)\n",
    "            self.inh['predicted_subclass'] = self.preprocessed_data['prediction'].map(targets)\n",
    "        \n",
    "            #return self.preprocessed_data[['specimen_id','name','prediction','predicted_subclass']]\n",
    "            return self.inh[['specimen_id','prediction','predicted_subclass']]\n",
    "     "
   ]
  },
  {
   "cell_type": "code",
   "execution_count": 546,
   "metadata": {},
   "outputs": [],
   "source": [
    "model_file = pickle.load(open('human_broadclass_model', 'rb'))\n",
    "scaler_file = pickle.load(open('human_broadclass_scaler', 'rb'))\n",
    "model_file2 = pickle.load(open('human_subclass_model', 'rb'))\n",
    "scaler_file2 = pickle.load(open('human_subclass_scaler', 'rb'))"
   ]
  },
  {
   "cell_type": "code",
   "execution_count": 580,
   "metadata": {},
   "outputs": [
    {
     "data": {
      "text/html": [
       "<div>\n",
       "<style scoped>\n",
       "    .dataframe tbody tr th:only-of-type {\n",
       "        vertical-align: middle;\n",
       "    }\n",
       "\n",
       "    .dataframe tbody tr th {\n",
       "        vertical-align: top;\n",
       "    }\n",
       "\n",
       "    .dataframe thead th {\n",
       "        text-align: right;\n",
       "    }\n",
       "</style>\n",
       "<table border=\"1\" class=\"dataframe\">\n",
       "  <thead>\n",
       "    <tr style=\"text-align: right;\">\n",
       "      <th></th>\n",
       "      <th>specimen_id</th>\n",
       "    </tr>\n",
       "  </thead>\n",
       "  <tbody>\n",
       "    <tr>\n",
       "      <th>2</th>\n",
       "      <td>485537619.0</td>\n",
       "    </tr>\n",
       "    <tr>\n",
       "      <th>5</th>\n",
       "      <td>486749782.0</td>\n",
       "    </tr>\n",
       "    <tr>\n",
       "      <th>7</th>\n",
       "      <td>488385201.0</td>\n",
       "    </tr>\n",
       "    <tr>\n",
       "      <th>8</th>\n",
       "      <td>488386399.0</td>\n",
       "    </tr>\n",
       "    <tr>\n",
       "      <th>11</th>\n",
       "      <td>488386504.0</td>\n",
       "    </tr>\n",
       "    <tr>\n",
       "      <th>...</th>\n",
       "      <td>...</td>\n",
       "    </tr>\n",
       "    <tr>\n",
       "      <th>890</th>\n",
       "      <td>642981071.0</td>\n",
       "    </tr>\n",
       "    <tr>\n",
       "      <th>891</th>\n",
       "      <td>643572206.0</td>\n",
       "    </tr>\n",
       "    <tr>\n",
       "      <th>894</th>\n",
       "      <td>643584386.0</td>\n",
       "    </tr>\n",
       "    <tr>\n",
       "      <th>897</th>\n",
       "      <td>643601251.0</td>\n",
       "    </tr>\n",
       "    <tr>\n",
       "      <th>899</th>\n",
       "      <td>643625553.0</td>\n",
       "    </tr>\n",
       "  </tbody>\n",
       "</table>\n",
       "<p>346 rows × 1 columns</p>\n",
       "</div>"
      ],
      "text/plain": [
       "     specimen_id\n",
       "2    485537619.0\n",
       "5    486749782.0\n",
       "7    488385201.0\n",
       "8    488386399.0\n",
       "11   488386504.0\n",
       "..           ...\n",
       "890  642981071.0\n",
       "891  643572206.0\n",
       "894  643584386.0\n",
       "897  643601251.0\n",
       "899  643625553.0\n",
       "\n",
       "[346 rows x 1 columns]"
      ]
     },
     "execution_count": 580,
     "metadata": {},
     "output_type": "execute_result"
    }
   ],
   "source": [
    "test = Class_model(model_file, scaler_file, model_file2, scaler_file2)\n",
    "test.load_and_clean_data('ME_200501.csv')\n",
    "inh = test.predicted_outputs()\n",
    "inh= inh[inh['predicted_subclass'] == 'Inhibitory']\n",
    "inh[['specimen_id']]"
   ]
  },
  {
   "cell_type": "code",
   "execution_count": null,
   "metadata": {},
   "outputs": [],
   "source": [
    "# need to find some way to first run class_model and then run subclass_model on only the specimen ids for inh"
   ]
  },
  {
   "cell_type": "code",
   "execution_count": 570,
   "metadata": {},
   "outputs": [
    {
     "ename": "KeyError",
     "evalue": "'threshold_v_short_square'",
     "output_type": "error",
     "traceback": [
      "\u001b[1;31m---------------------------------------------------------------------------\u001b[0m",
      "\u001b[1;31mKeyError\u001b[0m                                  Traceback (most recent call last)",
      "\u001b[1;32m~\\AppData\\Local\\Continuum\\anaconda2\\envs\\umap3\\lib\\site-packages\\pandas\\core\\indexes\\base.py\u001b[0m in \u001b[0;36mget_loc\u001b[1;34m(self, key, method, tolerance)\u001b[0m\n\u001b[0;32m   2896\u001b[0m             \u001b[1;32mtry\u001b[0m\u001b[1;33m:\u001b[0m\u001b[1;33m\u001b[0m\u001b[1;33m\u001b[0m\u001b[0m\n\u001b[1;32m-> 2897\u001b[1;33m                 \u001b[1;32mreturn\u001b[0m \u001b[0mself\u001b[0m\u001b[1;33m.\u001b[0m\u001b[0m_engine\u001b[0m\u001b[1;33m.\u001b[0m\u001b[0mget_loc\u001b[0m\u001b[1;33m(\u001b[0m\u001b[0mkey\u001b[0m\u001b[1;33m)\u001b[0m\u001b[1;33m\u001b[0m\u001b[1;33m\u001b[0m\u001b[0m\n\u001b[0m\u001b[0;32m   2898\u001b[0m             \u001b[1;32mexcept\u001b[0m \u001b[0mKeyError\u001b[0m\u001b[1;33m:\u001b[0m\u001b[1;33m\u001b[0m\u001b[1;33m\u001b[0m\u001b[0m\n",
      "\u001b[1;32mpandas/_libs/index.pyx\u001b[0m in \u001b[0;36mpandas._libs.index.IndexEngine.get_loc\u001b[1;34m()\u001b[0m\n",
      "\u001b[1;32mpandas/_libs/index.pyx\u001b[0m in \u001b[0;36mpandas._libs.index.IndexEngine.get_loc\u001b[1;34m()\u001b[0m\n",
      "\u001b[1;32mpandas/_libs/hashtable_class_helper.pxi\u001b[0m in \u001b[0;36mpandas._libs.hashtable.PyObjectHashTable.get_item\u001b[1;34m()\u001b[0m\n",
      "\u001b[1;32mpandas/_libs/hashtable_class_helper.pxi\u001b[0m in \u001b[0;36mpandas._libs.hashtable.PyObjectHashTable.get_item\u001b[1;34m()\u001b[0m\n",
      "\u001b[1;31mKeyError\u001b[0m: 'threshold_v_short_square'",
      "\nDuring handling of the above exception, another exception occurred:\n",
      "\u001b[1;31mKeyError\u001b[0m                                  Traceback (most recent call last)",
      "\u001b[1;32m<ipython-input-570-ad6a05030198>\u001b[0m in \u001b[0;36m<module>\u001b[1;34m\u001b[0m\n\u001b[0;32m      2\u001b[0m \u001b[0mmodel_file\u001b[0m \u001b[1;33m=\u001b[0m \u001b[0mpickle\u001b[0m\u001b[1;33m.\u001b[0m\u001b[0mload\u001b[0m\u001b[1;33m(\u001b[0m\u001b[0mopen\u001b[0m\u001b[1;33m(\u001b[0m\u001b[1;34m'human_subclass_model'\u001b[0m\u001b[1;33m,\u001b[0m \u001b[1;34m'rb'\u001b[0m\u001b[1;33m)\u001b[0m\u001b[1;33m)\u001b[0m\u001b[1;33m\u001b[0m\u001b[1;33m\u001b[0m\u001b[0m\n\u001b[0;32m      3\u001b[0m \u001b[0mscaler_file\u001b[0m \u001b[1;33m=\u001b[0m \u001b[0mpickle\u001b[0m\u001b[1;33m.\u001b[0m\u001b[0mload\u001b[0m\u001b[1;33m(\u001b[0m\u001b[0mopen\u001b[0m\u001b[1;33m(\u001b[0m\u001b[1;34m'human_subclass_scaler'\u001b[0m\u001b[1;33m,\u001b[0m \u001b[1;34m'rb'\u001b[0m\u001b[1;33m)\u001b[0m\u001b[1;33m)\u001b[0m\u001b[1;33m\u001b[0m\u001b[1;33m\u001b[0m\u001b[0m\n\u001b[1;32m----> 4\u001b[1;33m \u001b[0mtest2\u001b[0m\u001b[1;33m.\u001b[0m\u001b[0mload_and_clean_data\u001b[0m\u001b[1;33m(\u001b[0m\u001b[1;34m'inh.csv'\u001b[0m\u001b[1;33m)\u001b[0m\u001b[1;33m\u001b[0m\u001b[1;33m\u001b[0m\u001b[0m\n\u001b[0m\u001b[0;32m      5\u001b[0m \u001b[0mtest2\u001b[0m\u001b[1;33m.\u001b[0m\u001b[0mpredicted_outputs\u001b[0m\u001b[1;33m(\u001b[0m\u001b[1;33m)\u001b[0m\u001b[1;33m\u001b[0m\u001b[1;33m\u001b[0m\u001b[0m\n",
      "\u001b[1;32m<ipython-input-563-40b87c6f1d3b>\u001b[0m in \u001b[0;36mload_and_clean_data\u001b[1;34m(self, data_file)\u001b[0m\n\u001b[0;32m     13\u001b[0m         \u001b[1;31m#store data in a new variable for later use\u001b[0m\u001b[1;33m\u001b[0m\u001b[1;33m\u001b[0m\u001b[1;33m\u001b[0m\u001b[0m\n\u001b[0;32m     14\u001b[0m         \u001b[0mself\u001b[0m\u001b[1;33m.\u001b[0m\u001b[0mdf_with_predicitons\u001b[0m \u001b[1;33m=\u001b[0m \u001b[0mdf\u001b[0m\u001b[1;33m.\u001b[0m\u001b[0mcopy\u001b[0m\u001b[1;33m(\u001b[0m\u001b[1;33m)\u001b[0m\u001b[1;33m\u001b[0m\u001b[1;33m\u001b[0m\u001b[0m\n\u001b[1;32m---> 15\u001b[1;33m         \u001b[0mdf\u001b[0m\u001b[1;33m[\u001b[0m\u001b[1;34m'fast_ahp'\u001b[0m\u001b[1;33m]\u001b[0m\u001b[1;33m=\u001b[0m \u001b[0mdf\u001b[0m\u001b[1;33m[\u001b[0m\u001b[1;34m'threshold_v_short_square'\u001b[0m\u001b[1;33m]\u001b[0m \u001b[1;33m-\u001b[0m \u001b[0mdf\u001b[0m\u001b[1;33m[\u001b[0m\u001b[1;34m'fast_trough_v_short_square'\u001b[0m\u001b[1;33m]\u001b[0m\u001b[1;33m\u001b[0m\u001b[1;33m\u001b[0m\u001b[0m\n\u001b[0m\u001b[0;32m     16\u001b[0m \u001b[1;31m#         features = ['tau', 'upstroke_downstroke_ratio_short_square',\u001b[0m\u001b[1;33m\u001b[0m\u001b[1;33m\u001b[0m\u001b[1;33m\u001b[0m\u001b[0m\n\u001b[0;32m     17\u001b[0m \u001b[1;31m#            'threshold_v_ramp',\u001b[0m\u001b[1;33m\u001b[0m\u001b[1;33m\u001b[0m\u001b[1;33m\u001b[0m\u001b[0m\n",
      "\u001b[1;32m~\\AppData\\Local\\Continuum\\anaconda2\\envs\\umap3\\lib\\site-packages\\pandas\\core\\frame.py\u001b[0m in \u001b[0;36m__getitem__\u001b[1;34m(self, key)\u001b[0m\n\u001b[0;32m   2993\u001b[0m             \u001b[1;32mif\u001b[0m \u001b[0mself\u001b[0m\u001b[1;33m.\u001b[0m\u001b[0mcolumns\u001b[0m\u001b[1;33m.\u001b[0m\u001b[0mnlevels\u001b[0m \u001b[1;33m>\u001b[0m \u001b[1;36m1\u001b[0m\u001b[1;33m:\u001b[0m\u001b[1;33m\u001b[0m\u001b[1;33m\u001b[0m\u001b[0m\n\u001b[0;32m   2994\u001b[0m                 \u001b[1;32mreturn\u001b[0m \u001b[0mself\u001b[0m\u001b[1;33m.\u001b[0m\u001b[0m_getitem_multilevel\u001b[0m\u001b[1;33m(\u001b[0m\u001b[0mkey\u001b[0m\u001b[1;33m)\u001b[0m\u001b[1;33m\u001b[0m\u001b[1;33m\u001b[0m\u001b[0m\n\u001b[1;32m-> 2995\u001b[1;33m             \u001b[0mindexer\u001b[0m \u001b[1;33m=\u001b[0m \u001b[0mself\u001b[0m\u001b[1;33m.\u001b[0m\u001b[0mcolumns\u001b[0m\u001b[1;33m.\u001b[0m\u001b[0mget_loc\u001b[0m\u001b[1;33m(\u001b[0m\u001b[0mkey\u001b[0m\u001b[1;33m)\u001b[0m\u001b[1;33m\u001b[0m\u001b[1;33m\u001b[0m\u001b[0m\n\u001b[0m\u001b[0;32m   2996\u001b[0m             \u001b[1;32mif\u001b[0m \u001b[0mis_integer\u001b[0m\u001b[1;33m(\u001b[0m\u001b[0mindexer\u001b[0m\u001b[1;33m)\u001b[0m\u001b[1;33m:\u001b[0m\u001b[1;33m\u001b[0m\u001b[1;33m\u001b[0m\u001b[0m\n\u001b[0;32m   2997\u001b[0m                 \u001b[0mindexer\u001b[0m \u001b[1;33m=\u001b[0m \u001b[1;33m[\u001b[0m\u001b[0mindexer\u001b[0m\u001b[1;33m]\u001b[0m\u001b[1;33m\u001b[0m\u001b[1;33m\u001b[0m\u001b[0m\n",
      "\u001b[1;32m~\\AppData\\Local\\Continuum\\anaconda2\\envs\\umap3\\lib\\site-packages\\pandas\\core\\indexes\\base.py\u001b[0m in \u001b[0;36mget_loc\u001b[1;34m(self, key, method, tolerance)\u001b[0m\n\u001b[0;32m   2897\u001b[0m                 \u001b[1;32mreturn\u001b[0m \u001b[0mself\u001b[0m\u001b[1;33m.\u001b[0m\u001b[0m_engine\u001b[0m\u001b[1;33m.\u001b[0m\u001b[0mget_loc\u001b[0m\u001b[1;33m(\u001b[0m\u001b[0mkey\u001b[0m\u001b[1;33m)\u001b[0m\u001b[1;33m\u001b[0m\u001b[1;33m\u001b[0m\u001b[0m\n\u001b[0;32m   2898\u001b[0m             \u001b[1;32mexcept\u001b[0m \u001b[0mKeyError\u001b[0m\u001b[1;33m:\u001b[0m\u001b[1;33m\u001b[0m\u001b[1;33m\u001b[0m\u001b[0m\n\u001b[1;32m-> 2899\u001b[1;33m                 \u001b[1;32mreturn\u001b[0m \u001b[0mself\u001b[0m\u001b[1;33m.\u001b[0m\u001b[0m_engine\u001b[0m\u001b[1;33m.\u001b[0m\u001b[0mget_loc\u001b[0m\u001b[1;33m(\u001b[0m\u001b[0mself\u001b[0m\u001b[1;33m.\u001b[0m\u001b[0m_maybe_cast_indexer\u001b[0m\u001b[1;33m(\u001b[0m\u001b[0mkey\u001b[0m\u001b[1;33m)\u001b[0m\u001b[1;33m)\u001b[0m\u001b[1;33m\u001b[0m\u001b[1;33m\u001b[0m\u001b[0m\n\u001b[0m\u001b[0;32m   2900\u001b[0m         \u001b[0mindexer\u001b[0m \u001b[1;33m=\u001b[0m \u001b[0mself\u001b[0m\u001b[1;33m.\u001b[0m\u001b[0mget_indexer\u001b[0m\u001b[1;33m(\u001b[0m\u001b[1;33m[\u001b[0m\u001b[0mkey\u001b[0m\u001b[1;33m]\u001b[0m\u001b[1;33m,\u001b[0m \u001b[0mmethod\u001b[0m\u001b[1;33m=\u001b[0m\u001b[0mmethod\u001b[0m\u001b[1;33m,\u001b[0m \u001b[0mtolerance\u001b[0m\u001b[1;33m=\u001b[0m\u001b[0mtolerance\u001b[0m\u001b[1;33m)\u001b[0m\u001b[1;33m\u001b[0m\u001b[1;33m\u001b[0m\u001b[0m\n\u001b[0;32m   2901\u001b[0m         \u001b[1;32mif\u001b[0m \u001b[0mindexer\u001b[0m\u001b[1;33m.\u001b[0m\u001b[0mndim\u001b[0m \u001b[1;33m>\u001b[0m \u001b[1;36m1\u001b[0m \u001b[1;32mor\u001b[0m \u001b[0mindexer\u001b[0m\u001b[1;33m.\u001b[0m\u001b[0msize\u001b[0m \u001b[1;33m>\u001b[0m \u001b[1;36m1\u001b[0m\u001b[1;33m:\u001b[0m\u001b[1;33m\u001b[0m\u001b[1;33m\u001b[0m\u001b[0m\n",
      "\u001b[1;32mpandas/_libs/index.pyx\u001b[0m in \u001b[0;36mpandas._libs.index.IndexEngine.get_loc\u001b[1;34m()\u001b[0m\n",
      "\u001b[1;32mpandas/_libs/index.pyx\u001b[0m in \u001b[0;36mpandas._libs.index.IndexEngine.get_loc\u001b[1;34m()\u001b[0m\n",
      "\u001b[1;32mpandas/_libs/hashtable_class_helper.pxi\u001b[0m in \u001b[0;36mpandas._libs.hashtable.PyObjectHashTable.get_item\u001b[1;34m()\u001b[0m\n",
      "\u001b[1;32mpandas/_libs/hashtable_class_helper.pxi\u001b[0m in \u001b[0;36mpandas._libs.hashtable.PyObjectHashTable.get_item\u001b[1;34m()\u001b[0m\n",
      "\u001b[1;31mKeyError\u001b[0m: 'threshold_v_short_square'"
     ]
    }
   ],
   "source": [
    "test2 = Subclass_model(model_file, scaler_file)\n",
    "model_file = pickle.load(open('human_subclass_model', 'rb'))\n",
    "scaler_file = pickle.load(open('human_subclass_scaler', 'rb'))\n",
    "test2.load_and_clean_data('inh.csv')\n",
    "test2.predicted_outputs()\n"
   ]
  },
  {
   "cell_type": "code",
   "execution_count": null,
   "metadata": {},
   "outputs": [],
   "source": []
  }
 ],
 "metadata": {
  "kernelspec": {
   "display_name": "Python 3",
   "language": "python",
   "name": "python3"
  },
  "language_info": {
   "codemirror_mode": {
    "name": "ipython",
    "version": 3
   },
   "file_extension": ".py",
   "mimetype": "text/x-python",
   "name": "python",
   "nbconvert_exporter": "python",
   "pygments_lexer": "ipython3",
   "version": "3.7.3"
  }
 },
 "nbformat": 4,
 "nbformat_minor": 2
}
